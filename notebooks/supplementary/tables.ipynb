{
 "cells": [
  {
   "cell_type": "markdown",
   "id": "c81632f2-f8e1-49df-8551-8ee07a19698a",
   "metadata": {},
   "source": [
    "# Tables\n",
    "\n",
    "This notebook creates all tables included in the publication"
   ]
  },
  {
   "cell_type": "code",
   "execution_count": 2,
   "id": "703e7712-6605-41ca-8f6f-f22a841a086c",
   "metadata": {},
   "outputs": [],
   "source": [
    "import pickle\n",
    "import sys\n",
    "import matplotlib.pyplot as plt\n",
    "import numpy as np\n",
    "from tqdm.auto import tqdm\n",
    "import os\n",
    "import pandas as pd\n",
    "import datetime\n",
    "import matplotlib.ticker as ticker\n",
    "sys.path.append(\"../../\")\n",
    "sys.path.append(\"../../covid19_inference\")\n",
    "sys.path.append(\"../\")\n",
    "\n",
    "import covid19_soccer\n",
    "from covid19_soccer.plot.utils import get_from_trace\n",
    "import covid19_inference as cov19\n",
    "from header_plotting import *"
   ]
  },
  {
   "cell_type": "code",
   "execution_count": 3,
   "id": "cf7ece54-6ae6-4c3f-88aa-06594281c803",
   "metadata": {},
   "outputs": [],
   "source": [
    "%load_ext autoreload\n",
    "%autoreload 2"
   ]
  },
  {
   "cell_type": "code",
   "execution_count": 17,
   "id": "40acb493-0982-4e37-a6bf-e95f297217d7",
   "metadata": {},
   "outputs": [
    {
     "data": {
      "application/vnd.jupyter.widget-view+json": {
       "model_id": "ce7e9dc50f4643ca89aa30d72f5f87c7",
       "version_major": 2,
       "version_minor": 0
      },
      "text/plain": [
       "  0%|          | 0/12 [00:00<?, ?it/s]"
      ]
     },
     "metadata": {},
     "output_type": "display_data"
    },
    {
     "name": "stdout",
     "output_type": "stream",
     "text": [
      " not found\n",
      " not found\n",
      " not found\n",
      " not found\n",
      " not found\n",
      " not found\n",
      " not found\n",
      " not found\n",
      " not found\n",
      " not found\n",
      " not found\n",
      " not found\n"
     ]
    }
   ],
   "source": [
    "def load(fstr):\n",
    "    with open(fstr, \"rb\") as f:\n",
    "         return pickle.load(f)\n",
    "\n",
    "countries = [\"England\",\"Czechia\",\"Italy\",\"Scotland\",\"Spain\",\"Germany\",\"France\",\"Slovakia\",\"Austria\",\"Belgium\",\"Portugal\",\"Netherlands\"]\n",
    "traces, models, dls = [], [], []\n",
    "for country in tqdm(countries):\n",
    "    #'UEFA-beta=False-country=England-offset_games=0-draw_delay=True-weighted_alpha_prior=0-prior_delay=-1-width_delay_prior=0.1-sigma_incubation=-1.0-median_width_delay=1.0-tune=200-draws=300-max_treedepth=10.pickled'\n",
    "    model = None\n",
    "    fstr=lambda tune, draws, max_treedepth: (f\"/data.nst/smohr/covid19_soccer_data/main_traces/\"+\n",
    "        f\"-beta=False\"+\n",
    "        f\"-country={country}\"+\n",
    "        f\"-offset_data=0\"+\n",
    "        f\"-prior_delay=-1\"+\n",
    "        f\"-width_delay_prior=0.1\"+\n",
    "        f\"-sigma_incubation=-1.0\"+\n",
    "        f\"-median_width_delay=1.0\"+\n",
    "        f\"-interval_cps=10.0\"+\n",
    "        f\"-f_fem=0.2\"+\n",
    "        f\"-uc=True\"\n",
    "        f\"-len=normal\"+                    \n",
    "        f\"-t={tune}\"+\n",
    "        f\"-d={draws}\"+\n",
    "        f\"-max_treedepth={max_treedepth}.pkl\")\n",
    "    \n",
    "    dl = covid19_soccer.dataloader.Dataloader_gender(countries=[country])\n",
    "    dls.append(dl)\n",
    "    #print(fstr(4000, 8000, 12))\n",
    "    if os.path.exists(fstr(4000, 8000, 12)):\n",
    "        try:\n",
    "            model, trace = load(fstr(4000, 8000, 12))\n",
    "            print(f\"Use 8000 sample runs for {country}\")\n",
    "        except:\n",
    "            pass\n",
    "    if model is None and os.path.exists(fstr(2000, 4000, 12)):\n",
    "        try:\n",
    "            model, trace = load(fstr(2000, 4000, 12))\n",
    "            print(f\"Use 4000 sample runs for {country}\")\n",
    "        except:\n",
    "            pass\n",
    "    if model is None and os.path.exists(fstr(1000, 1500, 12)):\n",
    "        try: \n",
    "            model, trace = load(fstr(1000, 1500, 12))\n",
    "            print(f\"Use 1500 sample runs for {country}\")\n",
    "        except:\n",
    "            pass\n",
    "    if model is None:\n",
    "        print(\" not found\")\n",
    "        continue\n",
    "    \n",
    "    # Remove chains with likelihood larger than -200, should only be the case for 2 chains in France\n",
    "    mask = (np.mean(trace.sample_stats.lp, axis=1)>-200)\n",
    "    trace.posterior = trace.posterior.sel(chain=~mask)\n",
    "    \n",
    "    models.append(model)\n",
    "    traces.append(trace)\n",
    "    "
   ]
  },
  {
   "cell_type": "code",
   "execution_count": 29,
   "id": "c9e04663-d784-4c12-be4a-44da602a2979",
   "metadata": {},
   "outputs": [
    {
     "data": {
      "application/vnd.jupyter.widget-view+json": {
       "model_id": "04cd8d6e3d06479d9e16558a38103f24",
       "version_major": 2,
       "version_minor": 0
      },
      "text/plain": [
       "0it [00:00, ?it/s]"
      ]
     },
     "metadata": {},
     "output_type": "display_data"
    }
   ],
   "source": [
    "infections_no = []\n",
    "infections_primary = []\n",
    "infections_secondary = []\n",
    "for i, country in tqdm(enumerate(countries)):\n",
    "    trace_without_soccer, trace_primary_soccer = load(f\"/data.nst/smohr/covid19_soccer_data/primary_and_subsequent/{country}.pkl\")\n",
    "    shape = trace_without_soccer.predictions[\"new_cases\"].to_numpy().shape\n",
    "    x = pd.date_range(models[i].sim_begin, models[i].sim_end)\n",
    "    y0 = trace_without_soccer.predictions[\"new_cases\"].to_numpy().reshape(shape[0]*shape[1]*shape[2],shape[3],shape[4])\n",
    "    y1 = trace_primary_soccer.predictions[\"new_cases\"].to_numpy().reshape(shape[0]*shape[1]*shape[2],shape[3],shape[4]) - y0\n",
    "    y2 = traces[i].posterior[\"new_cases\"].to_numpy().reshape(shape[0]*shape[1]*shape[2],shape[3],shape[4]) - y1 - y0\n",
    "\n",
    "    begin = datetime.datetime(2021, 6, 11)\n",
    "    end = datetime.datetime(2021, 7, 31)\n",
    "    i_begin = (begin - model.sim_begin).days\n",
    "    i_end = (end - model.sim_begin).days + 1  # inclusiv last day\n",
    "\n",
    "    y0 = np.sum(y0[..., i_begin:i_end, :], axis=-2)\n",
    "    y1 = np.sum(y1[..., i_begin:i_end, :], axis=-2)\n",
    "    y2 = np.sum(y2[..., i_begin:i_end, :], axis=-2)\n",
    "\n",
    "    infections_no.append(y0)\n",
    "    infections_primary.append(y1)\n",
    "    infections_secondary.append(y2)"
   ]
  },
  {
   "cell_type": "code",
   "execution_count": 30,
   "id": "68c8dc7f-ef0a-49e2-96d5-1b075db24ba3",
   "metadata": {},
   "outputs": [],
   "source": [
    "data_primary  = pd.DataFrame()\n",
    "means = []\n",
    "for i,country in enumerate(countries):\n",
    "    # compute fraction of infected people\n",
    "    t_numpy = infections_primary[i] / (infections_no[i] + infections_primary[i] + infections_secondary[i]) * 100\n",
    "\n",
    "    male = np.stack(\n",
    "        (t_numpy[:, 0], np.zeros(t_numpy[:, 0].shape)), axis=1\n",
    "    )\n",
    "    female = np.stack(\n",
    "        (t_numpy[:, 1], np.ones(t_numpy[:, 1].shape)), axis=1\n",
    "    )\n",
    "    # Create dataframe for plotting\n",
    "    temp = pd.DataFrame(np.concatenate((male, female)), columns=[\"percentage_primary\", \"gender\"])\n",
    "    temp[\"gender\"] = pd.cut(\n",
    "        temp[\"gender\"], bins=[-1, 0.5, 1], labels=[\"male\", \"female\"]\n",
    "    )\n",
    "    temp[\"country\"] = country\n",
    "    data_primary = pd.concat([data_primary, temp])\n",
    "    means.append(np.mean(temp[\"percentage_primary\"]))\n",
    "country_order_primar = np.argsort(means)[::-1]\n",
    "\n",
    "data_primary_and_subsequent = pd.DataFrame()\n",
    "means = []\n",
    "for i, country in enumerate(countries):\n",
    "\n",
    "    # compute fraction\n",
    "    t_numpy = (infections_primary[i]+infections_secondary[i])/(infections_no[i] + infections_primary[i] + infections_secondary[i]) * 100\n",
    "\n",
    "    male = np.stack(\n",
    "        (t_numpy[:, 0], np.zeros(t_numpy[:, 0].shape)), axis=1\n",
    "    )\n",
    "    female = np.stack(\n",
    "        (t_numpy[:, 1], np.ones(t_numpy[:, 1].shape)), axis=1\n",
    "    )\n",
    "    # Create dataframe for plotting\n",
    "    temp = pd.DataFrame(np.concatenate((male, female)), columns=[\"percentage_primary_and_subsequent\", \"gender\"])\n",
    "    temp[\"gender\"] = pd.cut(\n",
    "        temp[\"gender\"], bins=[-1, 0.5, 1], labels=[\"male\", \"female\"]\n",
    "    )\n",
    "    temp[\"country\"] = country\n",
    "    data_primary_and_subsequent = pd.concat([data_primary_and_subsequent, temp])\n",
    "    means.append(np.mean(temp[\"percentage_primary_and_subsequent\"]))\n",
    "country_order_primary_and_subsequent = np.argsort(means)[::-1]"
   ]
  },
  {
   "cell_type": "code",
   "execution_count": 31,
   "id": "792c12c7-117c-42fe-aa6d-75030c9b103e",
   "metadata": {},
   "outputs": [],
   "source": [
    "# Compute interesting values as fraction and as incidence\n",
    "primary_frac = []\n",
    "for i, country in enumerate(countries):\n",
    "    temp = data_primary[data_primary[\"country\"] == country].drop(columns=[\"country\",\"gender\"])\n",
    "    primary_frac.append(temp.to_numpy()[:,0])\n",
    "\n",
    "\n",
    "primary_and_subsequent_frac = []\n",
    "for i, country in enumerate(countries):\n",
    "    temp = data_primary_and_subsequent[data_primary_and_subsequent[\"country\"] == country].drop(columns=[\"country\",\"gender\"])\n",
    "    primary_and_subsequent_frac.append(temp.to_numpy()[:,0])\n",
    "\n",
    "\n",
    "primary_inci = []\n",
    "for i, country in enumerate(countries):\n",
    "    temp = infections_primary[i]\n",
    "    primary_inci.append(temp / dls[i].population[0]*1e6)\n",
    "\n",
    "primary_and_subsequent_inci = []\n",
    "for i, country in enumerate(countries):\n",
    "    temp = infections_primary[i] + infections_secondary[i]\n",
    "    primary_and_subsequent_inci.append(temp/ dls[i].population[0]*1e6)\n",
    "\n",
    "primary_cases = []\n",
    "for i, country in enumerate(countries):\n",
    "    temp = infections_primary[i]\n",
    "    primary_cases.append(temp)\n",
    "\n",
    "primary_and_subsequent_cases = []\n",
    "for i, country in enumerate(countries):\n",
    "    temp = infections_primary[i] + infections_secondary[i]\n",
    "    primary_and_subsequent_cases.append(temp)\n",
    "    \n"
   ]
  },
  {
   "cell_type": "markdown",
   "id": "4137a76e-51e0-4054-9384-aedb2e979b88",
   "metadata": {},
   "source": [
    "## SI Table 1: Fractions"
   ]
  },
  {
   "cell_type": "code",
   "execution_count": 32,
   "id": "f992ba63-078e-4a20-adf1-38d3767efb68",
   "metadata": {},
   "outputs": [],
   "source": [
    "table = []\n",
    "for i, country in enumerate(countries):\n",
    "    # Primary infections\n",
    "    data  = data_primary[data_primary[\"country\"] == country]\n",
    "\n",
    "    CI = np.percentile(data[\"percentage_primary\"], q = (2.5,50,97.5))\n",
    "    prob_positive = np.sum(data[\"percentage_primary\"] > 0) / data[\"percentage_primary\"].shape[0] * 100\n",
    "\n",
    "    # Secondary infections and primary\n",
    "    data  = data_primary_and_subsequent[data_primary_and_subsequent[\"country\"] == country]\n",
    "    CI_sub = np.percentile(data[\"percentage_primary_and_subsequent\"], q = (2.5,50,97.5))\n",
    "    \n",
    "    # Create table entries\n",
    "    if prob_positive > 99.9:\n",
    "        text_prob_pos = \"$> 99.9$\\%\"\n",
    "    else:\n",
    "        text_prob_pos = f\"{prob_positive:.1f}\\%\"\n",
    "\n",
    "    table.append([country, f\"{CI[1]:.1f}\\% [{CI[0]:.1f}\\%, {CI[2]:.1f}\\%]\", text_prob_pos,\n",
    "              f\"{CI_sub[1]:.1f}\\% [{CI_sub[0]:.1f}\\%, {CI_sub[2]:.1f}\\%]\"])"
   ]
  },
  {
   "cell_type": "code",
   "execution_count": 33,
   "id": "85a52a13-e2ab-4184-97e8-96cf8dd0feda",
   "metadata": {},
   "outputs": [
    {
     "name": "stdout",
     "output_type": "stream",
     "text": [
      "\\begin{tabular}{llll}\n",
      "\\hline\n",
      " Country     & median fraction soccer related cases   & probability soccer increased cases   & fraction secondary infections until 31.07.2021   \\\\\n",
      "\\hline\n",
      " England     & 9.2\\% [4.4\\%, 16.8\\%]                  & $> 99.9$\\%                           & 41.8\\% [29.3\\%, 53.9\\%]                          \\\\\n",
      " Czechia     & 4.3\\% [0.4\\%, 13.9\\%]                  & 98.9\\%                               & 39.3\\% [5.3\\%, 63.7\\%]                           \\\\\n",
      " Italy       & 2.3\\% [-2.6\\%, 12.4\\%]                 & 87.0\\%                               & 31.4\\% [-95.3\\%, 74.0\\%]                         \\\\\n",
      " Scotland    & 4.2\\% [1.4\\%, 10.2\\%]                  & $> 99.9$\\%                           & 43.3\\% [32.9\\%, 53.2\\%]                          \\\\\n",
      " Spain       & 1.0\\% [-0.3\\%, 4.0\\%]                  & 94.6\\%                               & 16.1\\% [-9.1\\%, 33.0\\%]                          \\\\\n",
      " Germany     & 0.5\\% [-1.4\\%, 3.4\\%]                  & 79.5\\%                               & 13.2\\% [-27.9\\%, 36.9\\%]                         \\\\\n",
      " France      & 0.2\\% [-0.2\\%, 1.2\\%]                  & 88.8\\%                               & 13.4\\% [-9.9\\%, 35.1\\%]                          \\\\\n",
      " Slovakia    & 0.5\\% [-7.7\\%, 8.6\\%]                  & 62.8\\%                               & 8.5\\% [-82.5\\%, 47.1\\%]                          \\\\\n",
      " Austria     & 0.2\\% [-2.3\\%, 3.4\\%]                  & 62.9\\%                               & 7.8\\% [-55.4\\%, 46.3\\%]                          \\\\\n",
      " Belgium     & 0.3\\% [-1.6\\%, 2.8\\%]                  & 69.9\\%                               & 7.2\\% [-33.3\\%, 34.7\\%]                          \\\\\n",
      " Portugal    & -0.1\\% [-2.1\\%, 1.6\\%]                 & 44.4\\%                               & -6.6\\% [-34.9\\%, 14.0\\%]                         \\\\\n",
      " Netherlands & -0.6\\% [-2.2\\%, -0.0\\%]                & 0.9\\%                                & -23.9\\% [-80.0\\%, 2.5\\%]                         \\\\\n",
      "\\hline\n",
      "\\end{tabular}\n"
     ]
    }
   ],
   "source": [
    "from tabulate import tabulate\n",
    "headers = ['Country', 'median fraction soccer related cases', 'probability soccer increased cases', \"fraction secondary infections until 31.07.2021\"]\n",
    "print(tabulate(table, headers, tablefmt=\"latex_raw\"))"
   ]
  },
  {
   "cell_type": "markdown",
   "id": "b954b55f-b943-4598-ac06-bd8afc0b7ebc",
   "metadata": {},
   "source": [
    "## SI Table 2: Totals"
   ]
  },
  {
   "cell_type": "code",
   "execution_count": 36,
   "id": "fedbd097-e3c6-4ee8-af92-cf1e97c2b260",
   "metadata": {},
   "outputs": [],
   "source": [
    "table_2 = []\n",
    "for i, country in enumerate(countries):\n",
    "    \n",
    "    c = country_order_primar[i]\n",
    "\n",
    "    row = []\n",
    "    \n",
    "    primary_mean, primary_lower, primary_upper = np.percentile(primary_inci[c], q = (50,2.5,97.5), axis=0)\n",
    "    subs_mean, subs_lower, subs_upper = np.percentile(primary_and_subsequent_inci[c], q = (50,2.5,97.5), axis=0)\n",
    "    \n",
    "    row.append(country)\n",
    "    for m,l,u in zip(primary_mean, primary_lower, primary_upper):\n",
    "        row.append(f\"{m:.0f} [{l:.0f}, {u:.0f}]\")\n",
    "    for m,l,u in zip(subs_mean, subs_lower, subs_upper):\n",
    "        row.append(f\"{m:.0f} [{l:.0f}, {u:.0f}]\")    \n",
    "    \n",
    "    table_2.append(row)"
   ]
  },
  {
   "cell_type": "code",
   "execution_count": 37,
   "id": "90a4358c-a792-463d-9d79-ff3237a8d833",
   "metadata": {},
   "outputs": [
    {
     "name": "stdout",
     "output_type": "stream",
     "text": [
      "\\begin{tabular}{lllll}\n",
      "\\hline\n",
      " Country     & Primary cases per $10^6$ inhibitants (male)   & Primary cases per $10^6$ inhibitants (female)   & Primary and subsequent cases per $10^6$ inhibitants (male)   & Primary and subsequent cases per $10^6$ inhibitants (female)   \\\\\n",
      "\\hline\n",
      " England     & 3091 [2174, 4092]                             & 1342 [890, 1972]                                & 10326 [7438, 12919]                                          & 8568 [6091, 11004]                                             \\\\\n",
      " Czechia     & 1760 [1342, 2191]                             & 405 [253, 609]                                  & 9623 [7924, 11293]                                           & 7616 [6052, 9272]                                              \\\\\n",
      " Italy       & 59 [9, 119]                                   & 17 [2, 52]                                      & 320 [45, 513]                                                & 287 [37, 466]                                                  \\\\\n",
      " Scotland    & 91 [-72, 262]                                 & 23 [-19, 80]                                    & 603 [-1775, 1409]                                            & 493 [-1529, 1171]                                              \\\\\n",
      " Spain       & 368 [-115, 748]                               & 94 [-32, 269]                                   & 2888 [-1587, 5795]                                           & 2586 [-1500, 5367]                                             \\\\\n",
      " Germany     & 9 [-16, 30]                                   & 2 [-5, 10]                                      & 107 [-227, 298]                                              & 92 [-194, 257]                                                 \\\\\n",
      " France      & 4 [-35, 33]                                   & 1 [-9, 10]                                      & 30 [-282, 162]                                               & 28 [-270, 153]                                                 \\\\\n",
      " Slovakia    & 29 [-91, 142]                                 & 7 [-25, 42]                                     & 322 [-1473, 1531]                                            & 298 [-1381, 1450]                                              \\\\\n",
      " Austria     & 15 [-79, 109]                                 & 4 [-22, 33]                                     & 215 [-1528, 1271]                                            & 190 [-1344, 1127]                                              \\\\\n",
      " Belgium     & 31 [-19, 88]                                  & 8 [-5, 29]                                      & 884 [-655, 2299]                                             & 893 [-662, 2336]                                               \\\\\n",
      " Portugal    & -17 [-287, 228]                               & -4 [-90, 72]                                    & -768 [-4090, 1661]                                           & -774 [-4026, 1581]                                             \\\\\n",
      " Netherlands & -119 [-224, -14]                              & -30 [-169, -3]                                  & -2320 [-7660, 222]                                           & -2231 [-7654, 264]                                             \\\\\n",
      "\\hline\n",
      "\\end{tabular}\n"
     ]
    }
   ],
   "source": [
    "from tabulate import tabulate\n",
    "headers = ['Country', 'Primary cases per $10^6$ inhibitants (male)', 'Primary cases per $10^6$ inhibitants (female)', \"Primary and subsequent cases per $10^6$ inhibitants (male)\",\"Primary and subsequent cases per $10^6$ inhibitants (female)\"]\n",
    "print(tabulate(table_2, headers, tablefmt=\"latex_raw\"))"
   ]
  },
  {
   "cell_type": "code",
   "execution_count": 38,
   "id": "75bf3535-ed05-42ef-b313-8b5c986d6223",
   "metadata": {},
   "outputs": [
    {
     "name": "stderr",
     "output_type": "stream",
     "text": [
      "INFO     [covid19_inference.data_retrieval.retrieval] Successfully loaded OurWorldinData.csv.gz from /tmp/covid19_data/, skipping download.\n",
      "<ipython-input-38-03e3a00d3125>:12: SettingWithCopyWarning: \n",
      "A value is trying to be set on a copy of a slice from a DataFrame.\n",
      "Try using .loc[row_indexer,col_indexer] = value instead\n",
      "\n",
      "See the caveats in the documentation: https://pandas.pydata.org/pandas-docs/stable/user_guide/indexing.html#returning-a-view-versus-a-copy\n",
      "  df[\"ifr\"] = df[\"new_deaths\"]/df[\"new_cases\"]\n",
      "INFO     [covid19_inference.data_retrieval.retrieval] Successfully loaded OurWorldinData.csv.gz from /tmp/covid19_data/, skipping download.\n",
      "INFO     [covid19_inference.data_retrieval.retrieval] Successfully loaded OurWorldinData.csv.gz from /tmp/covid19_data/, skipping download.\n",
      "INFO     [covid19_inference.data_retrieval.retrieval] Successfully loaded OurWorldinData.csv.gz from /tmp/covid19_data/, skipping download.\n",
      "INFO     [covid19_inference.data_retrieval.retrieval] Successfully loaded OurWorldinData.csv.gz from /tmp/covid19_data/, skipping download.\n",
      "INFO     [covid19_inference.data_retrieval.retrieval] Successfully loaded OurWorldinData.csv.gz from /tmp/covid19_data/, skipping download.\n",
      "INFO     [covid19_inference.data_retrieval.retrieval] Successfully loaded OurWorldinData.csv.gz from /tmp/covid19_data/, skipping download.\n",
      "INFO     [covid19_inference.data_retrieval.retrieval] Successfully loaded OurWorldinData.csv.gz from /tmp/covid19_data/, skipping download.\n",
      "INFO     [covid19_inference.data_retrieval.retrieval] Successfully loaded OurWorldinData.csv.gz from /tmp/covid19_data/, skipping download.\n",
      "INFO     [covid19_inference.data_retrieval.retrieval] Successfully loaded OurWorldinData.csv.gz from /tmp/covid19_data/, skipping download.\n",
      "INFO     [covid19_inference.data_retrieval.retrieval] Successfully loaded OurWorldinData.csv.gz from /tmp/covid19_data/, skipping download.\n",
      "INFO     [covid19_inference.data_retrieval.retrieval] Successfully loaded OurWorldinData.csv.gz from /tmp/covid19_data/, skipping download.\n"
     ]
    }
   ],
   "source": [
    "table_2_5 = []\n",
    "owd = cov19.data_retrieval.OWD(True)\n",
    "\n",
    "for i, country in enumerate(countries):\n",
    "    row = []\n",
    "    c = country_order_primar[i]\n",
    "    \n",
    "    if country in [\"Scotland\",\"England\"]:\n",
    "        df = owd.data[owd.data[\"country\"] == \"United Kingdom\"]\n",
    "    else:\n",
    "        df = owd.data[owd.data[\"country\"] == country]\n",
    "    df[\"ifr\"] = df[\"new_deaths\"]/df[\"new_cases\"]\n",
    "\n",
    "    primary_mean, primary_lower, primary_upper = np.percentile(primary_cases[c], q = (50,2.5,97.5), axis=0)\n",
    "    subs_mean, subs_lower, subs_upper = np.percentile(np.sum(primary_and_subsequent_cases[c],axis=-1), q = (50,2.5,97.5), axis=0)\n",
    "    fat_mean, fat_lower, fat_upper = np.percentile(np.sum(primary_and_subsequent_cases[c],axis=-1)*df[\"ifr\"][begin:end].mean(), q = (50,2.5,97.5), axis=0)\n",
    "    \n",
    "    row.append(country)\n",
    "    for m,l,u in zip(primary_mean, primary_lower, primary_upper):\n",
    "        row.append(f\"{m:.0f} [{l:.0f}, {u:.0f}]\")\n",
    "\n",
    "    row.append(f\"{subs_mean:.0f} [{subs_lower:.0f}, {subs_upper:.0f}]\")    \n",
    "    \n",
    "    # Fatility\n",
    "    row.append(f\"{fat_mean:.0f} [{fat_lower:.0f}, {fat_upper:.0f}]\")\n",
    "    \n",
    "    table_2_5.append(row)\n",
    "    \n",
    "def reduce_samples(curr_list):\n",
    "    number_of_samples = 2000\n",
    "    for i, array in enumerate(curr_list):\n",
    "        array = array[np.random.choice(array.shape[0], number_of_samples, replace = False),...]\n",
    "        curr_list[i] = array\n",
    "    return np.array(curr_list)\n",
    "\n",
    "row= []\n",
    "pc = reduce_samples(primary_cases)\n",
    "psc = reduce_samples(primary_and_subsequent_cases)\n",
    "\n",
    "primary_mean, primary_lower, primary_upper = np.percentile(np.sum(pc,axis=0), q = (50,2.5,97.5), axis=0)\n",
    "subs_mean, subs_lower, subs_upper = np.percentile(np.sum(psc,axis=(0,-1)), q = (50,2.5,97.5), axis=0)\n",
    "fat_mean, fat_lower, fat_upper = np.percentile(np.sum(psc,axis=(0,-1))*0.002, q = (50,2.5,97.5), axis=0)\n",
    "\n",
    "row.append(\"Total\")\n",
    "for m,l,u in zip(primary_mean, primary_lower, primary_upper):\n",
    "    row.append(f\"{m:.0f} [{l:.0f}, {u:.0f}]\")\n",
    "\n",
    "row.append(f\"{subs_mean:.0f} [{subs_lower:.0f}, {subs_upper:.0f}]\")    \n",
    "\n",
    "# Fatility\n",
    "row.append(f\"{fat_mean:.0f} [{fat_lower:.0f}, {fat_upper:.0f}]\")\n",
    "\n",
    "table_2_5.append(row)"
   ]
  },
  {
   "cell_type": "code",
   "execution_count": 40,
   "id": "38485f50-4dfc-40b3-82ec-987293177975",
   "metadata": {},
   "outputs": [
    {
     "name": "stdout",
     "output_type": "stream",
     "text": [
      "\\begin{tabular}{lllll}\n",
      "\\hline\n",
      " Country     & Primary cases (male)   & Primary cases (female)   & Primary and subsequent cases   & Number of associated deaths   \\\\\n",
      "\\hline\n",
      " England     & 80573 [56679, 106686]  & 34982 [23204, 51410]     & 492559 [353465, 623793]        & 671 [481, 849]                \\\\\n",
      " Czechia     & 4517 [3446, 5625]      & 1040 [649, 1564]         & 44246 [36001, 52726]           & 883 [718, 1052]               \\\\\n",
      " Italy       & 308 [47, 628]          & 89 [11, 275]             & 3193 [432, 5144]               & 69 [9, 111]                   \\\\\n",
      " Scotland    & 2702 [-2150, 7773]     & 674 [-575, 2387]         & 32536 [-98310, 76318]          & 44 [-134, 104]                \\\\\n",
      " Spain       & 8465 [-2648, 17197]    & 2153 [-725, 6200]        & 125910 [-70945, 256619]        & 378 [-213, 770]               \\\\\n",
      " Germany     & 379 [-647, 1235]       & 100 [-197, 414]          & 8163 [-17272, 22823]           & 384 [-812, 1073]              \\\\\n",
      " France      & 12 [-92, 89]           & 3 [-24, 26]              & 152 [-1466, 835]               & 2 [-20, 11]                   \\\\\n",
      " Slovakia    & 164 [-522, 816]        & 39 [-145, 244]           & 3556 [-16384, 17114]           & 140 [-646, 674]               \\\\\n",
      " Austria     & 65 [-348, 479]         & 16 [-98, 147]            & 1787 [-12661, 10578]           & 29 [-207, 173]                \\\\\n",
      " Belgium     & 976 [-608, 2785]       & 249 [-155, 930]          & 56131 [-41612, 146234]         & 349 [-259, 910]               \\\\\n",
      " Portugal    & -85 [-1400, 1114]      & -22 [-441, 353]          & -7514 [-39490, 15818]          & -20 [-107, 43]                \\\\\n",
      " Netherlands & -1015 [-1919, -119]    & -259 [-1448, -26]        & -38956 [-130787, 4115]         & -62 [-208, 7]                 \\\\\n",
      " Total       & 97474 [70144, 124210]  & 39522 [27442, 55712]     & 695581 [391832, 930623]        & 1391 [784, 1861]              \\\\\n",
      "\\hline\n",
      "\\end{tabular}\n"
     ]
    }
   ],
   "source": [
    "from tabulate import tabulate\n",
    "headers = ['Country', 'Primary cases (male)', 'Primary cases (female)', \"Primary and subsequent cases\", \"Number of associated deaths\"]\n",
    "print(tabulate(table_2_5, headers, tablefmt=\"latex_raw\"))"
   ]
  },
  {
   "cell_type": "markdown",
   "id": "769d6dff-5bf7-4eef-b919-71a7733cb968",
   "metadata": {},
   "source": [
    "## SI Table 3: Number of games hosted and played"
   ]
  },
  {
   "cell_type": "code",
   "execution_count": 27,
   "id": "59c28a4e-d996-4a62-a597-37d9185b7324",
   "metadata": {},
   "outputs": [],
   "source": [
    "table_3 = []\n",
    "df = pd.read_csv(\"../../data/em_game_data.csv\",header=2)\n",
    "df = df[~df[\"id\"].str.contains(\"a\")] # Filter extra games we added for validation these are suffixed with a\n",
    "\n",
    "\n",
    "country2location = {\n",
    "    \"GB-ENG\":\"London\",\n",
    "    \"IT\":\"Rome\",\n",
    "    \"AZ\":\"Baku\",\n",
    "    \"DE\":\"Munich\",\n",
    "    \"RU\":\"Saint Petersburg\",\n",
    "    \"HU\":\"Budapest\",\n",
    "    \"ES\":\"Seville\",\n",
    "    \"RO\":\"Bucharest\",\n",
    "    \"NL\":\"Amsterdam\",\n",
    "    \"GB-SCT\":\"Glasgow\",\n",
    "    \"DK\":\"Copenhagen\"\n",
    "}\n",
    "country_order_primar = list(range(len(countries)))\n",
    "for i, country in enumerate(np.array(countries)):\n",
    "    c = country_order_primar[i]\n",
    "    iso2 = dls[c].countries_iso2[0]\n",
    "    gamesByTeam = df[df[' team1'].str.contains(iso2) | df[' team2'].str.contains(iso2)] \n",
    "    \n",
    "    \n",
    "    if iso2 in country2location:\n",
    "        location = country2location[iso2]\n",
    "        gamesHosted = df[df[' location'].str.contains(location)]\n",
    "    else:\n",
    "        location = \"placeholder\"\n",
    "        gamesHosted = np.zeros((0,8))\n",
    "    \n",
    "    union = df[df[' team1'].str.contains(iso2) | df[' team2'].str.contains(iso2) |  df[' location'].str.contains(location)]\n",
    "    row = []\n",
    "    row.append(country)\n",
    "    row.append(gamesByTeam.shape[0])\n",
    "    row.append(gamesHosted.shape[0])\n",
    "    row.append(union.shape[0])\n",
    "    \n",
    "    table_3.append(row)"
   ]
  },
  {
   "cell_type": "code",
   "execution_count": 28,
   "id": "c2767cfd-fc0e-4d65-bbe0-7e8199bbdb59",
   "metadata": {},
   "outputs": [
    {
     "name": "stdout",
     "output_type": "stream",
     "text": [
      "\\begin{tabular}{lrrr}\n",
      "\\hline\n",
      " Country     &   Matches played &   Matches hosted &   Union \\\\\n",
      "\\hline\n",
      " England     &                7 &                8 &       9 \\\\\n",
      " Czechia     &                5 &                0 &       5 \\\\\n",
      " Italy       &                7 &                4 &       8 \\\\\n",
      " Scotland    &                3 &                4 &       5 \\\\\n",
      " Spain       &                6 &                4 &       7 \\\\\n",
      " Germany     &                4 &                4 &       5 \\\\\n",
      " France      &                4 &                0 &       4 \\\\\n",
      " Slovakia    &                3 &                0 &       3 \\\\\n",
      " Austria     &                4 &                0 &       4 \\\\\n",
      " Belgium     &                5 &                0 &       5 \\\\\n",
      " Portugal    &                4 &                0 &       4 \\\\\n",
      " Netherlands &                4 &                4 &       5 \\\\\n",
      "\\hline\n",
      "\\end{tabular}\n"
     ]
    }
   ],
   "source": [
    "from tabulate import tabulate\n",
    "headers = ['Country', 'Matches played', 'Matches hosted',\"Union\"]\n",
    "print(tabulate(table_3, headers, tablefmt=\"latex_raw\"))"
   ]
  },
  {
   "cell_type": "code",
   "execution_count": null,
   "id": "3ffdee14-3906-4d30-be1d-bcf066ce96f0",
   "metadata": {},
   "outputs": [],
   "source": []
  }
 ],
 "metadata": {
  "kernelspec": {
   "display_name": "Python 3",
   "language": "python",
   "name": "python3"
  },
  "language_info": {
   "codemirror_mode": {
    "name": "ipython",
    "version": 3
   },
   "file_extension": ".py",
   "mimetype": "text/x-python",
   "name": "python",
   "nbconvert_exporter": "python",
   "pygments_lexer": "ipython3",
   "version": "3.8.10"
  }
 },
 "nbformat": 4,
 "nbformat_minor": 5
}
