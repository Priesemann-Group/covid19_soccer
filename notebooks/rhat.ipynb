{
 "cells": [
  {
   "cell_type": "code",
   "execution_count": 1,
   "id": "da01c846-2556-4da7-90bc-f91858499a5f",
   "metadata": {},
   "outputs": [],
   "source": [
    "import pickle\n",
    "import sys\n",
    "\n",
    "from tabulate import tabulate\n",
    "import numpy as np\n",
    "from tqdm import tqdm\n",
    "\n",
    "\n",
    "sys.path.append(\"../\")\n",
    "sys.path.append(\"../covid19_inference\")\n",
    "\n",
    "import covid19_soccer"
   ]
  },
  {
   "cell_type": "code",
   "execution_count": 18,
   "id": "6e61f619-9aae-48f3-9362-18853db88506",
   "metadata": {},
   "outputs": [],
   "source": [
    "from tabulate import tabulate\n"
   ]
  },
  {
   "cell_type": "code",
   "execution_count": 2,
   "id": "0b9a7a3d-3ba9-4511-aa3c-1bd13d35d1dd",
   "metadata": {},
   "outputs": [],
   "source": [
    "%load_ext autoreload\n",
    "%autoreload 2"
   ]
  },
  {
   "cell_type": "code",
   "execution_count": 7,
   "id": "ac8faefd-51b3-43e7-a11b-f2d70ab355b4",
   "metadata": {},
   "outputs": [
    {
     "name": "stderr",
     "output_type": "stream",
     "text": [
      "  0%|          | 0/12 [00:00<?, ?it/s]"
     ]
    },
    {
     "name": "stdout",
     "output_type": "stream",
     "text": [
      "Use 1500 sample runs for England\n"
     ]
    },
    {
     "name": "stderr",
     "output_type": "stream",
     "text": [
      "  8%|▊         | 1/12 [01:16<13:56, 76.04s/it]"
     ]
    },
    {
     "name": "stdout",
     "output_type": "stream",
     "text": [
      "Use 8000 sample runs for Scotland\n"
     ]
    },
    {
     "name": "stderr",
     "output_type": "stream",
     "text": [
      " 17%|█▋        | 2/12 [06:35<36:31, 219.19s/it]"
     ]
    },
    {
     "name": "stdout",
     "output_type": "stream",
     "text": [
      "Use 8000 sample runs for Germany\n"
     ]
    },
    {
     "name": "stderr",
     "output_type": "stream",
     "text": [
      " 25%|██▌       | 3/12 [11:41<38:47, 258.64s/it]"
     ]
    },
    {
     "name": "stdout",
     "output_type": "stream",
     "text": [
      "Use 4000 sample runs for France\n"
     ]
    },
    {
     "name": "stderr",
     "output_type": "stream",
     "text": [
      " 33%|███▎      | 4/12 [12:57<24:52, 186.57s/it]"
     ]
    },
    {
     "name": "stdout",
     "output_type": "stream",
     "text": [
      "Use 8000 sample runs for Spain\n"
     ]
    },
    {
     "name": "stderr",
     "output_type": "stream",
     "text": [
      " 42%|████▏     | 5/12 [17:12<24:38, 211.22s/it]"
     ]
    },
    {
     "name": "stdout",
     "output_type": "stream",
     "text": [
      "Use 8000 sample runs for Slovakia\n"
     ]
    },
    {
     "name": "stderr",
     "output_type": "stream",
     "text": [
      " 50%|█████     | 6/12 [22:40<25:06, 251.10s/it]"
     ]
    },
    {
     "name": "stdout",
     "output_type": "stream",
     "text": [
      "Use 4000 sample runs for Portugal\n"
     ]
    },
    {
     "name": "stderr",
     "output_type": "stream",
     "text": [
      " 58%|█████▊    | 7/12 [25:13<18:15, 219.05s/it]"
     ]
    },
    {
     "name": "stdout",
     "output_type": "stream",
     "text": [
      "Use 8000 sample runs for Netherlands\n"
     ]
    },
    {
     "name": "stderr",
     "output_type": "stream",
     "text": [
      " 67%|██████▋   | 8/12 [30:18<16:25, 246.28s/it]"
     ]
    },
    {
     "name": "stdout",
     "output_type": "stream",
     "text": [
      "Use 8000 sample runs for Italy\n"
     ]
    },
    {
     "name": "stderr",
     "output_type": "stream",
     "text": [
      " 75%|███████▌  | 9/12 [35:10<13:02, 260.70s/it]"
     ]
    },
    {
     "name": "stdout",
     "output_type": "stream",
     "text": [
      "Use 8000 sample runs for Czechia\n"
     ]
    },
    {
     "name": "stderr",
     "output_type": "stream",
     "text": [
      " 83%|████████▎ | 10/12 [40:19<09:11, 275.63s/it]"
     ]
    },
    {
     "name": "stdout",
     "output_type": "stream",
     "text": [
      "Use 8000 sample runs for Belgium\n"
     ]
    },
    {
     "name": "stderr",
     "output_type": "stream",
     "text": [
      " 92%|█████████▏| 11/12 [44:54<04:35, 275.49s/it]"
     ]
    },
    {
     "name": "stdout",
     "output_type": "stream",
     "text": [
      "Use 8000 sample runs for Austria\n"
     ]
    },
    {
     "name": "stderr",
     "output_type": "stream",
     "text": [
      "100%|██████████| 12/12 [49:52<00:00, 249.37s/it]\n"
     ]
    }
   ],
   "source": [
    "countries = [\"England\",\"Scotland\",\"Germany\",\"France\",\"Spain\",\"Slovakia\",\"Portugal\",\"Netherlands\",\"Italy\",\"Czechia\",\"Belgium\",\"Austria\"]\n",
    "\n",
    "def load(fstr):\n",
    "    with open(fstr, \"rb\") as f:\n",
    "         return pickle.load(f)\n",
    "\n",
    "traces, models, dls = [], [], []\n",
    "for country in tqdm(countries):\n",
    "    #'UEFA-beta=False-country=England-offset_games=0-draw_delay=True-weighted_alpha_prior=0-prior_delay=-1-width_delay_prior=0.1-sigma_incubation=-1.0-median_width_delay=1.0-tune=200-draws=300-max_treedepth=10.pickled'\n",
    "    model = None\n",
    "    fstr=lambda tune, draws, max_treedepth: (f\"/data.nst/smohr/covid19_soccer_data/main_traces/\"+\n",
    "        f\"-beta=False\"+\n",
    "        f\"-country={country}\"+\n",
    "        f\"-offset_data=0\"+\n",
    "        f\"-prior_delay=-1\"+\n",
    "        f\"-width_delay_prior=0.1\"+\n",
    "        f\"-sigma_incubation=-1.0\"+\n",
    "        f\"-median_width_delay=1.0\"+\n",
    "        f\"-interval_cps=10.0\"+\n",
    "        f\"-f_fem=0.2\"+\n",
    "        f\"-uc=True\"\n",
    "        f\"-len=normal\"+                    \n",
    "        f\"-t={tune}\"+\n",
    "        f\"-d={draws}\"+\n",
    "        f\"-max_treedepth={max_treedepth}.pkl\")\n",
    "    #print(fstr(4000, 8000, 12))\n",
    "    if os.path.exists(fstr(4000, 8000, 12)):\n",
    "        try:\n",
    "            model, trace = load(fstr(4000, 8000, 12))\n",
    "            print(f\"Use 8000 sample runs for {country}\")\n",
    "        except Exception as exc:\n",
    "            print(exc)\n",
    "            pass\n",
    "    if model is None and os.path.exists(fstr(2000, 4000, 12)):\n",
    "        try:\n",
    "            model, trace = load(fstr(2000, 4000, 12))\n",
    "            print(f\"Use 4000 sample runs for {country}\")\n",
    "        except Exception as exc:\n",
    "            print(exc)\n",
    "            pass\n",
    "    if model is None and os.path.exists(fstr(1000, 1500, 12)):\n",
    "        try: \n",
    "            model, trace = load(fstr(1000, 1500, 12))\n",
    "            print(f\"Use 1500 sample runs for {country}\")\n",
    "        except Exception as exc:\n",
    "            print(exc)\n",
    "            pass\n",
    "    if model is None: \n",
    "        print(fstr(1000, 1500, 12), \" not found\")\n",
    "        continue\n",
    "    \n",
    "    # Remove chains with likelihood larger than -200, should only be the case for 2 chains in France\n",
    "    mask = (np.mean(trace.sample_stats.lp, axis=1)>-200)\n",
    "    trace.posterior = trace.posterior.sel(chain=~mask)\n",
    "    \n",
    "    dl = covid19_soccer.dataloader.Dataloader_gender(countries=[country])\n",
    "    models.append(model)\n",
    "    traces.append(trace)\n",
    "    dls.append(dl)"
   ]
  },
  {
   "cell_type": "code",
   "execution_count": 14,
   "id": "ed609e62-13d4-4802-a403-0db9947688b6",
   "metadata": {},
   "outputs": [
    {
     "name": "stderr",
     "output_type": "stream",
     "text": [
      "/data.nst/jdehning/anaconda3/envs/pymc3_new/lib/python3.8/site-packages/arviz/stats/diagnostics.py:561: RuntimeWarning: invalid value encountered in double_scalars\n",
      "  (between_chain_variance / within_chain_variance + num_samples - 1) / (num_samples)\n"
     ]
    },
    {
     "name": "stdout",
     "output_type": "stream",
     "text": [
      "England max rhat of R_t 2.26046650711145 \n",
      "England max overall rhat 3.2903463960110844 \n"
     ]
    },
    {
     "name": "stderr",
     "output_type": "stream",
     "text": [
      "/data.nst/jdehning/anaconda3/envs/pymc3_new/lib/python3.8/site-packages/arviz/stats/diagnostics.py:561: RuntimeWarning: invalid value encountered in double_scalars\n",
      "  (between_chain_variance / within_chain_variance + num_samples - 1) / (num_samples)\n",
      "/data.nst/jdehning/anaconda3/envs/pymc3_new/lib/python3.8/site-packages/arviz/stats/diagnostics.py:561: RuntimeWarning: invalid value encountered in double_scalars\n",
      "  (between_chain_variance / within_chain_variance + num_samples - 1) / (num_samples)\n",
      "/data.nst/jdehning/anaconda3/envs/pymc3_new/lib/python3.8/site-packages/arviz/stats/diagnostics.py:561: RuntimeWarning: invalid value encountered in double_scalars\n",
      "  (between_chain_variance / within_chain_variance + num_samples - 1) / (num_samples)\n"
     ]
    },
    {
     "name": "stdout",
     "output_type": "stream",
     "text": [
      "France max rhat of R_t 1.0441943450642983 \n",
      "France max overall rhat 2.7155046606491227 \n"
     ]
    },
    {
     "name": "stderr",
     "output_type": "stream",
     "text": [
      "/data.nst/jdehning/anaconda3/envs/pymc3_new/lib/python3.8/site-packages/arviz/stats/diagnostics.py:561: RuntimeWarning: invalid value encountered in double_scalars\n",
      "  (between_chain_variance / within_chain_variance + num_samples - 1) / (num_samples)\n"
     ]
    },
    {
     "name": "stdout",
     "output_type": "stream",
     "text": [
      "Scotland max rhat of R_t 1.003280366413768 \n",
      "Scotland max overall rhat 1.3451921538974065 \n",
      "Germany max rhat of R_t 1.004522335118012 \n",
      "Germany max overall rhat 2.1864668463112746 \n"
     ]
    },
    {
     "name": "stderr",
     "output_type": "stream",
     "text": [
      "/data.nst/jdehning/anaconda3/envs/pymc3_new/lib/python3.8/site-packages/arviz/stats/diagnostics.py:561: RuntimeWarning: invalid value encountered in double_scalars\n",
      "  (between_chain_variance / within_chain_variance + num_samples - 1) / (num_samples)\n",
      "/data.nst/jdehning/anaconda3/envs/pymc3_new/lib/python3.8/site-packages/arviz/stats/diagnostics.py:561: RuntimeWarning: invalid value encountered in double_scalars\n",
      "  (between_chain_variance / within_chain_variance + num_samples - 1) / (num_samples)\n"
     ]
    },
    {
     "name": "stdout",
     "output_type": "stream",
     "text": [
      "Portugal max rhat of R_t 1.0016870174018668 \n",
      "Portugal max overall rhat 1.108063109459645 \n",
      "Spain max rhat of R_t 1.0171315883037155 \n",
      "Spain max overall rhat 3.307441441974928 \n"
     ]
    },
    {
     "name": "stderr",
     "output_type": "stream",
     "text": [
      "/data.nst/jdehning/anaconda3/envs/pymc3_new/lib/python3.8/site-packages/arviz/stats/diagnostics.py:561: RuntimeWarning: invalid value encountered in double_scalars\n",
      "  (between_chain_variance / within_chain_variance + num_samples - 1) / (num_samples)\n"
     ]
    },
    {
     "name": "stdout",
     "output_type": "stream",
     "text": [
      "Slovakia max rhat of R_t 1.0047990382654182 \n",
      "Slovakia max overall rhat 1.8882625992770752 \n"
     ]
    },
    {
     "name": "stderr",
     "output_type": "stream",
     "text": [
      "/data.nst/jdehning/anaconda3/envs/pymc3_new/lib/python3.8/site-packages/arviz/stats/diagnostics.py:561: RuntimeWarning: invalid value encountered in double_scalars\n",
      "  (between_chain_variance / within_chain_variance + num_samples - 1) / (num_samples)\n",
      "/data.nst/jdehning/anaconda3/envs/pymc3_new/lib/python3.8/site-packages/arviz/stats/diagnostics.py:561: RuntimeWarning: invalid value encountered in double_scalars\n",
      "  (between_chain_variance / within_chain_variance + num_samples - 1) / (num_samples)\n"
     ]
    },
    {
     "name": "stdout",
     "output_type": "stream",
     "text": [
      "Netherlands max rhat of R_t 1.5897480426200736 \n",
      "Netherlands max overall rhat 1.5897480426200736 \n"
     ]
    },
    {
     "name": "stderr",
     "output_type": "stream",
     "text": [
      "/data.nst/jdehning/anaconda3/envs/pymc3_new/lib/python3.8/site-packages/arviz/stats/diagnostics.py:561: RuntimeWarning: invalid value encountered in double_scalars\n",
      "  (between_chain_variance / within_chain_variance + num_samples - 1) / (num_samples)\n"
     ]
    },
    {
     "name": "stdout",
     "output_type": "stream",
     "text": [
      "Italy max rhat of R_t 1.0004530871956616 \n",
      "Italy max overall rhat 1.0603302653943796 \n"
     ]
    },
    {
     "name": "stderr",
     "output_type": "stream",
     "text": [
      "/data.nst/jdehning/anaconda3/envs/pymc3_new/lib/python3.8/site-packages/arviz/stats/diagnostics.py:561: RuntimeWarning: invalid value encountered in double_scalars\n",
      "  (between_chain_variance / within_chain_variance + num_samples - 1) / (num_samples)\n"
     ]
    },
    {
     "name": "stdout",
     "output_type": "stream",
     "text": [
      "Czechia max rhat of R_t 1.0079267461336 \n",
      "Czechia max overall rhat 1.3227219918863116 \n",
      "Belgium max rhat of R_t 1.0128744270596246 \n",
      "Belgium max overall rhat 1.4554976676470603 \n",
      "Austria max rhat of R_t 1.002032818308459 \n",
      "Austria max overall rhat 1.0651445571412297 \n"
     ]
    }
   ],
   "source": [
    "from multiprocessing import Pool\n",
    "import arviz as az\n",
    "\n",
    "def get_max_rhat(country, trace):\n",
    "    rhat = az.rhat(trace)\n",
    "    chosen_vars = []\n",
    "    for var in list(rhat.data_vars):\n",
    "        if \"lambda\" in var:\n",
    "            chosen_vars.append(var)\n",
    "        if \"R_t\" in var:\n",
    "            chosen_vars.append(var)\n",
    "        if \"factor_female\" in var:\n",
    "            chosen_vars.append(var)\n",
    "        if \"alpha\" in var:\n",
    "            chosen_vars.append(var)\n",
    "\n",
    "    rhats_R_t = []\n",
    "    rhat_max = rhat.max()\n",
    "    for var in chosen_vars:\n",
    "        rhats_R_t.append(float(rhat_max[var]))\n",
    "    rhats_all = []\n",
    "    for var in rhat.data_vars:\n",
    "        rhats_all.append(float(rhat_max[var]))\n",
    "    print(f\"{country} max rhat of R_t {max(rhats_R_t)} \")\n",
    "    print(f\"{country} max overall rhat {max(rhats_all)} \")\n",
    "        \n",
    "    return rhats_R_t, rhats_all\n",
    "    \n",
    "\n",
    "#def get_max_rhat(country, trace):\n",
    "#    return 3.\n",
    "    \n",
    "rhats = []\n",
    "    \n",
    "with Pool(processes=6) as pool:\n",
    "    results = []\n",
    "    for i, country in enumerate(countries):\n",
    "        trace = traces[i]    \n",
    "        result = pool.apply_async(get_max_rhat, (country, trace)) \n",
    "        results.append(result)\n",
    "    for res in results:\n",
    "        rhats.append(res.get())\n"
   ]
  },
  {
   "cell_type": "code",
   "execution_count": 20,
   "id": "8651824e-b03c-4c8f-8bc5-bef88cb3c4e5",
   "metadata": {},
   "outputs": [
    {
     "name": "stdout",
     "output_type": "stream",
     "text": [
      "\\begin{tabular}{lr}\n",
      "\\hline\n",
      " Country     &   Max. R-hat of relevant variables \\\\\n",
      "\\hline\n",
      " England     &                               2.26 \\\\\n",
      " Scotland    &                               1    \\\\\n",
      " Germany     &                               1    \\\\\n",
      " France      &                               1.04 \\\\\n",
      " Spain       &                               1.02 \\\\\n",
      " Slovakia    &                               1    \\\\\n",
      " Portugal    &                               1    \\\\\n",
      " Netherlands &                               1.59 \\\\\n",
      " Italy       &                               1    \\\\\n",
      " Czechia     &                               1.01 \\\\\n",
      " Belgium     &                               1.01 \\\\\n",
      " Austria     &                               1    \\\\\n",
      "\\hline\n",
      "\\end{tabular}\n"
     ]
    }
   ],
   "source": [
    "table = []\n",
    "for i, country in enumerate(countries):\n",
    "    table.append([country, f\"{max(rhats[i][0]):.2f}\"])\n",
    "header = [\"Country\", \"Max. R-hat of relevant variables\"]\n",
    "\n",
    "print(tabulate(table, header, tablefmt=\"latex_raw\"))"
   ]
  },
  {
   "cell_type": "code",
   "execution_count": null,
   "id": "037c50f0-1ba6-46bb-bdb4-6cf83456407c",
   "metadata": {},
   "outputs": [],
   "source": []
  }
 ],
 "metadata": {
  "kernelspec": {
   "display_name": "Python 3",
   "language": "python",
   "name": "python3"
  },
  "language_info": {
   "codemirror_mode": {
    "name": "ipython",
    "version": 3
   },
   "file_extension": ".py",
   "mimetype": "text/x-python",
   "name": "python",
   "nbconvert_exporter": "python",
   "pygments_lexer": "ipython3",
   "version": "3.8.10"
  }
 },
 "nbformat": 4,
 "nbformat_minor": 5
}
