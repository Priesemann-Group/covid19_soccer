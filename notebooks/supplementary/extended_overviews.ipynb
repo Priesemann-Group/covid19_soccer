{
 "cells": [
  {
   "cell_type": "markdown",
   "metadata": {
    "pycharm": {
     "name": "#%% md\n"
    }
   },
   "source": [
    "# Extended overview figures\n",
    "\n",
    "This notebook creates the extended overview plots from the SI information of the publication."
   ]
  },
  {
   "cell_type": "code",
   "execution_count": 1,
   "metadata": {
    "pycharm": {
     "name": "#%%\n"
    }
   },
   "outputs": [],
   "source": [
    "import pickle\n",
    "import sys\n",
    "import matplotlib.pyplot as plt\n",
    "import numpy as np\n",
    "from tqdm.auto import tqdm\n",
    "import os\n",
    "\n",
    "sys.path.append(\"../../\")\n",
    "sys.path.append(\"../../covid19_inference\")\n",
    "sys.path.append(\"../\")\n",
    "\n",
    "import covid19_soccer\n",
    "from covid19_soccer.plot.utils import get_from_trace\n",
    "#import covid19_inference as cov19\n",
    "from header_plotting import *"
   ]
  },
  {
   "cell_type": "code",
   "execution_count": 2,
   "metadata": {
    "pycharm": {
     "name": "#%%\n"
    }
   },
   "outputs": [],
   "source": [
    "%load_ext autoreload\n",
    "%autoreload 2"
   ]
  },
  {
   "cell_type": "code",
   "execution_count": null,
   "metadata": {
    "pycharm": {
     "name": "#%%\n"
    }
   },
   "outputs": [
    {
     "data": {
      "application/vnd.jupyter.widget-view+json": {
       "model_id": "4ec543a0e9324ddd992c4192c231f3a1",
       "version_major": 2,
       "version_minor": 0
      },
      "text/plain": [
       "  0%|          | 0/13 [00:00<?, ?it/s]"
      ]
     },
     "metadata": {},
     "output_type": "display_data"
    },
    {
     "name": "stdout",
     "output_type": "stream",
     "text": [
      "Use 4000 sample runs for England\n",
      "Use 4000 sample runs for Czechia\n"
     ]
    }
   ],
   "source": [
    "def load(fstr):\n",
    "    with open(fstr, \"rb\") as f:\n",
    "         return pickle.load(f)\n",
    "\n",
    "countries = ['England', 'Czechia', 'Scotland', 'Spain', 'Germany', 'Austria',\n",
    "       'France', 'Slovakia', 'Belgium', 'Italy', 'Portugal',\n",
    "       'Netherlands', 'GB']\n",
    "traces, models, dls = [], [], []\n",
    "for country in tqdm(countries):\n",
    "    model = None\n",
    "    fstr=lambda tune, draws, max_treedepth: (f\"/data.nst/smohr/covid19_soccer_data/main_traces/run\"+\n",
    "        f\"-beta=False\"+\n",
    "        f\"-country={country}\"+\n",
    "        f\"-offset_data=0\"+\n",
    "        f\"-prior_delay=-1\"+\n",
    "        f\"-median_width_delay=1.0\"+\n",
    "        f\"-interval_cps=10.0\"+\n",
    "        f\"-f_fem=0.33\"+\n",
    "        f\"-len=normal\"+\n",
    "        f\"-abs_sine=False\"+\n",
    "        f\"-t={tune}\"+\n",
    "        f\"-d={draws}\"+\n",
    "        f\"-max_treedepth={max_treedepth}.pkl\")\n",
    "    if country == \"Spain\":\n",
    "        fstr=lambda tune, draws, max_treedepth: (f\"/data.nst/share/soccer_project/covid_uefa_traces14_spain/run\"+\n",
    "        f\"-beta=False\"+\n",
    "        f\"-country={country}\"+\n",
    "        f\"-offset_data=0\"+\n",
    "        f\"-prior_delay=-1\"+\n",
    "        f\"-median_width_delay=1.0\"+\n",
    "        f\"-interval_cps=10.0\"+\n",
    "        f\"-f_fem=0.33\"+\n",
    "        f\"-len=normal\"+\n",
    "        f\"-abs_sine=False\"+\n",
    "        f\"-t={tune}\"+\n",
    "        f\"-d={draws}\"+\n",
    "        f\"-max_treedepth={max_treedepth}.pkl\")   \n",
    "    if country == \"GB\":\n",
    "        fstr=lambda tune, draws, max_treedepth: (f\"/data.nst/share/soccer_project/covid_uefa_traces15/run\"+\n",
    "        f\"-beta=False\"+\n",
    "        f\"-country={country}\"+\n",
    "        f\"-offset_data=0\"+\n",
    "        f\"-prior_delay=-1\"+\n",
    "        f\"-median_width_delay=1.0\"+\n",
    "        f\"-interval_cps=10.0\"+\n",
    "        f\"-f_fem=0.33\"+\n",
    "        f\"-len=normal\"+\n",
    "        f\"-abs_sine=False\"+\n",
    "        f\"-t={tune}\"+\n",
    "        f\"-d={draws}\"+\n",
    "        f\"-max_treedepth={max_treedepth}.pkl\")   \n",
    "    if os.path.exists(fstr(4000, 8000, 12)):\n",
    "        try:\n",
    "            model, trace = load(fstr(4000, 8000, 12))\n",
    "            print(f\"Use 8000 sample runs for {country}\")\n",
    "        except:\n",
    "            pass\n",
    "    if model is None and os.path.exists(fstr(2000, 4000, 12)):\n",
    "        try:\n",
    "            model, trace = load(fstr(2000, 4000, 12))\n",
    "            print(f\"Use 4000 sample runs for {country}\")\n",
    "        except:\n",
    "            pass\n",
    "    if model is None and os.path.exists(fstr(1000, 1500, 12)):\n",
    "        try: \n",
    "            model, trace = load(fstr(1000, 1500, 12))\n",
    "            print(f\"Use 1500 sample runs for {country}\")\n",
    "        except:\n",
    "            pass\n",
    "    if model is None and os.path.exists(fstr(1000, 2000, 12)):\n",
    "        try: \n",
    "            model, trace = load(fstr(1000, 2000, 12))\n",
    "            print(f\"Use 2000 sample runs for {country}\")\n",
    "        except:\n",
    "            pass\n",
    "    if model is None and os.path.exists(fstr(500, 1000, 12)):\n",
    "        try: \n",
    "            model, trace = load(fstr(500, 1000, 12))\n",
    "            print(f\"Use 1000 sample runs for {country}\")\n",
    "        except:\n",
    "            pass\n",
    "    if model is None: \n",
    "        print(fstr(900, 800, 99), \" not found\")\n",
    "        continue\n",
    "    \n",
    "    # Remove chains with likelihood larger than -200, should only be the case for 2 chains in France\n",
    "    mask = (np.mean(trace.sample_stats.lp, axis=1)>-200)\n",
    "    trace.posterior = trace.posterior.sel(chain=~mask)\n",
    "    \n",
    "    dl = covid19_soccer.dataloader.Dataloader_gender(countries=[country])\n",
    "    models.append(model)\n",
    "    traces.append(trace)\n",
    "    dls.append(dl)"
   ]
  },
  {
   "cell_type": "code",
   "execution_count": null,
   "metadata": {
    "pycharm": {
     "name": "#%%\n"
    }
   },
   "outputs": [],
   "source": [
    "from covid19_soccer.plot.overview import single_extended,single_extended_v2\n",
    "\n",
    "\"\"\"\n",
    "country2ylim_inbalance = {\n",
    "    \"England\": [-0.15,0.3],\n",
    "    \"Scotland\": [-0.15,0.45],\n",
    "    \"Slovakia\": [-0.6,0.6],\n",
    "    \"Italy\": [-0.3,0.45],\n",
    "    \"Czechia\": [-0.3,0.45]\n",
    "}\n",
    "\"\"\"\n",
    "ylim_Imbalance = [-0.19,0.25]\n",
    "ylim_Rnoise = [0.9,1.2]\n",
    "ylim_Rbase = [0.5,2]\n",
    "\n",
    "for trace,model,dl in zip(traces,models,dls):\n",
    "\n",
    "    country = dl.countries[0]\n",
    "    \n",
    "    if country == \"Netherlands\":\n",
    "        ylim_rbase = [-0.5,5]\n",
    "    else:\n",
    "        ylim_rbase = ylim_Rbase\n",
    "    \n",
    "    if country == \"Scotland\":\n",
    "        ylim_imbalance = [-0.19,0.46]\n",
    "    else:\n",
    "        ylim_imbalance = ylim_Imbalance\n",
    "        \n",
    "    if country == \"Italy\":\n",
    "        ylim_incidence=[0,220]\n",
    "    else:\n",
    "        ylim_incidence=None\n",
    "        \n",
    "    fig0 = single_extended_v2(\n",
    "        trace,\n",
    "        model,\n",
    "        dl,\n",
    "        ylim_imbalance=ylim_imbalance,\n",
    "        ylim_incidence=ylim_incidence,\n",
    "        ylim_rnoise=ylim_Rnoise,\n",
    "        ylim_rbase=ylim_rbase\n",
    "    )\n",
    "    if country == \"Czechia\":\n",
    "        country = \"Czech Republic\"\n",
    "    if country == \"United Kingdom\":\n",
    "        country = \"GB (England + Scotland)\"\n",
    "    fig0.suptitle(f\"{country}\")\n",
    "\n",
    "    fig0.savefig(\n",
    "        f\"../figures/SI/extended_overview/extended_overview_{dl.countries[0].replace(' ', '_')}.pdf\",\n",
    "        transparent=True,\n",
    "        dpi=300,\n",
    "        bbox_inches='tight'\n",
    "    )\n",
    "    fig0.savefig(\n",
    "        f\"../figures/SI/extended_overview/extended_overview_{dl.countries[0].replace(' ', '_')}.png\",\n",
    "        transparent=True,\n",
    "        dpi=300,\n",
    "        bbox_inches='tight'\n",
    "    )\n",
    "    plt.show()\n",
    "    plt.close(fig=fig0)"
   ]
  },
  {
   "cell_type": "code",
   "execution_count": null,
   "metadata": {
    "pycharm": {
     "name": "#%%\n"
    }
   },
   "outputs": [],
   "source": [
    "from covid19_soccer.plot.other import soccer_related_cases_overview\n",
    "\n",
    "fig,ax = plt.subplots(1,1,figsize=(4,3))\n",
    "\n",
    "soccer_related_cases_overview(\n",
    "        ax,\n",
    "        traces,\n",
    "        models,\n",
    "        dls,\n",
    "        plot_flags=True,\n",
    "        ypos_flags=-20,\n",
    "        remove_outliers=True,\n",
    "        bw=0.1,\n",
    "        country_order=None,\n",
    "        overall_effect_trace=None,\n",
    "        vertical=True,\n",
    ")\n",
    "plt.show()"
   ]
  },
  {
   "cell_type": "code",
   "execution_count": null,
   "metadata": {
    "pycharm": {
     "name": "#%%\n"
    }
   },
   "outputs": [],
   "source": [
    "import arviz as az"
   ]
  },
  {
   "cell_type": "code",
   "execution_count": null,
   "metadata": {
    "pycharm": {
     "name": "#%%\n"
    }
   },
   "outputs": [],
   "source": [
    "rhats=[]\n",
    "for tr in traces:\n",
    "    rhats.append(az.rhat(tr))"
   ]
  },
  {
   "cell_type": "code",
   "execution_count": null,
   "metadata": {
    "pycharm": {
     "name": "#%%\n"
    }
   },
   "outputs": [],
   "source": [
    "for i,(rhat,country) in enumerate(zip(rhats,countries)):\n",
    "    chosen_vars = []\n",
    "    for var in list(rhat.data_vars):\n",
    "        if \"factor_female\" in var:\n",
    "            chosen_vars.append(var)\n",
    "        if \"alpha\" in var:\n",
    "            chosen_vars.append(var)\n",
    "\n",
    "    rhats_R_t = []\n",
    "    rhat_max = rhat.max()\n",
    "    for var in chosen_vars:\n",
    "        rhats_R_t.append(float(rhat_max[var]))\n",
    "    rhats_all = []\n",
    "    for var in rhat.data_vars:\n",
    "        rhats_all.append(float(rhat_max[var]))\n",
    "    print(f\"{i} {country}: ({len(traces[i].posterior.chain)}, {len(traces[i].posterior.draw)})\")\n",
    "    print(f\"\\tmax rhat of R_t {max(rhats_R_t)} \")\n",
    "    print(f\"\\tmax overall rhat {max(rhats_all)} \")"
   ]
  },
  {
   "cell_type": "code",
   "execution_count": null,
   "metadata": {
    "pycharm": {
     "name": "#%%\n"
    }
   },
   "outputs": [],
   "source": []
  }
 ],
 "metadata": {
  "interpreter": {
   "hash": "0fd5df21f5c79ee35aa43f2be12455e31376a68a747783be21f47f9e875fad37"
  },
  "kernelspec": {
   "display_name": "Python 3",
   "language": "python",
   "name": "python3"
  },
  "language_info": {
   "codemirror_mode": {
    "name": "ipython",
    "version": 3
   },
   "file_extension": ".py",
   "mimetype": "text/x-python",
   "name": "python",
   "nbconvert_exporter": "python",
   "pygments_lexer": "ipython3",
   "version": "3.8.10"
  }
 },
 "nbformat": 4,
 "nbformat_minor": 4
}