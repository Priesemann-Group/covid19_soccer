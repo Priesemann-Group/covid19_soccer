{
 "cells": [
  {
   "cell_type": "markdown",
   "id": "100c0c27-bf01-4a70-98d9-01d3b889ade8",
   "metadata": {},
   "source": [
    "# SI plots\n",
    "\n",
    "Notebook to recreate the figures from the supplementary information."
   ]
  },
  {
   "cell_type": "code",
   "execution_count": null,
   "id": "93cec234-20d8-4429-884b-e37611b7b227",
   "metadata": {},
   "outputs": [],
   "source": [
    "\"\"\" Imports\n",
    "\"\"\"\n",
    "import pickle\n",
    "import sys\n",
    "import matplotlib\n",
    "import matplotlib.pyplot as plt\n",
    "import matplotlib.dates as mdates\n",
    "import matplotlib.ticker as mtick\n",
    "import numpy as np\n",
    "import pandas as pd\n",
    "import datetime\n",
    "import seaborn as sns\n",
    "import arviz as az\n",
    "\n",
    "sys.path.append(\"../\")\n",
    "sys.path.append(\"../covid19_inference/\")\n",
    "\n",
    "import covid19_inference as cov19\n",
    "import covid19_soccer\n",
    "from covid19_soccer.plot.utils import lighten_color\n",
    "\n",
    "\n",
    "\"\"\" Matplotlib config\n",
    "\"\"\"\n",
    "matplotlib.rcParams.update(matplotlib.rcParamsDefault)\n",
    "matplotlib.rcParams['font.family'] = \"sans-serif\"\n",
    "matplotlib.rcParams[\"figure.figsize\"] = [3.4, 2.7]  # APS single column\n",
    "matplotlib.rcParams[\"figure.dpi\"] = 300  # this primarily affects the size on screen\n",
    "#matplotlib.rcParams['axes.linewidth'] = 0.3\n",
    "matplotlib.rcParams[\"axes.labelcolor\"] = \"black\"\n",
    "matplotlib.rcParams[\"axes.edgecolor\"] = \"black\"\n",
    "matplotlib.rcParams[\"xtick.color\"] = \"black\"\n",
    "matplotlib.rcParams[\"ytick.color\"] = \"black\"\n",
    "matplotlib.rcParams[\"xtick.labelsize\"] = 8\n",
    "matplotlib.rcParams[\"ytick.labelsize\"] = 8\n",
    "matplotlib.rcParams[\"axes.labelsize\"] = 8\n",
    "matplotlib.rcParams[\"axes.titlesize\"]= 10\n",
    "matplotlib.rcParams[\"legend.fontsize\"] = 6\n",
    "matplotlib.rcParams[\"legend.title_fontsize\"] = 8"
   ]
  },
  {
   "cell_type": "markdown",
   "id": "a1fd4144-8568-4eb9-95f3-7815120947d0",
   "metadata": {},
   "source": [
    "## Delay and offset (Scotland and England)"
   ]
  },
  {
   "cell_type": "code",
   "execution_count": null,
   "id": "4d9800dc-409f-4eec-a45b-f5f92c653310",
   "metadata": {},
   "outputs": [],
   "source": [
    "def load_models_traces_dataloader(\n",
    "    country,\n",
    "    offsets,\n",
    "    tune=200,\n",
    "    draws=300,\n",
    "    max_treedepth=10,\n",
    "    beta=False,\n",
    "    draw_delay=True\n",
    "):\n",
    "    models, traces, dls = [],[],[]\n",
    "    for offset in offsets:\n",
    "        fstr=(f\"/data.nst/jdehning/covid_uefa_traces/UEFA\"+\n",
    "            f\"-beta={beta}\"+\n",
    "            f\"-country={country}\"+\n",
    "            f\"-offset_games={offset}\"+\n",
    "            f\"-draw_delay={draw_delay}\"+\n",
    "            f\"-weighted_alpha_prior=0\"+\n",
    "            f\"-prior_delay=-1\"+\n",
    "            f\"-width_delay_prior=0.1\"+\n",
    "            f\"-sigma_incubation=-1.0\"+\n",
    "            #f\"-median_width_delay={1.5}\"+\n",
    "            f\"-tune={tune}\"+\n",
    "            f\"-draws={draws}\"+\n",
    "            f\"-max_treedepth={max_treedepth}.pickled\")   \n",
    "        model, trace = load(fstr)\n",
    "        dl = covid19_soccer.dataloader.Dataloader_gender(countries=[country],offset_games=offset)\n",
    "        models.append(model)\n",
    "        traces.append(trace)\n",
    "        dls.append(dl)\n",
    "    return models,traces,dls\n",
    "\n",
    "models,traces,dls = load_models_traces_dataloader(\"Scotland\""
   ]
  }
 ],
 "metadata": {
  "kernelspec": {
   "display_name": "Python 3 (ipykernel)",
   "language": "python",
   "name": "python3"
  },
  "language_info": {
   "codemirror_mode": {
    "name": "ipython",
    "version": 3
   },
   "file_extension": ".py",
   "mimetype": "text/x-python",
   "name": "python",
   "nbconvert_exporter": "python",
   "pygments_lexer": "ipython3",
   "version": "3.9.5"
  }
 },
 "nbformat": 4,
 "nbformat_minor": 5
}
