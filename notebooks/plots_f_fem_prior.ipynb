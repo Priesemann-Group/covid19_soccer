{
 "cells": [
  {
   "cell_type": "markdown",
   "metadata": {},
   "source": [
    "# Different delay widths\n",
    "\n",
    "In this notebook we want to analyse the effect of different priors for the delay width."
   ]
  },
  {
   "cell_type": "code",
   "execution_count": 6,
   "metadata": {},
   "outputs": [],
   "source": [
    "import pickle\n",
    "import sys\n",
    "import matplotlib\n",
    "import matplotlib.pyplot as plt\n",
    "import matplotlib.dates as mdates\n",
    "import matplotlib.ticker as mtick\n",
    "import numpy as np\n",
    "import pandas as pd\n",
    "import datetime\n",
    "import seaborn as sns\n",
    "\n",
    "sys.path.append(\"../\")\n",
    "sys.path.append(\"../covid19_inference\")\n",
    "\n",
    "import covid19_soccer\n",
    "from covid19_soccer.plot.utils import get_from_trace\n",
    "import covid19_inference as cov19"
   ]
  },
  {
   "cell_type": "code",
   "execution_count": 7,
   "metadata": {},
   "outputs": [
    {
     "name": "stdout",
     "output_type": "stream",
     "text": [
      "The autoreload extension is already loaded. To reload it, use:\n",
      "  %reload_ext autoreload\n"
     ]
    }
   ],
   "source": [
    "%load_ext autoreload\n",
    "%autoreload 2"
   ]
  },
  {
   "cell_type": "code",
   "execution_count": 8,
   "metadata": {},
   "outputs": [],
   "source": [
    "\"\"\" Matplotlib config\n",
    "\"\"\"\n",
    "matplotlib.rcParams.update(matplotlib.rcParamsDefault)\n",
    "matplotlib.rcParams['font.family'] = \"sans-serif\"\n",
    "matplotlib.rcParams[\"figure.figsize\"] = [3.4, 2.7]  # APS single column\n",
    "matplotlib.rcParams[\"figure.dpi\"] = 300  # this primarily affects the size on screen\n",
    "#matplotlib.rcParams['axes.linewidth'] = 0.3\n",
    "matplotlib.rcParams[\"axes.labelcolor\"] = \"black\"\n",
    "matplotlib.rcParams[\"axes.edgecolor\"] = \"black\"\n",
    "matplotlib.rcParams[\"xtick.color\"] = \"black\"\n",
    "matplotlib.rcParams[\"ytick.color\"] = \"black\"\n",
    "matplotlib.rcParams[\"xtick.labelsize\"] = 8\n",
    "matplotlib.rcParams[\"ytick.labelsize\"] = 8\n",
    "matplotlib.rcParams[\"axes.labelsize\"] = 8\n",
    "matplotlib.rcParams[\"axes.titlesize\"]= 10\n",
    "matplotlib.rcParams[\"legend.fontsize\"] = 6\n",
    "matplotlib.rcParams[\"legend.title_fontsize\"] = 8\n",
    "\n",
    "# Save figure  keyword args   \n",
    "save_kwargs = {\n",
    "    \"transparent\":True,\n",
    "    \"dpi\":300,\n",
    "    \"bbox_inches\":\"tight\"\n",
    "}\n",
    "fig_path = \"./figures\"\n",
    "\n",
    "def load(fstr):\n",
    "    with open(fstr, \"rb\") as f:\n",
    "         return pickle.load(f)\n"
   ]
  },
  {
   "cell_type": "code",
   "execution_count": 14,
   "metadata": {},
   "outputs": [
    {
     "name": "stderr",
     "output_type": "stream",
     "text": [
      "  0%|          | 0/7 [00:00<?, ?it/s]"
     ]
    },
    {
     "name": "stdout",
     "output_type": "stream",
     "text": [
      "Use short runs for England\n"
     ]
    },
    {
     "name": "stderr",
     "output_type": "stream",
     "text": [
      " 29%|██▊       | 2/7 [00:07<00:16,  3.38s/it]"
     ]
    },
    {
     "name": "stdout",
     "output_type": "stream",
     "text": [
      "Use short runs for Italy\n"
     ]
    },
    {
     "name": "stderr",
     "output_type": "stream",
     "text": [
      " 43%|████▎     | 3/7 [00:08<00:10,  2.65s/it]"
     ]
    },
    {
     "name": "stdout",
     "output_type": "stream",
     "text": [
      "Use short runs for Scotland\n"
     ]
    },
    {
     "name": "stderr",
     "output_type": "stream",
     "text": [
      "100%|██████████| 7/7 [00:20<00:00,  2.91s/it]\n"
     ]
    }
   ],
   "source": [
    "countries = [\n",
    "    'England',\n",
    "    \"Czechia\",\n",
    "    \"Italy\",\n",
    "    'Scotland',\n",
    "    \"Spain\",\n",
    "    \"Germany\",\n",
    "    \"France\"\n",
    "]\n",
    "from tqdm import tqdm\n",
    "import os\n",
    "tune = 500\n",
    "draws = 1000\n",
    "max_treedepth = 12\n",
    "traces, models, dls = {}, {}, {}\n",
    "for country in tqdm(countries):\n",
    "    models_t, traces_t, dls_t = [],[],[]\n",
    "    for f_fem in [0.2, 0.5]:\n",
    "        fstr=lambda tune, draws, max_treedepth: (f\"/data.nst/jdehning/covid_uefa_traces11/UEFA\"+\n",
    "            f\"-beta=False\"+\n",
    "            f\"-country={country}\"+\n",
    "            f\"-offset_data=0\"+\n",
    "            f\"-draw_delay=True\"+\n",
    "            f\"-weighted_alpha_prior=0\"+\n",
    "            f\"-prior_delay=-1\"+\n",
    "            f\"-width_delay_prior=0.1\"+\n",
    "            f\"-sigma_incubation=-1.0\"+\n",
    "            f\"-median_width_delay={median_width}\"+\n",
    "            f\"-interval_cps={10.0}\"+\n",
    "            f\"-f_fem={f_fem}\"+\n",
    "            f\"-len=normal\"+\n",
    "            f\"-tune={tune}\"+\n",
    "            f\"-draws={draws}\"+\n",
    "            f\"-max_treedepth={max_treedepth}.pickled\")\n",
    "        if os.path.exists(fstr(tune, draws, max_treedepth)):\n",
    "            model, trace = load(fstr(tune, draws, max_treedepth))\n",
    "        elif os.path.exists(fstr(200, 300, 10)):\n",
    "            print(f\"Use short runs for {country}\")\n",
    "            model, trace = load(fstr(200, 300, 10))\n",
    "        else: \n",
    "            print(fstr(tune, draws), \" not found\")\n",
    "            continue\n",
    "        dl = covid19_soccer.dataloader.Dataloader_gender(countries=[country])\n",
    "        models_t.append(model)\n",
    "        traces_t.append(trace)\n",
    "        dls_t.append(dl)\n",
    "    models[country] = models_t\n",
    "    traces[country] = traces_t\n",
    "    dls[country] = dls_t"
   ]
  },
  {
   "cell_type": "code",
   "execution_count": null,
   "metadata": {},
   "outputs": [],
   "source": [
    "from covid19_soccer.plot.utils import lighten_color\n",
    "from covid19_soccer.plot.rcParams import *\n",
    "from matplotlib.colors import to_hex\n",
    "fig, axes = plt.subplots(len(countries),3,figsize=(7,len(countries)*0.8),gridspec_kw={\"width_ratios\":[0.8,0.3,0.3]})\n",
    "\n",
    "colors_base = [#\"#ffe530\",\n",
    "              \"#1e958a\",\"#481f68\"]\n",
    "l = 0.9\n",
    "d = 1.1\n",
    "\n",
    "colors_mf = []\n",
    "for col in colors_base:\n",
    "    colors_mf.append(to_hex(lighten_color(col,l)))\n",
    "    colors_mf.append(to_hex(lighten_color(col,d)))\n",
    "colors_mf = np.array(colors_mf)\n",
    "\n",
    "for i, country in enumerate(countries):\n",
    "    covid19_soccer.plot.other.soccer_related_cases_overview(\n",
    "        ax=axes[i,0],\n",
    "        traces=traces[country],\n",
    "        models=models[country],\n",
    "        dls=dls[country],\n",
    "        country_order=[0,1],\n",
    "        colors=colors_mf\n",
    "        \n",
    "        )\n",
    "    axes[i,0].set_xticklabels([\"20%\",\"50%\"])\n",
    "    axes[i,0].set_ylabel(dls[country][0].countries[0])\n",
    "    axes[i,0].yaxis.set_label_coords(-0.18, 0.5)\n",
    "\n",
    "    if i != len(countries)-1:\n",
    "        axes[i,0].set_xticklabels([])\n",
    "\n",
    "    for j, (trace, model , dl, color,ls) in enumerate(zip(traces[country], models[country], dls[country], colors_base, [(0, (5, 7)),\"dashed\",\"-\"])):\n",
    "        \n",
    "        if j == 2:\n",
    "            axes[i,j+1].set_xlim(0,1)\n",
    "        else:\n",
    "            axes[i,j+1].set_xlim(0,1)\n",
    "        rcParams.color_posterior=colors_base[j]\n",
    "        covid19_soccer.plot.distributions.distribution(\n",
    "            model,\n",
    "            trace,\n",
    "            \"factor_female\",\n",
    "            nSamples_prior=5000,\n",
    "            title=\"\",\n",
    "            dist_math=\"\\omega_\\mathrm{fem}\",\n",
    "            ax=axes[i,j+1],\n",
    "        )\n",
    "        if i != len(countries)-1:\n",
    "            axes[i,j+1].set_xticklabels([])\n",
    "    #axes[i,1].set_ylim(0.6,2)\n",
    "    #axes[i,1].set_yticks([1,1.5])\n",
    "    #axes[i,1].yaxis.set_label_coords(-0.12, 0.5)\n",
    "# Array of capital letters\n",
    "letters = np.array(list(\"ABCDEFGHIJKLMNOPQRSTUVWXYZ\"))\n",
    "\n",
    "# Add label letters to figure\n",
    "for i, country in enumerate(countries):\n",
    "    axes[i,0].text(\n",
    "        -0.08,\n",
    "        1.15,\n",
    "        letters[i]+\"1\",\n",
    "        transform=axes[i,0].transAxes,\n",
    "        fontsize=8,\n",
    "        fontweight=\"bold\",\n",
    "        verticalalignment=\"top\"\n",
    "    )\n",
    "    axes[i,1].text(\n",
    "        -0.08,\n",
    "        1.15,\n",
    "        letters[i]+\"2\",\n",
    "        transform=axes[i,1].transAxes,\n",
    "        fontsize=8,\n",
    "        fontweight=\"bold\",\n",
    "        verticalalignment=\"top\"\n",
    "    )\n",
    "# set ylims\n",
    "ylims = {\n",
    "    \"England\":[-3,25],\n",
    "    \"Czechia\":[-3,25],\n",
    "    \"Italy\":[-10,30],\n",
    "    \"Scotland\":[0.5,8],\n",
    "    \"Spain\":[-3,15],\n",
    "    \"Germany\":[-4,15],\n",
    "    \"France\":[-5,8],\n",
    "}\n",
    "for i, country in enumerate(countries):\n",
    "    axes[i,0].set_ylim(ylims[country])\n",
    "\n",
    "# Set overarching y label\n",
    "axes[0,0].text(-0.32,-len(countries)/2+0.5,\"Fraction soccer related cases\",transform=axes[0,0].transAxes,rotation=90,ha=\"center\",va=\"center\",fontsize=8)\n",
    "\n",
    "axes[-1,0].set_xlabel(\"Prior of the fraction of female participation ($\\omega_{\\mathrm{female}}$)\")\n",
    "plt.savefig(f\"{fig_path}/plots_fraction_female.pdf\", **save_kwargs)\n",
    "plt.savefig(f\"{fig_path}/plots_fraction_female.png\", **save_kwargs)\n",
    "plt.show()\n",
    "plt.close(fig=fig)\n"
   ]
  },
  {
   "cell_type": "code",
   "execution_count": null,
   "metadata": {},
   "outputs": [],
   "source": []
  }
 ],
 "metadata": {
  "interpreter": {
   "hash": "0fd5df21f5c79ee35aa43f2be12455e31376a68a747783be21f47f9e875fad37"
  },
  "kernelspec": {
   "display_name": "Python 3",
   "language": "python",
   "name": "python3"
  },
  "language_info": {
   "codemirror_mode": {
    "name": "ipython",
    "version": 3
   },
   "file_extension": ".py",
   "mimetype": "text/x-python",
   "name": "python",
   "nbconvert_exporter": "python",
   "pygments_lexer": "ipython3",
   "version": "3.8.10"
  }
 },
 "nbformat": 4,
 "nbformat_minor": 4
}
