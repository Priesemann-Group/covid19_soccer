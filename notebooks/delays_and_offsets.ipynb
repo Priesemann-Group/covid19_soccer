{
 "cells": [
  {
   "cell_type": "markdown",
   "metadata": {},
   "source": [
    "# Delays and offsets\n",
    "\n",
    "To validate our results we look at different delays and offsets. The goal here is to analyse the effect of different prior delays and different game offsets."
   ]
  },
  {
   "cell_type": "code",
   "execution_count": 1,
   "metadata": {},
   "outputs": [],
   "source": [
    "\"\"\" Imports\n",
    "\"\"\"\n",
    "import pickle\n",
    "import sys\n",
    "import matplotlib\n",
    "import matplotlib.pyplot as plt\n",
    "import matplotlib.dates as mdates\n",
    "import matplotlib.ticker as mtick\n",
    "import numpy as np\n",
    "import pandas as pd\n",
    "import datetime\n",
    "import seaborn as sns\n",
    "\n",
    "sys.path.append(\"../\")\n",
    "sys.path.append(\"../covid19_inference\")\n",
    "\n",
    "import covid19_soccer\n",
    "import covid19_inference as cov19\n",
    "\n",
    "\"\"\" Matplotlib config\n",
    "\"\"\"\n",
    "matplotlib.rcParams.update(matplotlib.rcParamsDefault)\n",
    "matplotlib.rcParams['font.family'] = \"sans-serif\"\n",
    "matplotlib.rcParams[\"figure.figsize\"] = [3.4, 2.7]  # APS single column\n",
    "matplotlib.rcParams[\"figure.dpi\"] = 300  # this primarily affects the size on screen\n",
    "#matplotlib.rcParams['axes.linewidth'] = 0.3\n",
    "matplotlib.rcParams[\"axes.labelcolor\"] = \"black\"\n",
    "matplotlib.rcParams[\"axes.edgecolor\"] = \"black\"\n",
    "matplotlib.rcParams[\"xtick.color\"] = \"black\"\n",
    "matplotlib.rcParams[\"ytick.color\"] = \"black\"\n",
    "matplotlib.rcParams[\"xtick.labelsize\"] = 8\n",
    "matplotlib.rcParams[\"ytick.labelsize\"] = 8\n",
    "matplotlib.rcParams[\"axes.labelsize\"] = 8\n",
    "matplotlib.rcParams[\"axes.titlesize\"]= 10\n",
    "matplotlib.rcParams[\"legend.fontsize\"] = 6\n",
    "matplotlib.rcParams[\"legend.title_fontsize\"] = 8\n",
    "\n",
    "\"\"\" General configs\n",
    "\"\"\"\n",
    "fig_path = \"./figures\"\n",
    "countries = [\"England\",\"Scotland\",\"Germany\",\"France\"]\n",
    "tune=200\n",
    "draws=300\n",
    "max_treedepth=10\n",
    "\"\"\" Utiliy functions\n",
    "\"\"\"\n",
    "# Load traces\n",
    "def load(fstr):\n",
    "    with open(fstr, \"rb\") as f:\n",
    "         return pickle.load(f)"
   ]
  },
  {
   "cell_type": "markdown",
   "metadata": {},
   "source": [
    "## Simple analysis only varying one parameter offset or delay respectivly"
   ]
  },
  {
   "cell_type": "code",
   "execution_count": 2,
   "metadata": {},
   "outputs": [
    {
     "ename": "SyntaxError",
     "evalue": "invalid syntax (<ipython-input-2-d90488d8274a>, line 20)",
     "output_type": "error",
     "traceback": [
      "\u001b[0;36m  File \u001b[0;32m\"<ipython-input-2-d90488d8274a>\"\u001b[0;36m, line \u001b[0;32m20\u001b[0m\n\u001b[0;31m    for country in countries:\u001b[0m\n\u001b[0m      ^\u001b[0m\n\u001b[0;31mSyntaxError\u001b[0m\u001b[0;31m:\u001b[0m invalid syntax\n"
     ]
    }
   ],
   "source": [
    "# Offset\n",
    "offsets = [-6, -4, -2, 1, 0, 1, 2, 4, 6, 8]\n",
    "models, traces, dls = [],[],[]\n",
    "\n",
    "country = \"Scotland\"\n",
    "for offset in offsets:\n",
    "    fstr=(f\"/data.nst/jdehning/covid_uefa_traces/UEFA\"+\n",
    "        f\"-beta=False\"+\n",
    "        f\"-country={country}\"+\n",
    "        f\"-offset_games={offset}\"+\n",
    "        f\"-draw_delay=True\"+\n",
    "        f\"-weighted_alpha_prior=0\"+\n",
    "        f\"-prior_delay=-1\"+\n",
    "        f\"-width_delay_prior=0.1\"+\n",
    "        f\"sigma_incubation=-1.0\"+\n",
    "        f\"-tune={tune}\"+\n",
    "        f\"-draws={draws}\"+\n",
    "        f\"-max_treedepth={max_treedepth}.pickled\")   \n",
    "    model, trace = load(fstr)\n",
    "    dl = covid19_uefa.dataloader.Dataloader_gender(countries=[country])\n",
    "    \n",
    "    models.append(model)\n",
    "    traces.append(trace)\n",
    "    dls.append(dl)"
   ]
  },
  {
   "cell_type": "code",
   "execution_count": null,
   "metadata": {},
   "outputs": [],
   "source": []
  }
 ],
 "metadata": {
  "kernelspec": {
   "display_name": "Python 3",
   "language": "python",
   "name": "python3"
  },
  "language_info": {
   "codemirror_mode": {
    "name": "ipython",
    "version": 3
   },
   "file_extension": ".py",
   "mimetype": "text/x-python",
   "name": "python",
   "nbconvert_exporter": "python",
   "pygments_lexer": "ipython3",
   "version": "3.7.7"
  }
 },
 "nbformat": 4,
 "nbformat_minor": 4
}
