{
 "cells": [
  {
   "cell_type": "markdown",
   "id": "60a324e3-a1d5-4247-a86e-c0aad8517f34",
   "metadata": {},
   "source": [
    "# Overall contribution"
   ]
  },
  {
   "cell_type": "code",
   "execution_count": 1,
   "id": "891bd431-bf64-40c2-bd87-293ddc9c5f6d",
   "metadata": {},
   "outputs": [],
   "source": [
    "import pickle\n",
    "import sys\n",
    "import matplotlib.pyplot as plt\n",
    "import numpy as np\n",
    "from tqdm.auto import tqdm\n",
    "import os\n",
    "import pandas as pd\n",
    "import datetime\n",
    "import matplotlib.ticker as ticker\n",
    "sys.path.append(\"../../\")\n",
    "sys.path.append(\"../../covid19_inference\")\n",
    "sys.path.append(\"../\")\n",
    "\n",
    "import covid19_soccer\n",
    "from covid19_soccer.plot.utils import get_from_trace\n",
    "#import covid19_inference as cov19\n",
    "from header_plotting import *"
   ]
  },
  {
   "cell_type": "code",
   "execution_count": 2,
   "id": "9f6b460c-e997-4e30-84c1-d7883d19fa22",
   "metadata": {},
   "outputs": [],
   "source": [
    "%load_ext autoreload\n",
    "%autoreload 2"
   ]
  },
  {
   "cell_type": "code",
   "execution_count": null,
   "id": "1e18ef9d-eb11-4eb0-99c4-741d179d75a1",
   "metadata": {},
   "outputs": [
    {
     "data": {
      "application/vnd.jupyter.widget-view+json": {
       "model_id": "7bde86fe7ffe4270b7168019d42375e4",
       "version_major": 2,
       "version_minor": 0
      },
      "text/plain": [
       "  0%|          | 0/12 [00:00<?, ?it/s]"
      ]
     },
     "metadata": {},
     "output_type": "display_data"
    },
    {
     "name": "stdout",
     "output_type": "stream",
     "text": [
      "Use 4000 sample runs for England\n",
      "Use 8000 sample runs for Scotland\n",
      "Use 8000 sample runs for Germany\n",
      "Use 4000 sample runs for France\n"
     ]
    }
   ],
   "source": [
    "def load(fstr):\n",
    "    with open(fstr, \"rb\") as f:\n",
    "         return pickle.load(f)\n",
    "\n",
    "countries = [\"England\",\"Scotland\",\"Germany\",\"France\",\"Spain\",\"Slovakia\",\"Portugal\",\"Netherlands\",\"Italy\",\"Czechia\",\"Belgium\",\"Austria\"]\n",
    "traces, models, dls = [], [], []\n",
    "for country in tqdm(countries):\n",
    "    #'UEFA-beta=False-country=England-offset_games=0-draw_delay=True-weighted_alpha_prior=0-prior_delay=-1-width_delay_prior=0.1-sigma_incubation=-1.0-median_width_delay=1.0-tune=200-draws=300-max_treedepth=10.pickled'\n",
    "    model = None\n",
    "    fstr=lambda tune, draws, max_treedepth: (f\"/data.nst/smohr/covid19_soccer_data/main_traces/\"+\n",
    "        f\"-beta=False\"+\n",
    "        f\"-country={country}\"+\n",
    "        f\"-offset_data=0\"+\n",
    "        f\"-prior_delay=-1\"+\n",
    "        f\"-width_delay_prior=0.1\"+\n",
    "        f\"-sigma_incubation=-1.0\"+\n",
    "        f\"-median_width_delay=1.0\"+\n",
    "        f\"-interval_cps=10.0\"+\n",
    "        f\"-f_fem=0.2\"+\n",
    "        f\"-uc=True\"\n",
    "        f\"-len=normal\"+                    \n",
    "        f\"-t={tune}\"+\n",
    "        f\"-d={draws}\"+\n",
    "        f\"-max_treedepth={max_treedepth}.pkl\")\n",
    "    #print(fstr(4000, 8000, 12))\n",
    "    if os.path.exists(fstr(4000, 8000, 12)):\n",
    "        try:\n",
    "            model, trace = load(fstr(4000, 8000, 12))\n",
    "            print(f\"Use 8000 sample runs for {country}\")\n",
    "        except:\n",
    "            pass\n",
    "    if model is None and os.path.exists(fstr(2000, 4000, 12)):\n",
    "        try:\n",
    "            model, trace = load(fstr(2000, 4000, 12))\n",
    "            print(f\"Use 4000 sample runs for {country}\")\n",
    "        except:\n",
    "            pass\n",
    "    if model is None and os.path.exists(fstr(1000, 1500, 12)):\n",
    "        try: \n",
    "            model, trace = load(fstr(1000, 1500, 12))\n",
    "            print(f\"Use 1500 sample runs for {country}\")\n",
    "        except:\n",
    "            pass\n",
    "    if model is None: \n",
    "        print(fstr(tune, draws, max_treedepth), \" not found\")\n",
    "        continue\n",
    "    \n",
    "    # Remove chains with likelihood larger than -200, should only be the case for 2 chains in France\n",
    "    mask = (np.mean(trace.sample_stats.lp, axis=1)>-200)\n",
    "    trace.posterior = trace.posterior.sel(chain=~mask)\n",
    "    \n",
    "    dl = covid19_soccer.dataloader.Dataloader_gender(countries=[country])\n",
    "    models.append(model)\n",
    "    traces.append(trace)\n",
    "    dls.append(dl)"
   ]
  },
  {
   "cell_type": "code",
   "execution_count": null,
   "id": "68ed43f9-2733-42db-acac-24e0e38f89ad",
   "metadata": {},
   "outputs": [],
   "source": [
    "infections_no = []\n",
    "infections_primary = []\n",
    "infections_secondary = []\n",
    "for i, country in tqdm(enumerate(countries)):\n",
    "    trace_without_soccer, trace_primary_soccer = load(f\"/data.nst/smohr/covid19_soccer_data/primary_and_subsequent/{country}.pkl\")\n",
    "    shape = trace_without_soccer.predictions[\"new_cases\"].to_numpy().shape\n",
    "    x = pd.date_range(models[i].sim_begin, models[i].sim_end)\n",
    "    y0 = trace_without_soccer.predictions[\"new_cases\"].to_numpy().reshape(shape[0]*shape[1]*shape[2],shape[3],shape[4])\n",
    "    y1 = trace_primary_soccer.predictions[\"new_cases\"].to_numpy().reshape(shape[0]*shape[1]*shape[2],shape[3],shape[4]) - y0\n",
    "    y2 = traces[i].posterior[\"new_cases\"].to_numpy().reshape(shape[0]*shape[1]*shape[2],shape[3],shape[4]) - y1 - y0\n",
    "\n",
    "    begin = datetime.datetime(2021, 6, 11)\n",
    "    end = datetime.datetime(2021, 7, 31)\n",
    "    i_begin = (begin - model.sim_begin).days\n",
    "    i_end = (end - model.sim_begin).days + 1  # inclusiv last day\n",
    "\n",
    "    y0 = np.sum(y0[..., i_begin:i_end, :], axis=-2)\n",
    "    y1 = np.sum(y1[..., i_begin:i_end, :], axis=-2)\n",
    "    y2 = np.sum(y2[..., i_begin:i_end, :], axis=-2)\n",
    "\n",
    "    infections_no.append(y0)\n",
    "    infections_primary.append(y1)\n",
    "    infections_secondary.append(y2)"
   ]
  },
  {
   "cell_type": "code",
   "execution_count": null,
   "id": "a5fc106c-220b-4671-9a48-55481e03c12d",
   "metadata": {},
   "outputs": [],
   "source": [
    "data_primary  = pd.DataFrame()\n",
    "means = []\n",
    "for i,country in enumerate(countries):\n",
    "    # compute fraction of infected people\n",
    "    t_numpy = infections_primary[i] / (infections_no[i] + infections_primary[i] + infections_secondary[i]) * 100\n",
    "\n",
    "    male = np.stack(\n",
    "        (t_numpy[:, 0], np.zeros(t_numpy[:, 0].shape)), axis=1\n",
    "    )\n",
    "    female = np.stack(\n",
    "        (t_numpy[:, 1], np.ones(t_numpy[:, 1].shape)), axis=1\n",
    "    )\n",
    "    # Create dataframe for plotting\n",
    "    temp = pd.DataFrame(np.concatenate((male, female)), columns=[\"percentage_primary\", \"gender\"])\n",
    "    temp[\"gender\"] = pd.cut(\n",
    "        temp[\"gender\"], bins=[-1, 0.5, 1], labels=[\"male\", \"female\"]\n",
    "    )\n",
    "    temp[\"country\"] = country\n",
    "    data_primary = pd.concat([data_primary, temp])\n",
    "    means.append(np.mean(temp[\"percentage_primary\"]))\n",
    "country_order_primar = np.argsort(means)[::-1]\n",
    "\n",
    "data_primary_and_subsequent = pd.DataFrame()\n",
    "means = []\n",
    "for i, country in enumerate(countries):\n",
    "\n",
    "    # compute fraction\n",
    "    t_numpy = (infections_primary[i]+infections_secondary[i])/(infections_no[i] + infections_primary[i] + infections_secondary[i]) * 100\n",
    "\n",
    "    male = np.stack(\n",
    "        (t_numpy[:, 0], np.zeros(t_numpy[:, 0].shape)), axis=1\n",
    "    )\n",
    "    female = np.stack(\n",
    "        (t_numpy[:, 1], np.ones(t_numpy[:, 1].shape)), axis=1\n",
    "    )\n",
    "    # Create dataframe for plotting\n",
    "    temp = pd.DataFrame(np.concatenate((male, female)), columns=[\"percentage_primary_and_subsequent\", \"gender\"])\n",
    "    temp[\"gender\"] = pd.cut(\n",
    "        temp[\"gender\"], bins=[-1, 0.5, 1], labels=[\"male\", \"female\"]\n",
    "    )\n",
    "    temp[\"country\"] = country\n",
    "    data_primary_and_subsequent = pd.concat([data_primary_and_subsequent, temp])\n",
    "    means.append(np.mean(temp[\"percentage_primary_and_subsequent\"]))\n",
    "country_order_primary_and_subsequent = np.argsort(means)[::-1]"
   ]
  },
  {
   "cell_type": "code",
   "execution_count": null,
   "id": "86784784-e2ef-47e2-a373-27d7994c87df",
   "metadata": {},
   "outputs": [],
   "source": [
    "# Compute interesting values as fraction and as incidence\n",
    "primary_frac = []\n",
    "for i, country in enumerate(countries):\n",
    "    temp = data_primary[data_primary[\"country\"] == country].drop(columns=[\"country\",\"gender\"])\n",
    "    primary_frac.append(temp.to_numpy()[:,0])\n",
    "\n",
    "\n",
    "primary_and_subsequent_frac = []\n",
    "for i, country in enumerate(countries):\n",
    "    temp = data_primary_and_subsequent[data_primary_and_subsequent[\"country\"] == country].drop(columns=[\"country\",\"gender\"])\n",
    "    primary_and_subsequent_frac.append(temp.to_numpy()[:,0])\n",
    "\n",
    "\n",
    "primary_inci = []\n",
    "for i, country in enumerate(countries):\n",
    "    temp = infections_primary[i]\n",
    "    primary_inci.append(temp.sum(axis=1) / dls[i].population.sum()*1e6)\n",
    "\n",
    "primary_and_subsequent_inci = []\n",
    "for i, country in enumerate(countries):\n",
    "    temp = infections_primary[i] + infections_secondary[i]\n",
    "    primary_and_subsequent_inci.append(temp.sum(axis=1) / dls[i].population.sum()*1e6)\n",
    "    \n"
   ]
  },
  {
   "cell_type": "code",
   "execution_count": null,
   "id": "ab89b10a-f68f-4adf-8ce6-a5a9014146ea",
   "metadata": {},
   "outputs": [],
   "source": [
    "\n",
    "\n"
   ]
  }
 ],
 "metadata": {
  "kernelspec": {
   "display_name": "Python 3 (ipykernel)",
   "language": "python",
   "name": "python3"
  },
  "language_info": {
   "codemirror_mode": {
    "name": "ipython",
    "version": 3
   },
   "file_extension": ".py",
   "mimetype": "text/x-python",
   "name": "python",
   "nbconvert_exporter": "python",
   "pygments_lexer": "ipython3",
   "version": "3.9.5"
  }
 },
 "nbformat": 4,
 "nbformat_minor": 5
}
