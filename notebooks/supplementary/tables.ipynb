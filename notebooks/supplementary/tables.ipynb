{
 "cells": [
  {
   "cell_type": "markdown",
   "id": "c81632f2-f8e1-49df-8551-8ee07a19698a",
   "metadata": {},
   "source": [
    "# Tables\n",
    "\n",
    "This notebook creates all tables included in the publication"
   ]
  },
  {
   "cell_type": "code",
   "execution_count": 1,
   "id": "703e7712-6605-41ca-8f6f-f22a841a086c",
   "metadata": {},
   "outputs": [],
   "source": [
    "import pickle\n",
    "import sys\n",
    "import matplotlib.pyplot as plt\n",
    "import numpy as np\n",
    "from tqdm.auto import tqdm\n",
    "import os\n",
    "import pandas as pd\n",
    "import datetime\n",
    "import matplotlib.ticker as ticker\n",
    "sys.path.append(\"../../\")\n",
    "sys.path.append(\"../../covid19_inference\")\n",
    "sys.path.append(\"../\")\n",
    "\n",
    "import covid19_soccer\n",
    "from covid19_soccer.plot.utils import get_from_trace\n",
    "import covid19_inference as cov19\n",
    "from header_plotting import *"
   ]
  },
  {
   "cell_type": "code",
   "execution_count": 2,
   "id": "cf7ece54-6ae6-4c3f-88aa-06594281c803",
   "metadata": {},
   "outputs": [],
   "source": [
    "%load_ext autoreload\n",
    "%autoreload 2"
   ]
  },
  {
   "cell_type": "code",
   "execution_count": 3,
   "id": "40acb493-0982-4e37-a6bf-e95f297217d7",
   "metadata": {},
   "outputs": [
    {
     "data": {
      "application/vnd.jupyter.widget-view+json": {
       "model_id": "72a86dd886a44492b107d081a11cab19",
       "version_major": 2,
       "version_minor": 0
      },
      "text/plain": [
       "  0%|          | 0/12 [00:00<?, ?it/s]"
      ]
     },
     "metadata": {},
     "output_type": "display_data"
    },
    {
     "name": "stdout",
     "output_type": "stream",
     "text": [
      "Use 4000 sample runs for England\n",
      "Use 8000 sample runs for Scotland\n",
      "Use 8000 sample runs for Germany\n",
      "Use 4000 sample runs for France\n",
      "Use 8000 sample runs for Spain\n",
      "Use 8000 sample runs for Slovakia\n",
      "Use 4000 sample runs for Portugal\n",
      "Use 8000 sample runs for Netherlands\n",
      "Use 8000 sample runs for Italy\n",
      "Use 8000 sample runs for Czechia\n",
      "Use 8000 sample runs for Belgium\n",
      "Use 8000 sample runs for Austria\n"
     ]
    }
   ],
   "source": [
    "def load(fstr):\n",
    "    with open(fstr, \"rb\") as f:\n",
    "         return pickle.load(f)\n",
    "\n",
    "countries = [\"England\",\"Scotland\",\"Germany\",\"France\",\"Spain\",\"Slovakia\",\"Portugal\",\"Netherlands\",\"Italy\",\"Czechia\",\"Belgium\",\"Austria\"]\n",
    "traces, models, dls = [], [], []\n",
    "for country in tqdm(countries):\n",
    "    #'UEFA-beta=False-country=England-offset_games=0-draw_delay=True-weighted_alpha_prior=0-prior_delay=-1-width_delay_prior=0.1-sigma_incubation=-1.0-median_width_delay=1.0-tune=200-draws=300-max_treedepth=10.pickled'\n",
    "    model = None\n",
    "    fstr=lambda tune, draws, max_treedepth: (f\"/data.nst/smohr/covid19_soccer_data/main_traces/\"+\n",
    "        f\"-beta=False\"+\n",
    "        f\"-country={country}\"+\n",
    "        f\"-offset_data=0\"+\n",
    "        f\"-prior_delay=-1\"+\n",
    "        f\"-width_delay_prior=0.1\"+\n",
    "        f\"-sigma_incubation=-1.0\"+\n",
    "        f\"-median_width_delay=1.0\"+\n",
    "        f\"-interval_cps=10.0\"+\n",
    "        f\"-f_fem=0.2\"+\n",
    "        f\"-uc=True\"\n",
    "        f\"-len=normal\"+                    \n",
    "        f\"-t={tune}\"+\n",
    "        f\"-d={draws}\"+\n",
    "        f\"-max_treedepth={max_treedepth}.pkl\")\n",
    "    #print(fstr(4000, 8000, 12))\n",
    "    if os.path.exists(fstr(4000, 8000, 12)):\n",
    "        try:\n",
    "            model, trace = load(fstr(4000, 8000, 12))\n",
    "            print(f\"Use 8000 sample runs for {country}\")\n",
    "        except:\n",
    "            pass\n",
    "    if model is None and os.path.exists(fstr(2000, 4000, 12)):\n",
    "        try:\n",
    "            model, trace = load(fstr(2000, 4000, 12))\n",
    "            print(f\"Use 4000 sample runs for {country}\")\n",
    "        except:\n",
    "            pass\n",
    "    if model is None and os.path.exists(fstr(1000, 1500, 12)):\n",
    "        try: \n",
    "            model, trace = load(fstr(1000, 1500, 12))\n",
    "            print(f\"Use 1500 sample runs for {country}\")\n",
    "        except:\n",
    "            pass\n",
    "    if model is None:\n",
    "        print(\" not found\")\n",
    "        continue\n",
    "    \n",
    "    # Remove chains with likelihood larger than -200, should only be the case for 2 chains in France\n",
    "    mask = (np.mean(trace.sample_stats.lp, axis=1)>-200)\n",
    "    trace.posterior = trace.posterior.sel(chain=~mask)\n",
    "    \n",
    "    dl = covid19_soccer.dataloader.Dataloader_gender(countries=[country])\n",
    "    models.append(model)\n",
    "    traces.append(trace)\n",
    "    dls.append(dl)"
   ]
  },
  {
   "cell_type": "code",
   "execution_count": 4,
   "id": "c9e04663-d784-4c12-be4a-44da602a2979",
   "metadata": {},
   "outputs": [
    {
     "data": {
      "application/vnd.jupyter.widget-view+json": {
       "model_id": "00c068100ef84cbea4312560b48fcbb1",
       "version_major": 2,
       "version_minor": 0
      },
      "text/plain": [
       "0it [00:00, ?it/s]"
      ]
     },
     "metadata": {},
     "output_type": "display_data"
    }
   ],
   "source": [
    "infections_no = []\n",
    "infections_primary = []\n",
    "infections_secondary = []\n",
    "for i, country in tqdm(enumerate(countries)):\n",
    "    trace_without_soccer, trace_primary_soccer = load(f\"/data.nst/smohr/covid19_soccer_data/primary_and_subsequent/{country}.pkl\")\n",
    "    shape = trace_without_soccer.predictions[\"new_cases\"].to_numpy().shape\n",
    "    x = pd.date_range(models[i].sim_begin, models[i].sim_end)\n",
    "    y0 = trace_without_soccer.predictions[\"new_cases\"].to_numpy().reshape(shape[0]*shape[1]*shape[2],shape[3],shape[4])\n",
    "    y1 = trace_primary_soccer.predictions[\"new_cases\"].to_numpy().reshape(shape[0]*shape[1]*shape[2],shape[3],shape[4]) - y0\n",
    "    y2 = traces[i].posterior[\"new_cases\"].to_numpy().reshape(shape[0]*shape[1]*shape[2],shape[3],shape[4]) - y1 - y0\n",
    "\n",
    "    begin = datetime.datetime(2021, 6, 11)\n",
    "    end = datetime.datetime(2021, 7, 31)\n",
    "    i_begin = (begin - model.sim_begin).days\n",
    "    i_end = (end - model.sim_begin).days + 1  # inclusiv last day\n",
    "\n",
    "    y0 = np.sum(y0[..., i_begin:i_end, :], axis=-2)\n",
    "    y1 = np.sum(y1[..., i_begin:i_end, :], axis=-2)\n",
    "    y2 = np.sum(y2[..., i_begin:i_end, :], axis=-2)\n",
    "\n",
    "    infections_no.append(y0)\n",
    "    infections_primary.append(y1)\n",
    "    infections_secondary.append(y2)"
   ]
  },
  {
   "cell_type": "code",
   "execution_count": 5,
   "id": "68c8dc7f-ef0a-49e2-96d5-1b075db24ba3",
   "metadata": {},
   "outputs": [],
   "source": [
    "data_primary  = pd.DataFrame()\n",
    "means = []\n",
    "for i,country in enumerate(countries):\n",
    "    # compute fraction of infected people\n",
    "    t_numpy = infections_primary[i] / (infections_no[i] + infections_primary[i] + infections_secondary[i]) * 100\n",
    "\n",
    "    male = np.stack(\n",
    "        (t_numpy[:, 0], np.zeros(t_numpy[:, 0].shape)), axis=1\n",
    "    )\n",
    "    female = np.stack(\n",
    "        (t_numpy[:, 1], np.ones(t_numpy[:, 1].shape)), axis=1\n",
    "    )\n",
    "    # Create dataframe for plotting\n",
    "    temp = pd.DataFrame(np.concatenate((male, female)), columns=[\"percentage_primary\", \"gender\"])\n",
    "    temp[\"gender\"] = pd.cut(\n",
    "        temp[\"gender\"], bins=[-1, 0.5, 1], labels=[\"male\", \"female\"]\n",
    "    )\n",
    "    temp[\"country\"] = country\n",
    "    data_primary = pd.concat([data_primary, temp])\n",
    "    means.append(np.mean(temp[\"percentage_primary\"]))\n",
    "country_order_primar = np.argsort(means)[::-1]\n",
    "\n",
    "data_primary_and_subsequent = pd.DataFrame()\n",
    "means = []\n",
    "for i, country in enumerate(countries):\n",
    "\n",
    "    # compute fraction\n",
    "    t_numpy = (infections_primary[i]+infections_secondary[i])/(infections_no[i] + infections_primary[i] + infections_secondary[i]) * 100\n",
    "\n",
    "    male = np.stack(\n",
    "        (t_numpy[:, 0], np.zeros(t_numpy[:, 0].shape)), axis=1\n",
    "    )\n",
    "    female = np.stack(\n",
    "        (t_numpy[:, 1], np.ones(t_numpy[:, 1].shape)), axis=1\n",
    "    )\n",
    "    # Create dataframe for plotting\n",
    "    temp = pd.DataFrame(np.concatenate((male, female)), columns=[\"percentage_primary_and_subsequent\", \"gender\"])\n",
    "    temp[\"gender\"] = pd.cut(\n",
    "        temp[\"gender\"], bins=[-1, 0.5, 1], labels=[\"male\", \"female\"]\n",
    "    )\n",
    "    temp[\"country\"] = country\n",
    "    data_primary_and_subsequent = pd.concat([data_primary_and_subsequent, temp])\n",
    "    means.append(np.mean(temp[\"percentage_primary_and_subsequent\"]))\n",
    "country_order_primary_and_subsequent = np.argsort(means)[::-1]"
   ]
  },
  {
   "cell_type": "code",
   "execution_count": 7,
   "id": "792c12c7-117c-42fe-aa6d-75030c9b103e",
   "metadata": {},
   "outputs": [],
   "source": [
    "# Compute interesting values as fraction and as incidence\n",
    "primary_frac = []\n",
    "for i, country in enumerate(countries):\n",
    "    temp = data_primary[data_primary[\"country\"] == country].drop(columns=[\"country\",\"gender\"])\n",
    "    primary_frac.append(temp.to_numpy()[:,0])\n",
    "\n",
    "\n",
    "primary_and_subsequent_frac = []\n",
    "for i, country in enumerate(countries):\n",
    "    temp = data_primary_and_subsequent[data_primary_and_subsequent[\"country\"] == country].drop(columns=[\"country\",\"gender\"])\n",
    "    primary_and_subsequent_frac.append(temp.to_numpy()[:,0])\n",
    "\n",
    "\n",
    "primary_inci = []\n",
    "for i, country in enumerate(countries):\n",
    "    temp = infections_primary[i]\n",
    "    primary_inci.append(temp / dls[i].population[0]*1e6)\n",
    "\n",
    "primary_and_subsequent_inci = []\n",
    "for i, country in enumerate(countries):\n",
    "    temp = infections_primary[i] + infections_secondary[i]\n",
    "    primary_and_subsequent_inci.append(temp / dls[i].population[0]*1e6)\n",
    "    \n"
   ]
  },
  {
   "cell_type": "markdown",
   "id": "4137a76e-51e0-4054-9384-aedb2e979b88",
   "metadata": {},
   "source": [
    "## SI Table 1: Fractions"
   ]
  },
  {
   "cell_type": "code",
   "execution_count": null,
   "id": "f992ba63-078e-4a20-adf1-38d3767efb68",
   "metadata": {},
   "outputs": [],
   "source": [
    "table = []\n",
    "for i, country in enumerate(np.array(countries)[country_order_primar]):\n",
    "    # Primary infections\n",
    "    data  = data_primary[data_primary[\"country\"] == country]\n",
    "\n",
    "    CI = np.percentile(data[\"percentage_primary\"], q = (2.5,50,97.5))\n",
    "    prob_positive = np.sum(data[\"percentage_primary\"] > 0) / data[\"percentage_primary\"].shape[0] * 100\n",
    "\n",
    "    # Secondary infections and primary\n",
    "    data  = data_primary_and_subsequent[data_primary_and_subsequent[\"country\"] == country]\n",
    "    CI_sub = np.percentile(data[\"percentage_primary_and_subsequent\"], q = (2.5,50,97.5))\n",
    "    print(CI_sub)\n",
    "    # Create table entries\n",
    "    if prob_positive > 99.9:\n",
    "        text_prob_pos = \"$> 99.9$\\%\"\n",
    "    else:\n",
    "        text_prob_pos = f\"{prob_positive:.1f}\\%\"\n",
    "\n",
    "    table.append([country, f\"{CI[1]:.1f}\\% (CI: [{CI[0]:.1f}\\%, {CI[2]:.1f}\\%])\", text_prob_pos,\n",
    "              f\"{CI_sub[1]:.1f}\\% (CI: [{CI_sub[0]:.1f}\\%, {CI_sub[2]:.1f}\\%])\"])"
   ]
  },
  {
   "cell_type": "code",
   "execution_count": null,
   "id": "85a52a13-e2ab-4184-97e8-96cf8dd0feda",
   "metadata": {},
   "outputs": [],
   "source": [
    "from tabulate import tabulate\n",
    "headers = ['Country', 'median fraction soccer related cases', 'probability soccer increased cases', \"fraction secondary infections until 31.07.2021\"]\n",
    "print(tabulate(table, headers, tablefmt=\"latex_raw\"))"
   ]
  },
  {
   "cell_type": "markdown",
   "id": "b954b55f-b943-4598-ac06-bd8afc0b7ebc",
   "metadata": {},
   "source": [
    "## SI Table 2: Totals"
   ]
  },
  {
   "cell_type": "code",
   "execution_count": 53,
   "id": "fedbd097-e3c6-4ee8-af92-cf1e97c2b260",
   "metadata": {},
   "outputs": [],
   "source": [
    "table_2 = []\n",
    "for i, country in enumerate(np.array(countries)[country_order_primar]):\n",
    "    \n",
    "    c = country_order_primar[i]\n",
    "\n",
    "    row = []\n",
    "    \n",
    "    primary_mean, primary_lower, primary_upper = np.percentile(primary_inci[c], q = (50,2.5,97.5), axis=0)\n",
    "    subs_mean, subs_lower, subs_upper = np.percentile(primary_and_subsequent_inci[c], q = (50,2.5,97.5), axis=0)\n",
    "    \n",
    "    row.append(country)\n",
    "    for m,l,u in zip(primary_mean, primary_lower, primary_upper):\n",
    "        row.append(f\"{m:.0f} (CI: [{l:.0f}, {u:.0f}])\")\n",
    "    for m,l,u in zip(subs_mean, subs_lower, subs_upper):\n",
    "        row.append(f\"{m:.0f} (CI: [{l:.0f}, {u:.0f}])\")    \n",
    "    \n",
    "    table_2.append(row)"
   ]
  },
  {
   "cell_type": "code",
   "execution_count": 54,
   "id": "90a4358c-a792-463d-9d79-ff3237a8d833",
   "metadata": {},
   "outputs": [
    {
     "name": "stdout",
     "output_type": "stream",
     "text": [
      "\\begin{tabular}{lllll}\n",
      "\\hline\n",
      " Country     & Primary cases per $10^6$ inhibitants (male)   & Primary cases per $10^6$ inhibitants (female)   & Primary and subsequent cases per $10^6$ inhibitants (male)   & Primary and subsequent cases per $10^6$ inhibitants (female)   \\\\\n",
      "\\hline\n",
      " England     & 3091 (CI: [2174, 4092])                       & 1342 (CI: [890, 1972])                          & 10326 (CI: [7438, 12919])                                    & 8568 (CI: [6091, 11004])                                       \\\\\n",
      " Scotland    & 1760 (CI: [1342, 2191])                       & 405 (CI: [253, 609])                            & 9623 (CI: [7924, 11293])                                     & 7616 (CI: [6052, 9272])                                        \\\\\n",
      " Czechia     & 59 (CI: [9, 119])                             & 17 (CI: [2, 52])                                & 320 (CI: [45, 513])                                          & 287 (CI: [37, 466])                                            \\\\\n",
      " Italy       & 91 (CI: [-72, 262])                           & 23 (CI: [-19, 80])                              & 603 (CI: [-1775, 1409])                                      & 493 (CI: [-1529, 1171])                                        \\\\\n",
      " Spain       & 368 (CI: [-115, 748])                         & 94 (CI: [-32, 269])                             & 2888 (CI: [-1587, 5795])                                     & 2586 (CI: [-1500, 5367])                                       \\\\\n",
      " Germany     & 9 (CI: [-16, 30])                             & 2 (CI: [-5, 10])                                & 107 (CI: [-227, 298])                                        & 92 (CI: [-194, 257])                                           \\\\\n",
      " Slovakia    & 4 (CI: [-35, 33])                             & 1 (CI: [-9, 10])                                & 30 (CI: [-282, 162])                                         & 28 (CI: [-270, 153])                                           \\\\\n",
      " Belgium     & 29 (CI: [-91, 142])                           & 7 (CI: [-25, 42])                               & 322 (CI: [-1473, 1531])                                      & 298 (CI: [-1381, 1450])                                        \\\\\n",
      " Austria     & 15 (CI: [-79, 109])                           & 4 (CI: [-22, 33])                               & 215 (CI: [-1528, 1271])                                      & 190 (CI: [-1344, 1127])                                        \\\\\n",
      " France      & 31 (CI: [-19, 88])                            & 8 (CI: [-5, 29])                                & 884 (CI: [-655, 2299])                                       & 893 (CI: [-662, 2336])                                         \\\\\n",
      " Portugal    & -17 (CI: [-287, 228])                         & -4 (CI: [-90, 72])                              & -768 (CI: [-4090, 1661])                                     & -774 (CI: [-4026, 1581])                                       \\\\\n",
      " Netherlands & -119 (CI: [-224, -14])                        & -30 (CI: [-169, -3])                            & -2320 (CI: [-7660, 222])                                     & -2231 (CI: [-7654, 264])                                       \\\\\n",
      "\\hline\n",
      "\\end{tabular}\n"
     ]
    }
   ],
   "source": [
    "from tabulate import tabulate\n",
    "headers = ['Country', 'Primary cases per $10^6$ inhibitants (male)', 'Primary cases per $10^6$ inhibitants (female)', \"Primary and subsequent cases per $10^6$ inhibitants (male)\",\"Primary and subsequent cases per $10^6$ inhibitants (female)\"]\n",
    "print(tabulate(table_2, headers, tablefmt=\"latex_raw\"))"
   ]
  },
  {
   "cell_type": "markdown",
   "id": "769d6dff-5bf7-4eef-b919-71a7733cb968",
   "metadata": {},
   "source": [
    "## SI Table 3: Number of games hosted and played"
   ]
  },
  {
   "cell_type": "code",
   "execution_count": 47,
   "id": "59c28a4e-d996-4a62-a597-37d9185b7324",
   "metadata": {},
   "outputs": [],
   "source": [
    "table_3 = []\n",
    "\n",
    "df = pd.read_csv(\"../../data/em_game_data.csv\",header=2)\n",
    "df = df[~df[\"id\"].str.contains(\"a\")] # Filter extra games we added for validation these are suffixed with a\n",
    "\n",
    "\n",
    "country2location = {\n",
    "    \"GB-ENG\":\"London\",\n",
    "    \"IT\":\"Rome\",\n",
    "    \"AZ\":\"Baku\",\n",
    "    \"DE\":\"Munich\",\n",
    "    \"RU\":\"Saint Petersburg\",\n",
    "    \"HU\":\"Budapest\",\n",
    "    \"ES\":\"Seville\",\n",
    "    \"RO\":\"Bucharest\",\n",
    "    \"NL\":\"Amsterdam\",\n",
    "    \"GB-SCT\":\"Glasgow\",\n",
    "    \"DK\":\"Copenhagen\"\n",
    "}\n",
    "\n",
    "for i, country in enumerate(np.array(countries)[country_order_primar]):\n",
    "    c = country_order_primar[i]\n",
    "    iso2 = dls[c].countries_iso2[0]\n",
    "    gamesByTeam = df[df[' team1'].str.contains(iso2) | df[' team2'].str.contains(iso2)] \n",
    "    \n",
    "    \n",
    "    if iso2 in country2location:\n",
    "        location = country2location[iso2]\n",
    "        gamesHosted = df[df[' location'].str.contains(location)]\n",
    "    else:\n",
    "        gamesHosted = np.zeros((0,8))\n",
    "    \n",
    "    row = []\n",
    "    row.append(country)\n",
    "    row.append(gamesByTeam.shape[0])\n",
    "    row.append(gamesHosted.shape[0])\n",
    "    \n",
    "    table_3.append(row)"
   ]
  },
  {
   "cell_type": "code",
   "execution_count": 52,
   "id": "c2767cfd-fc0e-4d65-bbe0-7e8199bbdb59",
   "metadata": {},
   "outputs": [
    {
     "name": "stdout",
     "output_type": "stream",
     "text": [
      "\\begin{tabular}{lrr}\n",
      "\\hline\n",
      " Country     &   Matches played &   Matches hosted \\\\\n",
      "\\hline\n",
      " England     &                7 &                8 \\\\\n",
      " Scotland    &                3 &                4 \\\\\n",
      " Czechia     &                5 &                0 \\\\\n",
      " Italy       &                7 &                4 \\\\\n",
      " Spain       &                6 &                4 \\\\\n",
      " Germany     &                4 &                4 \\\\\n",
      " Slovakia    &                3 &                0 \\\\\n",
      " Belgium     &                5 &                0 \\\\\n",
      " Austria     &                4 &                0 \\\\\n",
      " France      &                4 &                0 \\\\\n",
      " Portugal    &                4 &                0 \\\\\n",
      " Netherlands &                4 &                4 \\\\\n",
      "\\hline\n",
      "\\end{tabular}\n"
     ]
    }
   ],
   "source": [
    "from tabulate import tabulate\n",
    "headers = ['Country', 'Matches played', 'Matches hosted']\n",
    "print(tabulate(table_3, headers, tablefmt=\"latex_raw\"))"
   ]
  },
  {
   "cell_type": "code",
   "execution_count": null,
   "id": "c2c687aa-c798-46ab-8c18-4730dffc9edf",
   "metadata": {},
   "outputs": [],
   "source": []
  }
 ],
 "metadata": {
  "kernelspec": {
   "display_name": "Python 3",
   "language": "python",
   "name": "python3"
  },
  "language_info": {
   "codemirror_mode": {
    "name": "ipython",
    "version": 3
   },
   "file_extension": ".py",
   "mimetype": "text/x-python",
   "name": "python",
   "nbconvert_exporter": "python",
   "pygments_lexer": "ipython3",
   "version": "3.8.10"
  }
 },
 "nbformat": 4,
 "nbformat_minor": 5
}
