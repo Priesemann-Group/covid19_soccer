{
 "cells": [
  {
   "cell_type": "code",
   "execution_count": 6,
   "id": "da01c846-2556-4da7-90bc-f91858499a5f",
   "metadata": {},
   "outputs": [],
   "source": [
    "import pickle\n",
    "import sys\n",
    "\n",
    "from tabulate import tabulate\n",
    "import numpy as np\n",
    "from tqdm.auto import tqdm\n",
    "import os\n",
    "\n",
    "sys.path.append(\"../\")\n",
    "sys.path.append(\"../covid19_inference\")\n",
    "\n",
    "import covid19_soccer"
   ]
  },
  {
   "cell_type": "code",
   "execution_count": 7,
   "id": "6e61f619-9aae-48f3-9362-18853db88506",
   "metadata": {},
   "outputs": [],
   "source": [
    "from tabulate import tabulate\n"
   ]
  },
  {
   "cell_type": "code",
   "execution_count": 8,
   "id": "0b9a7a3d-3ba9-4511-aa3c-1bd13d35d1dd",
   "metadata": {},
   "outputs": [
    {
     "name": "stdout",
     "output_type": "stream",
     "text": [
      "The autoreload extension is already loaded. To reload it, use:\n",
      "  %reload_ext autoreload\n"
     ]
    }
   ],
   "source": [
    "%load_ext autoreload\n",
    "%autoreload 2"
   ]
  },
  {
   "cell_type": "code",
   "execution_count": 9,
   "id": "ac8faefd-51b3-43e7-a11b-f2d70ab355b4",
   "metadata": {},
   "outputs": [
    {
     "name": "stderr",
     "output_type": "stream",
     "text": [
      "  0%|          | 0/12 [00:00<?, ?it/s]"
     ]
    },
    {
     "name": "stdout",
     "output_type": "stream",
     "text": [
      "Use 4000 sample runs for England\n"
     ]
    },
    {
     "name": "stderr",
     "output_type": "stream",
     "text": [
      "INFO     [covid19_inference.data_retrieval.retrieval] Successfully loaded OxCGRT.csv.gz from /tmp/covid19_data/, skipping download.\n",
      "  8%|▊         | 1/12 [00:09<01:49,  9.95s/it]"
     ]
    },
    {
     "name": "stdout",
     "output_type": "stream",
     "text": [
      "Use 4000 sample runs for Czechia\n"
     ]
    },
    {
     "name": "stderr",
     "output_type": "stream",
     "text": [
      "INFO     [covid19_inference.data_retrieval.retrieval] Successfully loaded OxCGRT.csv.gz from /tmp/covid19_data/, skipping download.\n",
      " 17%|█▋        | 2/12 [00:15<01:16,  7.61s/it]"
     ]
    },
    {
     "name": "stdout",
     "output_type": "stream",
     "text": [
      "Use 4000 sample runs for Scotland\n"
     ]
    },
    {
     "name": "stderr",
     "output_type": "stream",
     "text": [
      "INFO     [covid19_inference.data_retrieval.retrieval] Successfully loaded OxCGRT.csv.gz from /tmp/covid19_data/, skipping download.\n",
      " 25%|██▌       | 3/12 [00:22<01:02,  6.93s/it]"
     ]
    },
    {
     "name": "stdout",
     "output_type": "stream",
     "text": [
      "Use 4000 sample runs for Spain\n"
     ]
    },
    {
     "name": "stderr",
     "output_type": "stream",
     "text": [
      "INFO     [covid19_inference.data_retrieval.retrieval] Successfully loaded OxCGRT.csv.gz from /tmp/covid19_data/, skipping download.\n",
      " 33%|███▎      | 4/12 [00:27<00:51,  6.46s/it]"
     ]
    },
    {
     "name": "stdout",
     "output_type": "stream",
     "text": [
      "Use 4000 sample runs for Italy\n"
     ]
    },
    {
     "name": "stderr",
     "output_type": "stream",
     "text": [
      "INFO     [covid19_inference.data_retrieval.retrieval] Successfully loaded OxCGRT.csv.gz from /tmp/covid19_data/, skipping download.\n",
      " 42%|████▏     | 5/12 [00:33<00:43,  6.27s/it]"
     ]
    },
    {
     "name": "stdout",
     "output_type": "stream",
     "text": [
      "Use 4000 sample runs for Slovakia\n"
     ]
    },
    {
     "name": "stderr",
     "output_type": "stream",
     "text": [
      "INFO     [covid19_inference.data_retrieval.retrieval] Successfully loaded OxCGRT.csv.gz from /tmp/covid19_data/, skipping download.\n",
      " 50%|█████     | 6/12 [00:39<00:37,  6.20s/it]"
     ]
    },
    {
     "name": "stdout",
     "output_type": "stream",
     "text": [
      "Use 4000 sample runs for Germany\n"
     ]
    },
    {
     "name": "stderr",
     "output_type": "stream",
     "text": [
      "INFO     [covid19_inference.data_retrieval.retrieval] Successfully loaded OxCGRT.csv.gz from /tmp/covid19_data/, skipping download.\n",
      " 58%|█████▊    | 7/12 [00:46<00:31,  6.28s/it]"
     ]
    },
    {
     "name": "stdout",
     "output_type": "stream",
     "text": [
      "Use 4000 sample runs for Austria\n"
     ]
    },
    {
     "name": "stderr",
     "output_type": "stream",
     "text": [
      "INFO     [covid19_inference.data_retrieval.retrieval] Successfully loaded OxCGRT.csv.gz from /tmp/covid19_data/, skipping download.\n",
      " 67%|██████▋   | 8/12 [00:52<00:24,  6.15s/it]"
     ]
    },
    {
     "name": "stdout",
     "output_type": "stream",
     "text": [
      "Use 4000 sample runs for Belgium\n"
     ]
    },
    {
     "name": "stderr",
     "output_type": "stream",
     "text": [
      "INFO     [covid19_inference.data_retrieval.retrieval] Successfully loaded OxCGRT.csv.gz from /tmp/covid19_data/, skipping download.\n",
      " 75%|███████▌  | 9/12 [00:59<00:19,  6.47s/it]"
     ]
    },
    {
     "name": "stdout",
     "output_type": "stream",
     "text": [
      "Use 4000 sample runs for France\n"
     ]
    },
    {
     "name": "stderr",
     "output_type": "stream",
     "text": [
      "INFO     [covid19_inference.data_retrieval.retrieval] Successfully loaded OxCGRT.csv.gz from /tmp/covid19_data/, skipping download.\n",
      " 83%|████████▎ | 10/12 [01:05<00:12,  6.39s/it]"
     ]
    },
    {
     "name": "stdout",
     "output_type": "stream",
     "text": [
      "Use 4000 sample runs for Portugal\n"
     ]
    },
    {
     "name": "stderr",
     "output_type": "stream",
     "text": [
      "INFO     [covid19_inference.data_retrieval.retrieval] Successfully loaded OxCGRT.csv.gz from /tmp/covid19_data/, skipping download.\n",
      " 92%|█████████▏| 11/12 [01:12<00:06,  6.70s/it]"
     ]
    },
    {
     "name": "stdout",
     "output_type": "stream",
     "text": [
      "Use 4000 sample runs for Netherlands\n"
     ]
    },
    {
     "name": "stderr",
     "output_type": "stream",
     "text": [
      "INFO     [covid19_inference.data_retrieval.retrieval] Successfully loaded OxCGRT.csv.gz from /tmp/covid19_data/, skipping download.\n",
      "100%|██████████| 12/12 [01:19<00:00,  6.60s/it]\n"
     ]
    }
   ],
   "source": [
    "countries = ['England', 'Czechia', 'Scotland', 'Spain', 'Italy', 'Slovakia',\n",
    "       'Germany', 'Austria', 'Belgium', 'France', 'Portugal',\n",
    "       'Netherlands']\n",
    "\n",
    "def load(fstr):\n",
    "    with open(fstr, \"rb\") as f:\n",
    "         return pickle.load(f)\n",
    "\n",
    "traces, models, dls = [], [], []\n",
    "for country in tqdm(countries):\n",
    "    #'UEFA-beta=False-country=England-offset_games=0-draw_delay=True-weighted_alpha_prior=0-prior_delay=-1-width_delay_prior=0.1-sigma_incubation=-1.0-median_width_delay=1.0-tune=200-draws=300-max_treedepth=10.pickled'\n",
    "    model = None\n",
    "    fstr=lambda tune, draws, max_treedepth: (f\"/data.nst/smohr/covid19_soccer_data/main_traces/run\"+\n",
    "        f\"-beta=False\"+\n",
    "        f\"-country={country}\"+\n",
    "        f\"-offset_data=0\"+\n",
    "        f\"-prior_delay=-1\"+\n",
    "        f\"-median_width_delay=1.0\"+\n",
    "        f\"-interval_cps=10.0\"+\n",
    "        f\"-f_fem=0.33\"+\n",
    "        f\"-len=normal\"+\n",
    "        f\"-abs_sine=False\"+\n",
    "        f\"-t={tune}\"+\n",
    "        f\"-d={draws}\"+\n",
    "        f\"-max_treedepth={max_treedepth}.pkl\")\n",
    "    #print(fstr(4000, 8000, 12))\n",
    "    if os.path.exists(fstr(4000, 8000, 12)):\n",
    "        try:\n",
    "            model, trace = load(fstr(4000, 8000, 12))\n",
    "            print(f\"Use 8000 sample runs for {country}\")\n",
    "        except Exception as exc:\n",
    "            print(exc)\n",
    "            pass\n",
    "    if model is None and os.path.exists(fstr(2000, 4000, 12)):\n",
    "        try:\n",
    "            model, trace = load(fstr(2000, 4000, 12))\n",
    "            print(f\"Use 4000 sample runs for {country}\")\n",
    "        except Exception as exc:\n",
    "            print(exc)\n",
    "            pass\n",
    "    if model is None and os.path.exists(fstr(1000, 1500, 12)):\n",
    "        try: \n",
    "            model, trace = load(fstr(1000, 1500, 12))\n",
    "            print(f\"Use 1500 sample runs for {country}\")\n",
    "        except Exception as exc:\n",
    "            print(exc)\n",
    "            pass\n",
    "    if model is None: \n",
    "        print(fstr(1000, 1500, 12), \" not found\")\n",
    "        continue\n",
    "    \n",
    "    # Remove chains with likelihood larger than -200, should only be the case for 2 chains in France\n",
    "    mask = (np.mean(trace.sample_stats.lp, axis=1)>-200)\n",
    "    trace.posterior = trace.posterior.sel(chain=~mask)\n",
    "    \n",
    "    dl = covid19_soccer.dataloader.Dataloader_gender(countries=[country])\n",
    "    models.append(model)\n",
    "    traces.append(trace)\n",
    "    dls.append(dl)"
   ]
  },
  {
   "cell_type": "code",
   "execution_count": 10,
   "id": "ed609e62-13d4-4802-a403-0db9947688b6",
   "metadata": {},
   "outputs": [
    {
     "name": "stderr",
     "output_type": "stream",
     "text": [
      "/data.nst/smohr/anaconda3/envs/pymc3_new/lib/python3.8/site-packages/arviz/stats/diagnostics.py:561: RuntimeWarning: invalid value encountered in double_scalars\n",
      "  (between_chain_variance / within_chain_variance + num_samples - 1) / (num_samples)\n",
      "/data.nst/smohr/anaconda3/envs/pymc3_new/lib/python3.8/site-packages/arviz/stats/diagnostics.py:561: RuntimeWarning: invalid value encountered in double_scalars\n",
      "  (between_chain_variance / within_chain_variance + num_samples - 1) / (num_samples)\n",
      "/data.nst/smohr/anaconda3/envs/pymc3_new/lib/python3.8/site-packages/arviz/stats/diagnostics.py:561: RuntimeWarning: invalid value encountered in double_scalars\n",
      "  (between_chain_variance / within_chain_variance + num_samples - 1) / (num_samples)\n"
     ]
    },
    {
     "name": "stdout",
     "output_type": "stream",
     "text": [
      "England max rhat of R_t 1.332204947696311 \n",
      "England max overall rhat 1.8791322077014203 \n"
     ]
    },
    {
     "name": "stderr",
     "output_type": "stream",
     "text": [
      "/data.nst/smohr/anaconda3/envs/pymc3_new/lib/python3.8/site-packages/arviz/stats/diagnostics.py:561: RuntimeWarning: invalid value encountered in double_scalars\n",
      "  (between_chain_variance / within_chain_variance + num_samples - 1) / (num_samples)\n"
     ]
    },
    {
     "name": "stdout",
     "output_type": "stream",
     "text": [
      "Czechia max rhat of R_t 1.0012462581859247 \n",
      "Czechia max overall rhat 1.1594230125924612 \n"
     ]
    },
    {
     "name": "stderr",
     "output_type": "stream",
     "text": [
      "/data.nst/smohr/anaconda3/envs/pymc3_new/lib/python3.8/site-packages/arviz/stats/diagnostics.py:561: RuntimeWarning: invalid value encountered in double_scalars\n",
      "  (between_chain_variance / within_chain_variance + num_samples - 1) / (num_samples)\n",
      "/data.nst/smohr/anaconda3/envs/pymc3_new/lib/python3.8/site-packages/arviz/stats/diagnostics.py:561: RuntimeWarning: invalid value encountered in double_scalars\n",
      "  (between_chain_variance / within_chain_variance + num_samples - 1) / (num_samples)\n"
     ]
    },
    {
     "name": "stdout",
     "output_type": "stream",
     "text": [
      "Scotland max rhat of R_t 1.0090934614742724 \n",
      "Scotland max overall rhat 1.1023640136167372 \n"
     ]
    },
    {
     "name": "stderr",
     "output_type": "stream",
     "text": [
      "/data.nst/smohr/anaconda3/envs/pymc3_new/lib/python3.8/site-packages/arviz/stats/diagnostics.py:561: RuntimeWarning: invalid value encountered in double_scalars\n",
      "  (between_chain_variance / within_chain_variance + num_samples - 1) / (num_samples)\n"
     ]
    },
    {
     "name": "stdout",
     "output_type": "stream",
     "text": [
      "Spain max rhat of R_t 1.0506966494683205 \n",
      "Spain max overall rhat 2.2434104288890513 \n"
     ]
    },
    {
     "name": "stderr",
     "output_type": "stream",
     "text": [
      "/data.nst/smohr/anaconda3/envs/pymc3_new/lib/python3.8/site-packages/arviz/stats/diagnostics.py:561: RuntimeWarning: invalid value encountered in double_scalars\n",
      "  (between_chain_variance / within_chain_variance + num_samples - 1) / (num_samples)\n"
     ]
    },
    {
     "name": "stdout",
     "output_type": "stream",
     "text": [
      "Italy max rhat of R_t 1.0059218608388965 \n",
      "Italy max overall rhat 1.101509368507733 \n"
     ]
    },
    {
     "name": "stderr",
     "output_type": "stream",
     "text": [
      "/data.nst/smohr/anaconda3/envs/pymc3_new/lib/python3.8/site-packages/arviz/stats/diagnostics.py:561: RuntimeWarning: invalid value encountered in double_scalars\n",
      "  (between_chain_variance / within_chain_variance + num_samples - 1) / (num_samples)\n"
     ]
    },
    {
     "name": "stdout",
     "output_type": "stream",
     "text": [
      "Slovakia max rhat of R_t 1.0009558097900517 \n",
      "Slovakia max overall rhat 1.1510633834839314 \n"
     ]
    },
    {
     "name": "stderr",
     "output_type": "stream",
     "text": [
      "/data.nst/smohr/anaconda3/envs/pymc3_new/lib/python3.8/site-packages/arviz/stats/diagnostics.py:561: RuntimeWarning: invalid value encountered in double_scalars\n",
      "  (between_chain_variance / within_chain_variance + num_samples - 1) / (num_samples)\n"
     ]
    },
    {
     "name": "stdout",
     "output_type": "stream",
     "text": [
      "Germany max rhat of R_t 1.0079659606863034 \n",
      "Germany max overall rhat 1.415311079294106 \n"
     ]
    },
    {
     "name": "stderr",
     "output_type": "stream",
     "text": [
      "/data.nst/smohr/anaconda3/envs/pymc3_new/lib/python3.8/site-packages/arviz/stats/diagnostics.py:561: RuntimeWarning: invalid value encountered in double_scalars\n",
      "  (between_chain_variance / within_chain_variance + num_samples - 1) / (num_samples)\n"
     ]
    },
    {
     "name": "stdout",
     "output_type": "stream",
     "text": [
      "Austria max rhat of R_t 1.0043118799366977 \n",
      "\n",
      "Austria max overall rhat 1.1471551517874619 Belgium max rhat of R_t 1.0070083619523587 \n",
      "Belgium max overall rhat 1.2181615199135256 \n"
     ]
    },
    {
     "name": "stderr",
     "output_type": "stream",
     "text": [
      "/data.nst/smohr/anaconda3/envs/pymc3_new/lib/python3.8/site-packages/arviz/stats/diagnostics.py:561: RuntimeWarning: invalid value encountered in double_scalars\n",
      "  (between_chain_variance / within_chain_variance + num_samples - 1) / (num_samples)\n"
     ]
    },
    {
     "name": "stdout",
     "output_type": "stream",
     "text": [
      "France max rhat of R_t 1.0083534362195294 \n",
      "France max overall rhat 1.8218383321435438 \n",
      "Portugal max rhat of R_t 1.001019971412043 \n",
      "Portugal max overall rhat 1.1384544260989433 \n",
      "Netherlands max rhat of R_t 1.0269737256974478 \n",
      "Netherlands max overall rhat 1.8255915904861921 \n"
     ]
    }
   ],
   "source": [
    "from multiprocessing import Pool\n",
    "import arviz as az\n",
    "\n",
    "def get_max_rhat(country, trace):\n",
    "    rhat = az.rhat(trace)\n",
    "    chosen_vars = []\n",
    "    for var in list(rhat.data_vars):\n",
    "        if \"lambda\" in var:\n",
    "            chosen_vars.append(var)\n",
    "        if \"R_t\" in var:\n",
    "            chosen_vars.append(var)\n",
    "        if \"factor_female\" in var:\n",
    "            chosen_vars.append(var)\n",
    "        if \"alpha\" in var:\n",
    "            chosen_vars.append(var)\n",
    "\n",
    "    rhats_R_t = []\n",
    "    rhat_max = rhat.max()\n",
    "    for var in chosen_vars:\n",
    "        rhats_R_t.append(float(rhat_max[var]))\n",
    "    rhats_all = []\n",
    "    for var in rhat.data_vars:\n",
    "        rhats_all.append(float(rhat_max[var]))\n",
    "    print(f\"{country} max rhat of R_t {max(rhats_R_t)} \")\n",
    "    print(f\"{country} max overall rhat {max(rhats_all)} \")\n",
    "        \n",
    "    return rhats_R_t, rhats_all\n",
    "    \n",
    "\n",
    "#def get_max_rhat(country, trace):\n",
    "#    return 3.\n",
    "    \n",
    "rhats = []\n",
    "    \n",
    "with Pool(processes=6) as pool:\n",
    "    results = []\n",
    "    for i, country in enumerate(countries):\n",
    "        trace = traces[i]    \n",
    "        result = pool.apply_async(get_max_rhat, (country, trace)) \n",
    "        results.append(result)\n",
    "    for res in results:\n",
    "        rhats.append(res.get())\n"
   ]
  },
  {
   "cell_type": "code",
   "execution_count": 11,
   "id": "8651824e-b03c-4c8f-8bc5-bef88cb3c4e5",
   "metadata": {},
   "outputs": [
    {
     "name": "stdout",
     "output_type": "stream",
     "text": [
      "\\begin{tabular}{lrr}\n",
      "\\hline\n",
      " Country     &   Max. R-hat of relevant variables &   Max. R-hat of all variables \\\\\n",
      "\\hline\n",
      " England     &                               1.33 &                          1.88 \\\\\n",
      " Czechia     &                               1    &                          1.16 \\\\\n",
      " Scotland    &                               1.01 &                          1.1  \\\\\n",
      " Spain       &                               1.05 &                          2.24 \\\\\n",
      " Italy       &                               1.01 &                          1.1  \\\\\n",
      " Slovakia    &                               1    &                          1.15 \\\\\n",
      " Germany     &                               1.01 &                          1.42 \\\\\n",
      " Austria     &                               1    &                          1.15 \\\\\n",
      " Belgium     &                               1.01 &                          1.22 \\\\\n",
      " France      &                               1.01 &                          1.82 \\\\\n",
      " Portugal    &                               1    &                          1.14 \\\\\n",
      " Netherlands &                               1.03 &                          1.83 \\\\\n",
      "\\hline\n",
      "\\end{tabular}\n"
     ]
    }
   ],
   "source": [
    "table = []\n",
    "for i, country in enumerate(countries):\n",
    "    table.append([country, f\"{max(rhats[i][0]):.2f}\", f\"{max(rhats[i][1]):.2f}\"])\n",
    "header = [\"Country\", \"Max. R-hat of relevant variables\", \"Max. R-hat of all variables\"]\n",
    "\n",
    "print(tabulate(table, header, tablefmt=\"latex_raw\"))"
   ]
  },
  {
   "cell_type": "code",
   "execution_count": null,
   "id": "037c50f0-1ba6-46bb-bdb4-6cf83456407c",
   "metadata": {},
   "outputs": [],
   "source": []
  }
 ],
 "metadata": {
  "kernelspec": {
   "display_name": "Python 3",
   "language": "python",
   "name": "python3"
  },
  "language_info": {
   "codemirror_mode": {
    "name": "ipython",
    "version": 3
   },
   "file_extension": ".py",
   "mimetype": "text/x-python",
   "name": "python",
   "nbconvert_exporter": "python",
   "pygments_lexer": "ipython3",
   "version": "3.8.10"
  }
 },
 "nbformat": 4,
 "nbformat_minor": 5
}
