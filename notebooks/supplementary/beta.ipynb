{
 "cells": [
  {
   "cell_type": "markdown",
   "id": "6584aae0-cdee-4279-adfa-75c9aa361fe4",
   "metadata": {},
   "source": [
    "# Plots with beta"
   ]
  },
  {
   "cell_type": "code",
   "execution_count": 1,
   "id": "bf8c38a5-33b6-4e98-b03f-948c35a81ea3",
   "metadata": {},
   "outputs": [],
   "source": [
    "import pickle\n",
    "import sys\n",
    "import matplotlib.pyplot as plt\n",
    "import numpy as np\n",
    "from tqdm.auto import tqdm\n",
    "import os\n",
    "import pandas as pd\n",
    "import datetime\n",
    "import matplotlib.ticker as ticker\n",
    "sys.path.append(\"../../\")\n",
    "sys.path.append(\"../../covid19_inference\")\n",
    "sys.path.append(\"../\")\n",
    "\n",
    "import covid19_soccer\n",
    "from covid19_soccer.plot.utils import get_from_trace\n",
    "import covid19_inference as cov19\n",
    "from header_plotting import *"
   ]
  },
  {
   "cell_type": "code",
   "execution_count": 2,
   "id": "61a47e80-3c3c-4069-a1eb-1d908aa824c0",
   "metadata": {},
   "outputs": [],
   "source": [
    "%load_ext autoreload\n",
    "%autoreload 2"
   ]
  },
  {
   "cell_type": "code",
   "execution_count": 3,
   "id": "f20cb093-d7f7-4e52-990e-6d30397b39f2",
   "metadata": {},
   "outputs": [
    {
     "data": {
      "application/vnd.jupyter.widget-view+json": {
       "model_id": "c280370db02f44c8907ab3b52ae0dc80",
       "version_major": 2,
       "version_minor": 0
      },
      "text/plain": [
       "  0%|          | 0/6 [00:00<?, ?it/s]"
      ]
     },
     "metadata": {},
     "output_type": "display_data"
    },
    {
     "name": "stderr",
     "output_type": "stream",
     "text": [
      "INFO     [covid19_inference.data_retrieval.retrieval] Successfully loaded OxCGRT.csv.gz from /tmp/covid19_data/, skipping download.\n"
     ]
    },
    {
     "name": "stdout",
     "output_type": "stream",
     "text": [
      "Use 4000 sample runs for England\n"
     ]
    },
    {
     "name": "stderr",
     "output_type": "stream",
     "text": [
      "INFO     [covid19_inference.data_retrieval.retrieval] Successfully loaded OxCGRT.csv.gz from /tmp/covid19_data/, skipping download.\n"
     ]
    },
    {
     "name": "stdout",
     "output_type": "stream",
     "text": [
      "Use 1500 sample runs for Scotland\n"
     ]
    },
    {
     "name": "stderr",
     "output_type": "stream",
     "text": [
      "INFO     [covid19_inference.data_retrieval.retrieval] Successfully loaded OxCGRT.csv.gz from /tmp/covid19_data/, skipping download.\n"
     ]
    },
    {
     "name": "stdout",
     "output_type": "stream",
     "text": [
      "Use 4000 sample runs for Spain\n"
     ]
    },
    {
     "name": "stderr",
     "output_type": "stream",
     "text": [
      "INFO     [covid19_inference.data_retrieval.retrieval] Successfully loaded OxCGRT.csv.gz from /tmp/covid19_data/, skipping download.\n"
     ]
    },
    {
     "name": "stdout",
     "output_type": "stream",
     "text": [
      "Use 4000 sample runs for Germany\n"
     ]
    },
    {
     "name": "stderr",
     "output_type": "stream",
     "text": [
      "INFO     [covid19_inference.data_retrieval.retrieval] Successfully loaded OxCGRT.csv.gz from /tmp/covid19_data/, skipping download.\n"
     ]
    },
    {
     "name": "stdout",
     "output_type": "stream",
     "text": [
      "Use 4000 sample runs for Italy\n"
     ]
    },
    {
     "name": "stderr",
     "output_type": "stream",
     "text": [
      "INFO     [covid19_inference.data_retrieval.retrieval] Successfully loaded OxCGRT.csv.gz from /tmp/covid19_data/, skipping download.\n"
     ]
    },
    {
     "name": "stdout",
     "output_type": "stream",
     "text": [
      "Use 4000 sample runs for Netherlands\n"
     ]
    }
   ],
   "source": [
    "def load(fstr):\n",
    "    with open(fstr, \"rb\") as f:\n",
    "         return pickle.load(f)\n",
    "\n",
    "countries = ['England', 'Scotland', 'Spain', 'Germany', 'Italy', 'Netherlands']\n",
    "traces, models, dls = [], [], []\n",
    "for country in tqdm(countries):\n",
    "    #'UEFA-beta=False-country=England-offset_games=0-draw_delay=True-weighted_alpha_prior=0-prior_delay=-1-width_delay_prior=0.1-sigma_incubation=-1.0-median_width_delay=1.0-tune=200-draws=300-max_treedepth=10.pickled'\n",
    "    model = None\n",
    "    fstr=lambda tune, draws, max_treedepth: (f\"/data.nst/share/soccer_project/covid_uefa_traces14/run\"+\n",
    "        f\"-beta=True\"+\n",
    "        f\"-country={country}\"+\n",
    "        f\"-offset_data=0\"+\n",
    "        f\"-prior_delay=-1\"+\n",
    "        f\"-median_width_delay=1.0\"+\n",
    "        f\"-interval_cps=10.0\"+\n",
    "        f\"-f_fem=0.33\"+\n",
    "        f\"-len=normal\"+\n",
    "        f\"-abs_sine=False\"+\n",
    "        f\"-t={tune}\"+\n",
    "        f\"-d={draws}\"+\n",
    "        f\"-max_treedepth={max_treedepth}.pkl\")\n",
    "    \n",
    "    dl = covid19_soccer.dataloader.Dataloader_gender(countries=[country])\n",
    "    dls.append(dl)\n",
    "    #print(fstr(4000, 8000, 12))\n",
    "    if os.path.exists(fstr(4000, 8000, 12)):\n",
    "        try:\n",
    "            model, trace = load(fstr(4000, 8000, 12))\n",
    "            print(f\"Use 8000 sample runs for {country}\")\n",
    "        except:\n",
    "            pass\n",
    "    if model is None and os.path.exists(fstr(2000, 4000, 12)):\n",
    "        try:\n",
    "            model, trace = load(fstr(2000, 4000, 12))\n",
    "            print(f\"Use 4000 sample runs for {country}\")\n",
    "        except:\n",
    "            pass\n",
    "    if model is None and os.path.exists(fstr(1000, 1500, 12)):\n",
    "        try: \n",
    "            model, trace = load(fstr(1000, 1500, 12))\n",
    "            print(f\"Use 1500 sample runs for {country}\")\n",
    "        except:\n",
    "            pass\n",
    "    if model is None and os.path.exists(fstr(500, 1000, 12)):\n",
    "        try: \n",
    "            model, trace = load(fstr(500, 1000, 12))\n",
    "            print(f\"Use 1500 sample runs for {country}\")\n",
    "        except:\n",
    "            pass\n",
    "    if model is None:\n",
    "        print(country+\" not found\")\n",
    "        continue\n",
    "    \n",
    "    # Remove chains with likelihood larger than -200, should only be the case for 2 chains in France\n",
    "    mask = (np.mean(trace.sample_stats.lp, axis=1)>-200)\n",
    "    trace.posterior = trace.posterior.sel(chain=~mask)\n",
    "    \n",
    "    models.append(model)\n",
    "    traces.append(trace)\n",
    "    "
   ]
  },
  {
   "cell_type": "code",
   "execution_count": null,
   "id": "6bb84247-699f-446b-b9d8-3ac0cf5d6973",
   "metadata": {},
   "outputs": [
    {
     "name": "stdout",
     "output_type": "stream",
     "text": [
      "Country\t2.5\t50.0\t97.5\t>0\n",
      "England0\t6.560000210921153\t9.304951607260243\t13.585149357090614\t1.0\n",
      "Scotland1\t-0.07139953308912961\t3.4413977114855427\t11.839654398112154\t0.9715\n",
      "Spain2\t-11.818275856758715\t-1.4207440291314186\t6.020511691205654\t0.40328125\n",
      "Germany3\t-10.679816946203335\t1.5139014231424992\t13.609209203962672\t0.675625\n",
      "Italy4\t-5.9555450699201335\t14.495937919444795\t29.662191140383666\t0.9297175565356104\n",
      "Netherlands5\t-3.9480396598989733\t0.6511803274737787\t2.7816357675779697\t0.64325\n"
     ]
    }
   ],
   "source": [
    "# Plotting\n",
    "from covid19_soccer.plot.other import soccer_related_cases_overview, legend\n",
    "import string\n",
    "\n",
    "fig, axes  = plt.subplots(1, 2,figsize=(7,2.5),gridspec_kw={\"wspace\":0.25})\n",
    "\n",
    "\n",
    "soccer_related_cases_overview(\n",
    "    axes[0],\n",
    "    traces,\n",
    "    models,\n",
    "    dls,\n",
    "    vertical=True,\n",
    "    plot_flags=False,\n",
    "    remove_outliers=True,\n",
    "    country_order=[0,1,2,3,4,5],\n",
    ")\n",
    "axes[0].set_xlim(-35,35)\n",
    "axes[0].set_xlabel(\"Fraction of primary cases\\n(gatherings)\")\n",
    "axes[0].set(yticklabels=[])\n",
    "axes[0].tick_params(left=False)\n",
    "\n",
    "soccer_related_cases_overview(\n",
    "    axes[1],\n",
    "    traces,\n",
    "    models,\n",
    "    dls,\n",
    "    plot_betas=True,\n",
    "    vertical=True,\n",
    "    plot_flags=True,\n",
    "    remove_outliers=True,\n",
    "    ypos_flags=-35,\n",
    "    flags_zoom=0.02,\n",
    "    country_order=[0,1,2,3,4,5],\n",
    ")\n",
    "axes[1].set_xlim(-35,35)\n",
    "axes[1].set_xlabel(\"Fraction of primary cases\\n(stadium)\")\n",
    "legend(axes[1],\n",
    "    prior=False,\n",
    "    posterior=False,\n",
    "    model=False,\n",
    "    data=False,\n",
    "    sex=True,\n",
    "    disable_axis=False,\n",
    "    championship_range=False,\n",
    "    loc=1\n",
    ")\n",
    "\n",
    "#Add axes annotations\n",
    "alphabet_string = list(string.ascii_uppercase)\n",
    "for i, ax in enumerate(axes):\n",
    "    letter = alphabet_string[i]\n",
    "    ax.text(0.05, 1.1, letter, transform=ax.transAxes,\n",
    "            fontsize=8, fontweight='bold', va='top', ha='right')\n",
    "\n",
    "\n",
    "plt.show()\n",
    "fig_path = \"../figures/SI\"\n",
    "fig.savefig(f\"{fig_path}/beta.pdf\", **save_kwargs)\n",
    "fig.savefig(f\"{fig_path}/beta.png\", **save_kwargs)\n",
    "plt.close(fig=fig)"
   ]
  },
  {
   "cell_type": "code",
   "execution_count": null,
   "id": "cebef7ed-6b50-48a7-9a2b-27c30f3348b1",
   "metadata": {},
   "outputs": [],
   "source": []
  }
 ],
 "metadata": {
  "kernelspec": {
   "display_name": "Python 3",
   "language": "python",
   "name": "python3"
  },
  "language_info": {
   "codemirror_mode": {
    "name": "ipython",
    "version": 3
   },
   "file_extension": ".py",
   "mimetype": "text/x-python",
   "name": "python",
   "nbconvert_exporter": "python",
   "pygments_lexer": "ipython3",
   "version": "3.8.10"
  }
 },
 "nbformat": 4,
 "nbformat_minor": 5
}
