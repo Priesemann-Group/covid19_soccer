{
 "cells": [
  {
   "cell_type": "markdown",
   "id": "c81632f2-f8e1-49df-8551-8ee07a19698a",
   "metadata": {},
   "source": [
    "# Tables\n",
    "\n",
    "This notebook creates all tables included in the publication"
   ]
  },
  {
   "cell_type": "code",
   "execution_count": 1,
   "id": "703e7712-6605-41ca-8f6f-f22a841a086c",
   "metadata": {},
   "outputs": [],
   "source": [
    "import pickle\n",
    "import sys\n",
    "import matplotlib.pyplot as plt\n",
    "import numpy as np\n",
    "from tqdm.auto import tqdm\n",
    "import os\n",
    "import pandas as pd\n",
    "import datetime\n",
    "import matplotlib.ticker as ticker\n",
    "sys.path.append(\"../../\")\n",
    "sys.path.append(\"../../covid19_inference\")\n",
    "sys.path.append(\"../\")\n",
    "\n",
    "import covid19_soccer\n",
    "from covid19_soccer.plot.utils import get_from_trace\n",
    "import covid19_inference as cov19\n",
    "from header_plotting import *"
   ]
  },
  {
   "cell_type": "code",
   "execution_count": 2,
   "id": "cf7ece54-6ae6-4c3f-88aa-06594281c803",
   "metadata": {},
   "outputs": [],
   "source": [
    "%load_ext autoreload\n",
    "%autoreload 2"
   ]
  },
  {
   "cell_type": "code",
   "execution_count": 3,
   "id": "40acb493-0982-4e37-a6bf-e95f297217d7",
   "metadata": {},
   "outputs": [
    {
     "data": {
      "application/vnd.jupyter.widget-view+json": {
       "model_id": "4e578c4a74444b35a1f0a0b8b02b3367",
       "version_major": 2,
       "version_minor": 0
      },
      "text/plain": [
       "  0%|          | 0/12 [00:00<?, ?it/s]"
      ]
     },
     "metadata": {},
     "output_type": "display_data"
    },
    {
     "name": "stderr",
     "output_type": "stream",
     "text": [
      "INFO     [covid19_inference.data_retrieval.retrieval] Successfully loaded OxCGRT.csv.gz from /tmp/covid19_data/, skipping download.\n"
     ]
    },
    {
     "name": "stdout",
     "output_type": "stream",
     "text": [
      "Use 4000 sample runs for England\n"
     ]
    },
    {
     "name": "stderr",
     "output_type": "stream",
     "text": [
      "INFO     [covid19_inference.data_retrieval.retrieval] Successfully loaded OxCGRT.csv.gz from /tmp/covid19_data/, skipping download.\n"
     ]
    },
    {
     "name": "stdout",
     "output_type": "stream",
     "text": [
      "Use 4000 sample runs for Czechia\n"
     ]
    },
    {
     "name": "stderr",
     "output_type": "stream",
     "text": [
      "INFO     [covid19_inference.data_retrieval.retrieval] Successfully loaded OxCGRT.csv.gz from /tmp/covid19_data/, skipping download.\n"
     ]
    },
    {
     "name": "stdout",
     "output_type": "stream",
     "text": [
      "Use 4000 sample runs for Scotland\n"
     ]
    },
    {
     "name": "stderr",
     "output_type": "stream",
     "text": [
      "INFO     [covid19_inference.data_retrieval.retrieval] Successfully loaded OxCGRT.csv.gz from /tmp/covid19_data/, skipping download.\n"
     ]
    },
    {
     "name": "stdout",
     "output_type": "stream",
     "text": [
      "Use 4000 sample runs for Spain\n"
     ]
    },
    {
     "name": "stderr",
     "output_type": "stream",
     "text": [
      "INFO     [covid19_inference.data_retrieval.retrieval] Successfully loaded OxCGRT.csv.gz from /tmp/covid19_data/, skipping download.\n"
     ]
    },
    {
     "name": "stdout",
     "output_type": "stream",
     "text": [
      "Use 4000 sample runs for Germany\n"
     ]
    },
    {
     "name": "stderr",
     "output_type": "stream",
     "text": [
      "INFO     [covid19_inference.data_retrieval.retrieval] Successfully loaded OxCGRT.csv.gz from /tmp/covid19_data/, skipping download.\n"
     ]
    },
    {
     "name": "stdout",
     "output_type": "stream",
     "text": [
      "Use 4000 sample runs for Austria\n"
     ]
    },
    {
     "name": "stderr",
     "output_type": "stream",
     "text": [
      "INFO     [covid19_inference.data_retrieval.retrieval] Successfully loaded OxCGRT.csv.gz from /tmp/covid19_data/, skipping download.\n"
     ]
    },
    {
     "name": "stdout",
     "output_type": "stream",
     "text": [
      "Use 4000 sample runs for France\n"
     ]
    },
    {
     "name": "stderr",
     "output_type": "stream",
     "text": [
      "INFO     [covid19_inference.data_retrieval.retrieval] Successfully loaded OxCGRT.csv.gz from /tmp/covid19_data/, skipping download.\n"
     ]
    },
    {
     "name": "stdout",
     "output_type": "stream",
     "text": [
      "Use 4000 sample runs for Slovakia\n"
     ]
    },
    {
     "name": "stderr",
     "output_type": "stream",
     "text": [
      "INFO     [covid19_inference.data_retrieval.retrieval] Successfully loaded OxCGRT.csv.gz from /tmp/covid19_data/, skipping download.\n"
     ]
    },
    {
     "name": "stdout",
     "output_type": "stream",
     "text": [
      "Use 4000 sample runs for Belgium\n"
     ]
    },
    {
     "name": "stderr",
     "output_type": "stream",
     "text": [
      "INFO     [covid19_inference.data_retrieval.retrieval] Successfully loaded OxCGRT.csv.gz from /tmp/covid19_data/, skipping download.\n"
     ]
    },
    {
     "name": "stdout",
     "output_type": "stream",
     "text": [
      "Use 4000 sample runs for Italy\n"
     ]
    },
    {
     "name": "stderr",
     "output_type": "stream",
     "text": [
      "INFO     [covid19_inference.data_retrieval.retrieval] Successfully loaded OxCGRT.csv.gz from /tmp/covid19_data/, skipping download.\n"
     ]
    },
    {
     "name": "stdout",
     "output_type": "stream",
     "text": [
      "Use 4000 sample runs for Portugal\n"
     ]
    },
    {
     "name": "stderr",
     "output_type": "stream",
     "text": [
      "INFO     [covid19_inference.data_retrieval.retrieval] Successfully loaded OxCGRT.csv.gz from /tmp/covid19_data/, skipping download.\n"
     ]
    },
    {
     "name": "stdout",
     "output_type": "stream",
     "text": [
      "Use 4000 sample runs for Netherlands\n"
     ]
    }
   ],
   "source": [
    "def load(fstr):\n",
    "    with open(fstr, \"rb\") as f:\n",
    "         return pickle.load(f)\n",
    "\n",
    "countries = ['England', 'Czechia', 'Scotland', 'Spain', 'Germany', 'Austria',\n",
    "       'France', 'Slovakia', 'Belgium', 'Italy', 'Portugal', 'Netherlands']\n",
    "\n",
    "traces, models, dls = [], [], []\n",
    "for country in tqdm(countries):\n",
    "    #'UEFA-beta=False-country=England-offset_games=0-draw_delay=True-weighted_alpha_prior=0-prior_delay=-1-width_delay_prior=0.1-sigma_incubation=-1.0-median_width_delay=1.0-tune=200-draws=300-max_treedepth=10.pickled'\n",
    "    model = None\n",
    "    fstr=lambda tune, draws, max_treedepth: (f\"/data.nst/smohr/covid19_soccer_data/main_traces/run\"+\n",
    "        f\"-beta=False\"+\n",
    "        f\"-country={country}\"+\n",
    "        f\"-offset_data=0\"+\n",
    "        f\"-prior_delay=-1\"+\n",
    "        f\"-median_width_delay=1.0\"+\n",
    "        f\"-interval_cps=10.0\"+\n",
    "        f\"-f_fem=0.33\"+\n",
    "        f\"-len=normal\"+\n",
    "        f\"-abs_sine=False\"+\n",
    "        f\"-t={tune}\"+\n",
    "        f\"-d={draws}\"+\n",
    "        f\"-max_treedepth={max_treedepth}.pkl\")\n",
    "    \n",
    "    dl = covid19_soccer.dataloader.Dataloader_gender(countries=[country])\n",
    "    dls.append(dl)\n",
    "    #print(fstr(4000, 8000, 12))\n",
    "    if os.path.exists(fstr(4000, 8000, 12)):\n",
    "        try:\n",
    "            model, trace = load(fstr(4000, 8000, 12))\n",
    "            print(f\"Use 8000 sample runs for {country}\")\n",
    "        except:\n",
    "            pass\n",
    "    if model is None and os.path.exists(fstr(2000, 4000, 12)):\n",
    "        try:\n",
    "            model, trace = load(fstr(2000, 4000, 12))\n",
    "            print(f\"Use 4000 sample runs for {country}\")\n",
    "        except:\n",
    "            pass\n",
    "    if model is None and os.path.exists(fstr(1000, 1500, 12)):\n",
    "        try: \n",
    "            model, trace = load(fstr(1000, 1500, 12))\n",
    "            print(f\"Use 1500 sample runs for {country}\")\n",
    "        except:\n",
    "            pass\n",
    "    if model is None:\n",
    "        print(\" not found\")\n",
    "        continue\n",
    "    \n",
    "    # Remove chains with likelihood larger than -200, should only be the case for 2 chains in France\n",
    "    mask = (np.mean(trace.sample_stats.lp, axis=1)>-200)\n",
    "    trace.posterior = trace.posterior.sel(chain=~mask)\n",
    "    \n",
    "    models.append(model)\n",
    "    traces.append(trace)\n",
    "    "
   ]
  },
  {
   "cell_type": "code",
   "execution_count": 4,
   "id": "c9e04663-d784-4c12-be4a-44da602a2979",
   "metadata": {},
   "outputs": [
    {
     "data": {
      "application/vnd.jupyter.widget-view+json": {
       "model_id": "79632798240d4c028e6b31addfa6854e",
       "version_major": 2,
       "version_minor": 0
      },
      "text/plain": [
       "0it [00:00, ?it/s]"
      ]
     },
     "metadata": {},
     "output_type": "display_data"
    }
   ],
   "source": [
    "infections_no = []\n",
    "infections_primary = []\n",
    "infections_secondary = []\n",
    "for i, country in tqdm(enumerate(countries)):\n",
    "    trace_without_soccer, trace_primary_soccer = load(f\"/data.nst/smohr/covid19_soccer_data/primary_and_subsequent/{country}.pkl\")\n",
    "    shape = trace_without_soccer.predictions[\"new_cases\"].to_numpy().shape\n",
    "    x = pd.date_range(models[i].sim_begin, models[i].sim_end)\n",
    "    y0 = trace_without_soccer.predictions[\"new_cases\"].to_numpy().reshape(shape[0]*shape[1]*shape[2],shape[3],shape[4])\n",
    "    y1 = trace_primary_soccer.predictions[\"new_cases\"].to_numpy().reshape(shape[0]*shape[1]*shape[2],shape[3],shape[4]) - y0\n",
    "    y2 = traces[i].posterior[\"new_cases\"].to_numpy().reshape(shape[0]*shape[1]*shape[2],shape[3],shape[4]) - y1 - y0\n",
    "\n",
    "    begin = datetime.datetime(2021, 6, 11)\n",
    "    end = datetime.datetime(2021, 7, 31)\n",
    "    i_begin = (begin - model.sim_begin).days\n",
    "    i_end = (end - model.sim_begin).days + 1  # inclusiv last day\n",
    "\n",
    "    y0 = np.sum(y0[..., i_begin:i_end, :], axis=-2)\n",
    "    y1 = np.sum(y1[..., i_begin:i_end, :], axis=-2)\n",
    "    y2 = np.sum(y2[..., i_begin:i_end, :], axis=-2)\n",
    "\n",
    "    infections_no.append(y0)\n",
    "    infections_primary.append(y1)\n",
    "    infections_secondary.append(y2)"
   ]
  },
  {
   "cell_type": "code",
   "execution_count": 5,
   "id": "68c8dc7f-ef0a-49e2-96d5-1b075db24ba3",
   "metadata": {},
   "outputs": [],
   "source": [
    "data_primary  = pd.DataFrame()\n",
    "means = []\n",
    "for i,country in enumerate(countries):\n",
    "    # compute fraction of infected people\n",
    "    t_numpy = infections_primary[i] / (infections_no[i] + infections_primary[i] + infections_secondary[i]) * 100\n",
    "\n",
    "    male = np.stack(\n",
    "        (t_numpy[:, 0], np.zeros(t_numpy[:, 0].shape)), axis=1\n",
    "    )\n",
    "    female = np.stack(\n",
    "        (t_numpy[:, 1], np.ones(t_numpy[:, 1].shape)), axis=1\n",
    "    )\n",
    "    # Create dataframe for plotting\n",
    "    temp = pd.DataFrame(np.concatenate((male, female)), columns=[\"percentage_primary\", \"gender\"])\n",
    "    temp[\"gender\"] = pd.cut(\n",
    "        temp[\"gender\"], bins=[-1, 0.5, 1], labels=[\"male\", \"female\"]\n",
    "    )\n",
    "    temp[\"country\"] = country\n",
    "    data_primary = pd.concat([data_primary, temp])\n",
    "    means.append(np.mean(temp[\"percentage_primary\"]))\n",
    "country_order_primar = np.argsort(means)[::-1]\n",
    "\n",
    "data_primary_and_subsequent = pd.DataFrame()\n",
    "means = []\n",
    "for i, country in enumerate(countries):\n",
    "\n",
    "    # compute fraction\n",
    "    t_numpy = (infections_primary[i]+infections_secondary[i])/(infections_no[i] + infections_primary[i] + infections_secondary[i]) * 100\n",
    "\n",
    "    male = np.stack(\n",
    "        (t_numpy[:, 0], np.zeros(t_numpy[:, 0].shape)), axis=1\n",
    "    )\n",
    "    female = np.stack(\n",
    "        (t_numpy[:, 1], np.ones(t_numpy[:, 1].shape)), axis=1\n",
    "    )\n",
    "    # Create dataframe for plotting\n",
    "    temp = pd.DataFrame(np.concatenate((male, female)), columns=[\"percentage_primary_and_subsequent\", \"gender\"])\n",
    "    temp[\"gender\"] = pd.cut(\n",
    "        temp[\"gender\"], bins=[-1, 0.5, 1], labels=[\"male\", \"female\"]\n",
    "    )\n",
    "    temp[\"country\"] = country\n",
    "    data_primary_and_subsequent = pd.concat([data_primary_and_subsequent, temp])\n",
    "    means.append(np.mean(temp[\"percentage_primary_and_subsequent\"]))\n",
    "country_order_primary_and_subsequent = np.argsort(means)[::-1]"
   ]
  },
  {
   "cell_type": "code",
   "execution_count": 6,
   "id": "792c12c7-117c-42fe-aa6d-75030c9b103e",
   "metadata": {},
   "outputs": [],
   "source": [
    "# Compute interesting values as fraction and as incidence\n",
    "primary_frac = []\n",
    "for i, country in enumerate(countries):\n",
    "    temp = data_primary[data_primary[\"country\"] == country].drop(columns=[\"country\",\"gender\"])\n",
    "    primary_frac.append(temp.to_numpy()[:,0])\n",
    "\n",
    "\n",
    "primary_and_subsequent_frac = []\n",
    "for i, country in enumerate(countries):\n",
    "    temp = data_primary_and_subsequent[data_primary_and_subsequent[\"country\"] == country].drop(columns=[\"country\",\"gender\"])\n",
    "    primary_and_subsequent_frac.append(temp.to_numpy()[:,0])\n",
    "\n",
    "\n",
    "primary_inci = []\n",
    "for i, country in enumerate(countries):\n",
    "    temp = infections_primary[i]\n",
    "    primary_inci.append(temp / dls[i].population[0]*1e6)\n",
    "\n",
    "primary_and_subsequent_inci = []\n",
    "for i, country in enumerate(countries):\n",
    "    temp = infections_primary[i] + infections_secondary[i]\n",
    "    primary_and_subsequent_inci.append(temp/ dls[i].population[0]*1e6)\n",
    "\n",
    "primary_cases = []\n",
    "for i, country in enumerate(countries):\n",
    "    temp = infections_primary[i]\n",
    "    primary_cases.append(temp)\n",
    "\n",
    "primary_and_subsequent_cases = []\n",
    "for i, country in enumerate(countries):\n",
    "    temp = infections_primary[i] + infections_secondary[i]\n",
    "    primary_and_subsequent_cases.append(temp)\n",
    "    \n"
   ]
  },
  {
   "cell_type": "markdown",
   "id": "4137a76e-51e0-4054-9384-aedb2e979b88",
   "metadata": {},
   "source": [
    "## SI Table 1: Fractions"
   ]
  },
  {
   "cell_type": "code",
   "execution_count": 7,
   "id": "f992ba63-078e-4a20-adf1-38d3767efb68",
   "metadata": {},
   "outputs": [],
   "source": [
    "table = []\n",
    "for i, country in enumerate(countries):\n",
    "    # Primary infections\n",
    "    data  = data_primary[data_primary[\"country\"] == country]\n",
    "\n",
    "    CI = np.percentile(data[\"percentage_primary\"], q = (2.5,50,97.5))\n",
    "    prob_positive = np.sum(data[\"percentage_primary\"] > 0) / data[\"percentage_primary\"].shape[0] * 100\n",
    "\n",
    "    # Secondary infections and primary\n",
    "    data  = data_primary_and_subsequent[data_primary_and_subsequent[\"country\"] == country]\n",
    "    CI_sub = np.percentile(data[\"percentage_primary_and_subsequent\"], q = (2.5,50,97.5))\n",
    "    \n",
    "    # Create table entries\n",
    "    if prob_positive > 99.9:\n",
    "        text_prob_pos = \"$> 99.9$\\%\"\n",
    "    else:\n",
    "        text_prob_pos = f\"{prob_positive:.1f}\\%\"\n",
    "\n",
    "    table.append([country, f\"{CI[1]:.1f}\\% [{CI[0]:.1f}\\%, {CI[2]:.1f}\\%]\", text_prob_pos,\n",
    "              f\"{CI_sub[1]:.1f}\\% [{CI_sub[0]:.1f}\\%, {CI_sub[2]:.1f}\\%]\"])"
   ]
  },
  {
   "cell_type": "code",
   "execution_count": 8,
   "id": "85a52a13-e2ab-4184-97e8-96cf8dd0feda",
   "metadata": {},
   "outputs": [
    {
     "name": "stdout",
     "output_type": "stream",
     "text": [
      "\\begin{tabular}{llll}\n",
      "\\hline\n",
      " Country     & median fraction soccer related cases   & probability soccer increased cases   & fraction secondary infections until 31.07.2021   \\\\\n",
      "\\hline\n",
      " England     & 12.4\\% [5.6\\%, 22.5\\%]                 & $> 99.9$\\%                           & 47.8\\% [36.0\\%, 62.9\\%]                          \\\\\n",
      " Czechia     & 9.7\\% [3.3\\%, 16.2\\%]                  & $> 99.9$\\%                           & 57.7\\% [28.7\\%, 72.6\\%]                          \\\\\n",
      " Scotland    & 3.3\\% [1.3\\%, 8.1\\%]                   & $> 99.9$\\%                           & 40.8\\% [30.9\\%, 50.3\\%]                          \\\\\n",
      " Spain       & 2.8\\% [-1.1\\%, 9.2\\%]                  & 91.8\\%                               & 26.9\\% [-16.9\\%, 69.2\\%]                         \\\\\n",
      " Germany     & 1.4\\% [-1.8\\%, 4.2\\%]                  & 86.7\\%                               & 23.6\\% [-38.0\\%, 48.6\\%]                         \\\\\n",
      " Austria     & 1.2\\% [-2.2\\%, 4.8\\%]                  & 79.4\\%                               & 25.2\\% [-65.0\\%, 65.2\\%]                         \\\\\n",
      " France      & 0.5\\% [-0.2\\%, 1.4\\%]                  & 94.1\\%                               & 23.6\\% [-8.6\\%, 47.0\\%]                          \\\\\n",
      " Slovakia    & 1.6\\% [-7.7\\%, 10.2\\%]                 & 70.8\\%                               & 17.3\\% [-95.7\\%, 60.0\\%]                         \\\\\n",
      " Belgium     & 0.6\\% [-2.3\\%, 4.2\\%]                  & 67.6\\%                               & 9.8\\% [-62.2\\%, 51.8\\%]                          \\\\\n",
      " Italy       & 2.1\\% [-5.8\\%, 10.9\\%]                 & 74.1\\%                               & 18.7\\% [-235.6\\%, 78.4\\%]                        \\\\\n",
      " Portugal    & 0.3\\% [-2.6\\%, 2.7\\%]                  & 60.6\\%                               & -4.1\\% [-57.4\\%, 26.9\\%]                         \\\\\n",
      " Netherlands & -1.5\\% [-3.3\\%, -0.2\\%]                & 1.5\\%                                & -50.6\\% [-114.6\\%, -1.7\\%]                       \\\\\n",
      "\\hline\n",
      "\\end{tabular}\n"
     ]
    }
   ],
   "source": [
    "from tabulate import tabulate\n",
    "headers = ['Country', 'median fraction soccer related cases', 'probability soccer increased cases', \"fraction secondary infections until 31.07.2021\"]\n",
    "print(tabulate(table, headers, tablefmt=\"latex_raw\"))"
   ]
  },
  {
   "cell_type": "markdown",
   "id": "b954b55f-b943-4598-ac06-bd8afc0b7ebc",
   "metadata": {},
   "source": [
    "## SI Table 2: Totals"
   ]
  },
  {
   "cell_type": "code",
   "execution_count": 9,
   "id": "fedbd097-e3c6-4ee8-af92-cf1e97c2b260",
   "metadata": {},
   "outputs": [],
   "source": [
    "table_2 = []\n",
    "for i, country in enumerate(countries):\n",
    "    \n",
    "    c = country_order_primar[i]\n",
    "\n",
    "    row = []\n",
    "    \n",
    "    primary_mean, primary_lower, primary_upper = np.percentile(primary_inci[c], q = (50,2.5,97.5), axis=0)\n",
    "    subs_mean, subs_lower, subs_upper = np.percentile(primary_and_subsequent_inci[c], q = (50,2.5,97.5), axis=0)\n",
    "    \n",
    "    row.append(country)\n",
    "    for m,l,u in zip(primary_mean, primary_lower, primary_upper):\n",
    "        row.append(f\"{m:.0f} [{l:.0f}, {u:.0f}]\")\n",
    "    for m,l,u in zip(subs_mean, subs_lower, subs_upper):\n",
    "        row.append(f\"{m:.0f} [{l:.0f}, {u:.0f}]\")    \n",
    "    \n",
    "    table_2.append(row)"
   ]
  },
  {
   "cell_type": "code",
   "execution_count": 10,
   "id": "90a4358c-a792-463d-9d79-ff3237a8d833",
   "metadata": {},
   "outputs": [
    {
     "name": "stdout",
     "output_type": "stream",
     "text": [
      "\\begin{tabular}{lllll}\n",
      "\\hline\n",
      " Country     & Primary cases per $10^6$ inhibitants (male)   & Primary cases per $10^6$ inhibitants (female)   & Primary and subsequent cases per $10^6$ inhibitants (male)   & Primary and subsequent cases per $10^6$ inhibitants (female)   \\\\\n",
      "\\hline\n",
      " England     & 3595 [2661, 5729]                             & 1686 [1143, 3453]                               & 11662 [9076, 15000]                                          & 9895 [7573, 13229]                                             \\\\\n",
      " Czechia     & 94 [40, 142]                                  & 65 [22, 108]                                    & 482 [241, 606]                                               & 453 [225, 573]                                                 \\\\\n",
      " Scotland    & 1352 [940, 1758]                              & 351 [222, 517]                                  & 8931 [6938, 10690]                                           & 7363 [5666, 8998]                                              \\\\\n",
      " Spain       & 594 [-217, 1722]                              & 387 [-160, 1346]                                & 4678 [-2905, 11859]                                          & 4472 [-2845, 11623]                                            \\\\\n",
      " Germany     & 55 [-121, 227]                                & 27 [-77, 131]                                   & 353 [-4336, 1454]                                            & 299 [-3873, 1284]                                              \\\\\n",
      " Austria     & 8 [-30, 38]                                   & 4 [-19, 25]                                     & 58 [-317, 200]                                               & 58 [-326, 203]                                                 \\\\\n",
      " France      & 15 [-16, 36]                                  & 7 [-11, 24]                                     & 189 [-301, 386]                                              & 166 [-269, 345]                                                \\\\\n",
      " Slovakia    & 42 [-70, 141]                                 & 23 [-45, 100]                                   & 688 [-1766, 1773]                                            & 625 [-1615, 1625]                                              \\\\\n",
      " Belgium     & 34 [-112, 198]                                & 18 [-81, 155]                                   & 427 [-2702, 2243]                                            & 411 [-2634, 2186]                                              \\\\\n",
      " Italy       & 43 [-12, 95]                                  & 27 [-8, 76]                                     & 1543 [-561, 3057]                                            & 1587 [-579, 3160]                                              \\\\\n",
      " Portugal    & 41 [-331, 340]                                & 25 [-247, 251]                                  & -459 [-6614, 3120]                                           & -489 [-6699, 3128]                                             \\\\\n",
      " Netherlands & -186 [-328, -31]                              & -98 [-222, -13]                                 & -4842 [-10872, -183]                                         & -4837 [-10982, -150]                                           \\\\\n",
      "\\hline\n",
      "\\end{tabular}\n"
     ]
    }
   ],
   "source": [
    "from tabulate import tabulate\n",
    "headers = ['Country', 'Primary cases per $10^6$ inhibitants (male)', 'Primary cases per $10^6$ inhibitants (female)', \"Primary and subsequent cases per $10^6$ inhibitants (male)\",\"Primary and subsequent cases per $10^6$ inhibitants (female)\"]\n",
    "print(tabulate(table_2, headers, tablefmt=\"latex_raw\"))"
   ]
  },
  {
   "cell_type": "code",
   "execution_count": 11,
   "id": "75bf3535-ed05-42ef-b313-8b5c986d6223",
   "metadata": {},
   "outputs": [
    {
     "name": "stderr",
     "output_type": "stream",
     "text": [
      "INFO     [covid19_inference.data_retrieval.retrieval] Successfully downloaded OurWorldinData.csv.gz to /tmp/covid19_data/.\n",
      "INFO     [covid19_inference.data_retrieval.retrieval] Local backup to /tmp/covid19_data/OurWorldinData.csv.gz successful.\n",
      "<ipython-input-11-37afb5ee1ce6>:12: SettingWithCopyWarning: \n",
      "A value is trying to be set on a copy of a slice from a DataFrame.\n",
      "Try using .loc[row_indexer,col_indexer] = value instead\n",
      "\n",
      "See the caveats in the documentation: https://pandas.pydata.org/pandas-docs/stable/user_guide/indexing.html#returning-a-view-versus-a-copy\n",
      "  df[\"ifr\"] = df[\"new_deaths\"]/df[\"new_cases\"]\n"
     ]
    }
   ],
   "source": [
    "table_2_5 = []\n",
    "owd = cov19.data_retrieval.OWD(True)\n",
    "\n",
    "for i, country in enumerate(countries):\n",
    "    row = []\n",
    "    c = country_order_primar[i]\n",
    "    \n",
    "    if country in [\"Scotland\",\"England\"]:\n",
    "        df = owd.data[owd.data[\"country\"] == \"United Kingdom\"]\n",
    "    else:\n",
    "        df = owd.data[owd.data[\"country\"] == country]\n",
    "    df[\"ifr\"] = df[\"new_deaths\"]/df[\"new_cases\"]\n",
    "\n",
    "    primary_mean, primary_lower, primary_upper = np.percentile(primary_cases[c], q = (50,2.5,97.5), axis=0)\n",
    "    subs_mean, subs_lower, subs_upper = np.percentile(np.sum(primary_and_subsequent_cases[c],axis=-1), q = (50,2.5,97.5), axis=0)\n",
    "    fat_mean, fat_lower, fat_upper = np.percentile(np.sum(primary_and_subsequent_cases[c],axis=-1)*df[\"ifr\"][begin:end].mean(), q = (50,2.5,97.5), axis=0)\n",
    "    \n",
    "    row.append(country)\n",
    "    for m,l,u in zip(primary_mean, primary_lower, primary_upper):\n",
    "        row.append(f\"{m:.0f} [{l:.0f}, {u:.0f}]\")\n",
    "\n",
    "    row.append(f\"{subs_mean:.0f} [{subs_lower:.0f}, {subs_upper:.0f}]\")    \n",
    "    \n",
    "    # Fatility\n",
    "    row.append(f\"{fat_mean:.0f} [{fat_lower:.0f}, {fat_upper:.0f}]\")\n",
    "    \n",
    "    table_2_5.append(row)\n",
    "    \n",
    "def reduce_samples(curr_list):\n",
    "    number_of_samples = 2000\n",
    "    for i, array in enumerate(curr_list):\n",
    "        array = array[np.random.choice(array.shape[0], number_of_samples, replace = False),...]\n",
    "        curr_list[i] = array\n",
    "    return np.array(curr_list)\n",
    "\n",
    "row= []\n",
    "pc = reduce_samples(primary_cases)\n",
    "psc = reduce_samples(primary_and_subsequent_cases)\n",
    "\n",
    "primary_mean, primary_lower, primary_upper = np.percentile(np.sum(pc,axis=0), q = (50,2.5,97.5), axis=0)\n",
    "subs_mean, subs_lower, subs_upper = np.percentile(np.sum(psc,axis=(0,-1)), q = (50,2.5,97.5), axis=0)\n",
    "fat_mean, fat_lower, fat_upper = np.percentile(np.sum(psc,axis=(0,-1))*0.002, q = (50,2.5,97.5), axis=0)\n",
    "\n",
    "row.append(\"Total\")\n",
    "for m,l,u in zip(primary_mean, primary_lower, primary_upper):\n",
    "    row.append(f\"{m:.0f} [{l:.0f}, {u:.0f}]\")\n",
    "\n",
    "row.append(f\"{subs_mean:.0f} [{subs_lower:.0f}, {subs_upper:.0f}]\")    \n",
    "\n",
    "# Fatility\n",
    "row.append(f\"{fat_mean:.0f} [{fat_lower:.0f}, {fat_upper:.0f}]\")\n",
    "\n",
    "table_2_5.append(row)"
   ]
  },
  {
   "cell_type": "code",
   "execution_count": 12,
   "id": "38485f50-4dfc-40b3-82ec-987293177975",
   "metadata": {},
   "outputs": [
    {
     "name": "stdout",
     "output_type": "stream",
     "text": [
      "\\begin{tabular}{lllll}\n",
      "\\hline\n",
      " Country     & Primary cases (male)   & Primary cases (female)   & Primary and subsequent cases   & Number of associated deaths   \\\\\n",
      "\\hline\n",
      " England     & 93731 [69372, 149362]  & 43950 [29803, 90013]     & 561929 [433925, 735557]        & 765 [591, 1001]               \\\\\n",
      " Czechia     & 494 [209, 749]         & 343 [113, 568]           & 4920 [2449, 6185]              & 98 [49, 123]                  \\\\\n",
      " Scotland    & 3471 [2414, 4514]      & 902 [570, 1329]          & 41819 [32494, 50458]           & 57 [44, 69]                   \\\\\n",
      " Spain       & 13670 [-4992, 39611]   & 8904 [-3676, 30973]      & 210403 [-132282, 540001]       & 631 [-397, 1620]              \\\\\n",
      " Germany     & 1618 [-3575, 6740]     & 804 [-2290, 3894]        & 19317 [-242405, 80885]         & 826 [-10370, 3460]            \\\\\n",
      " Austria     & 21 [-80, 101]          & 11 [-50, 68]             & 310 [-1709, 1071]              & 5 [-28, 18]                   \\\\\n",
      " France      & 609 [-663, 1488]       & 308 [-467, 965]          & 14571 [-23459, 30034]          & 198 [-320, 409]               \\\\\n",
      " Slovakia    & 185 [-308, 624]        & 102 [-199, 442]          & 5804 [-14881, 15011]           & 229 [-586, 592]               \\\\\n",
      " Belgium     & 194 [-642, 1138]       & 103 [-465, 887]          & 4807 [-30556, 25435]           & 30 [-190, 158]                \\\\\n",
      " Italy       & 1359 [-388, 2989]      & 850 [-246, 2386]         & 98891 [-36045, 196341]         & 2136 [-779, 4241]             \\\\\n",
      " Portugal    & 200 [-1615, 1657]      & 123 [-1206, 1223]        & -4630 [-64863, 30500]          & -13 [-176, 83]                \\\\\n",
      " Netherlands & -1587 [-2806, -261]    & -842 [-1896, -108]       & -82757 [-186891, -2865]        & -132 [-298, -5]               \\\\\n",
      " Total       & 115934 [80636, 177796] & 57934 [35265, 107007]    & 831434 [353638, 1259864]       & 1663 [707, 2520]              \\\\\n",
      "\\hline\n",
      "\\end{tabular}\n"
     ]
    }
   ],
   "source": [
    "from tabulate import tabulate\n",
    "headers = ['Country', 'Primary cases (male)', 'Primary cases (female)', \"Primary and subsequent cases\", \"Number of associated deaths\"]\n",
    "print(tabulate(table_2_5, headers, tablefmt=\"latex_raw\"))"
   ]
  },
  {
   "cell_type": "markdown",
   "id": "769d6dff-5bf7-4eef-b919-71a7733cb968",
   "metadata": {},
   "source": [
    "## SI Table 3: Number of games hosted and played"
   ]
  },
  {
   "cell_type": "code",
   "execution_count": 27,
   "id": "59c28a4e-d996-4a62-a597-37d9185b7324",
   "metadata": {},
   "outputs": [],
   "source": [
    "table_3 = []\n",
    "df = pd.read_csv(\"../../data/em_game_data.csv\",header=2)\n",
    "df = df[~df[\"id\"].str.contains(\"a\")] # Filter extra games we added for validation these are suffixed with a\n",
    "\n",
    "\n",
    "country2location = {\n",
    "    \"GB-ENG\":\"London\",\n",
    "    \"IT\":\"Rome\",\n",
    "    \"AZ\":\"Baku\",\n",
    "    \"DE\":\"Munich\",\n",
    "    \"RU\":\"Saint Petersburg\",\n",
    "    \"HU\":\"Budapest\",\n",
    "    \"ES\":\"Seville\",\n",
    "    \"RO\":\"Bucharest\",\n",
    "    \"NL\":\"Amsterdam\",\n",
    "    \"GB-SCT\":\"Glasgow\",\n",
    "    \"DK\":\"Copenhagen\"\n",
    "}\n",
    "country_order_primar = list(range(len(countries)))\n",
    "for i, country in enumerate(np.array(countries)):\n",
    "    c = country_order_primar[i]\n",
    "    iso2 = dls[c].countries_iso2[0]\n",
    "    gamesByTeam = df[df[' team1'].str.contains(iso2) | df[' team2'].str.contains(iso2)] \n",
    "    \n",
    "    \n",
    "    if iso2 in country2location:\n",
    "        location = country2location[iso2]\n",
    "        gamesHosted = df[df[' location'].str.contains(location)]\n",
    "    else:\n",
    "        location = \"placeholder\"\n",
    "        gamesHosted = np.zeros((0,8))\n",
    "    \n",
    "    union = df[df[' team1'].str.contains(iso2) | df[' team2'].str.contains(iso2) |  df[' location'].str.contains(location)]\n",
    "    row = []\n",
    "    row.append(country)\n",
    "    row.append(gamesByTeam.shape[0])\n",
    "    row.append(gamesHosted.shape[0])\n",
    "    row.append(union.shape[0])\n",
    "    \n",
    "    table_3.append(row)"
   ]
  },
  {
   "cell_type": "code",
   "execution_count": 28,
   "id": "c2767cfd-fc0e-4d65-bbe0-7e8199bbdb59",
   "metadata": {},
   "outputs": [
    {
     "name": "stdout",
     "output_type": "stream",
     "text": [
      "\\begin{tabular}{lrrr}\n",
      "\\hline\n",
      " Country     &   Matches played &   Matches hosted &   Union \\\\\n",
      "\\hline\n",
      " England     &                7 &                8 &       9 \\\\\n",
      " Czechia     &                5 &                0 &       5 \\\\\n",
      " Italy       &                7 &                4 &       8 \\\\\n",
      " Scotland    &                3 &                4 &       5 \\\\\n",
      " Spain       &                6 &                4 &       7 \\\\\n",
      " Germany     &                4 &                4 &       5 \\\\\n",
      " France      &                4 &                0 &       4 \\\\\n",
      " Slovakia    &                3 &                0 &       3 \\\\\n",
      " Austria     &                4 &                0 &       4 \\\\\n",
      " Belgium     &                5 &                0 &       5 \\\\\n",
      " Portugal    &                4 &                0 &       4 \\\\\n",
      " Netherlands &                4 &                4 &       5 \\\\\n",
      "\\hline\n",
      "\\end{tabular}\n"
     ]
    }
   ],
   "source": [
    "from tabulate import tabulate\n",
    "headers = ['Country', 'Matches played', 'Matches hosted',\"Union\"]\n",
    "print(tabulate(table_3, headers, tablefmt=\"latex_raw\"))"
   ]
  },
  {
   "cell_type": "code",
   "execution_count": null,
   "id": "3ffdee14-3906-4d30-be1d-bcf066ce96f0",
   "metadata": {},
   "outputs": [],
   "source": []
  }
 ],
 "metadata": {
  "kernelspec": {
   "display_name": "Python 3",
   "language": "python",
   "name": "python3"
  },
  "language_info": {
   "codemirror_mode": {
    "name": "ipython",
    "version": 3
   },
   "file_extension": ".py",
   "mimetype": "text/x-python",
   "name": "python",
   "nbconvert_exporter": "python",
   "pygments_lexer": "ipython3",
   "version": "3.8.10"
  }
 },
 "nbformat": 4,
 "nbformat_minor": 5
}
