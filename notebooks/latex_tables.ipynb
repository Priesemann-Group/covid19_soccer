{
 "cells": [
  {
   "cell_type": "code",
   "execution_count": 15,
   "metadata": {},
   "outputs": [],
   "source": [
    "import pickle\n",
    "import sys\n",
    "import matplotlib\n",
    "import matplotlib.pyplot as plt\n",
    "import matplotlib.dates as mdates\n",
    "import matplotlib.ticker as mtick\n",
    "import numpy as np\n",
    "import pandas as pd\n",
    "import datetime\n",
    "import seaborn as sns\n",
    "from tabulate import tabulate\n",
    "import pymc3 as pm\n",
    "from tqdm import tqdm\n",
    "import os\n",
    "\n",
    "\n",
    "sys.path.append(\"../\")\n",
    "sys.path.append(\"../covid19_inference\")\n",
    "\n",
    "import covid19_soccer\n",
    "from covid19_soccer.plot.utils import get_from_trace\n",
    "import covid19_inference as cov19"
   ]
  },
  {
   "cell_type": "code",
   "execution_count": 10,
   "metadata": {},
   "outputs": [
    {
     "name": "stdout",
     "output_type": "stream",
     "text": [
      "The autoreload extension is already loaded. To reload it, use:\n",
      "  %reload_ext autoreload\n"
     ]
    }
   ],
   "source": [
    "%load_ext autoreload\n",
    "%autoreload 2"
   ]
  },
  {
   "cell_type": "code",
   "execution_count": 3,
   "metadata": {},
   "outputs": [],
   "source": [
    "\"\"\" Matplotlib config\n",
    "\"\"\"\n",
    "matplotlib.rcParams.update(matplotlib.rcParamsDefault)\n",
    "matplotlib.rcParams['font.family'] = \"sans-serif\"\n",
    "matplotlib.rcParams[\"figure.figsize\"] = [3.4, 2.7]  # APS single column\n",
    "matplotlib.rcParams[\"figure.dpi\"] = 300  # this primarily affects the size on screen\n",
    "#matplotlib.rcParams['axes.linewidth'] = 0.3\n",
    "matplotlib.rcParams[\"axes.labelcolor\"] = \"black\"\n",
    "matplotlib.rcParams[\"axes.edgecolor\"] = \"black\"\n",
    "matplotlib.rcParams[\"xtick.color\"] = \"black\"\n",
    "matplotlib.rcParams[\"ytick.color\"] = \"black\"\n",
    "matplotlib.rcParams[\"xtick.labelsize\"] = 8\n",
    "matplotlib.rcParams[\"ytick.labelsize\"] = 8\n",
    "matplotlib.rcParams[\"axes.labelsize\"] = 8\n",
    "matplotlib.rcParams[\"axes.titlesize\"]= 10\n",
    "matplotlib.rcParams[\"legend.fontsize\"] = 6\n",
    "matplotlib.rcParams[\"legend.title_fontsize\"] = 8\n",
    "\n",
    "\"\"\" Colors\n",
    "Done with rcParams / see plot.rcParams\n",
    "\"\"\"\n",
    "\n",
    "\n",
    "\"\"\" General configs\n",
    "\"\"\"\n",
    "fig_path = \"./figures\"\n",
    "countries = ['England', \n",
    "         \"Czechia\",\n",
    "         \"Italy\",\n",
    "         'Scotland',\n",
    "         \"Spain\",\n",
    "         \"Germany\",\n",
    "         \"France\",\n",
    "         \"Austria\", \n",
    "         'Belgium', \n",
    "         \"Slovakia\", \n",
    "         \"Portugal\", \n",
    "         \"Netherlands\"]\n",
    "xlim_ts = [datetime.datetime(2021,5,30),datetime.datetime(2021,7,23)] # Plotting range\n",
    "tune = 500\n",
    "draws = 1000 \n",
    "max_treedepth = 12\n",
    "offset = 0 #offset of soccer games, mainly for sanity checks\n",
    "width_prior_delay = 0.1"
   ]
  },
  {
   "cell_type": "code",
   "execution_count": 21,
   "metadata": {},
   "outputs": [],
   "source": [
    "def load(fstr):\n",
    "    with open(fstr, \"rb\") as f:\n",
    "         return pickle.load(f)\n",
    "\n",
    "models,traces,dls = {},{},{}\n",
    "for country in tqdm(countries):\n",
    "    # Load trace, model and dataloader\n",
    "    #'UEFA-beta=False-country=France-offset_games=0-draw_delay=True-weighted_alpha_prior=False-prior_delay=-1-tune=1000-draws=1500-max_treedepth=12.pickled'\n",
    "    #'UEFA-beta=False-country=France-offset_games=0-draw_delay=True-weighted_alpha_prior=0-prior_delay=-1-width_delay_prior=0.1-sigma_incubation=-1.0-median_width_delay=1.5-tune=200-draws=300-max_treedepth=10.pickled'\n",
    "\n",
    "    fstr=lambda tune, draws, max_treedepth: (f\"/data.nst/jdehning/covid_uefa_traces11/UEFA\"+\n",
    "        f\"-beta=False\"+\n",
    "        f\"-country={country}\"+\n",
    "        f\"-offset_data=0\"+\n",
    "        f\"-draw_delay=True\"+\n",
    "        f\"-weighted_alpha_prior=0\"+\n",
    "        f\"-prior_delay=-1\"+\n",
    "        f\"-width_delay_prior=0.1\"+\n",
    "        f\"-sigma_incubation=-1.0\"+\n",
    "        f\"-median_width_delay={1.0}\"+\n",
    "        f\"-interval_cps={10.0}\"+\n",
    "#        f\"-f_fem={0.2}\"+\n",
    "#        f\"-len=normal\"+\n",
    "        f\"-tune={tune}\"+\n",
    "        f\"-draws={draws}\"+\n",
    "        f\"-max_treedepth={max_treedepth}.pickled\")\n",
    "    if os.path.exists(fstr(tune, draws, max_treedepth)):\n",
    "        model, trace = load(fstr(tune, draws, max_treedepth))\n",
    "    elif os.path.exists(fstr(200, 300, 10)):\n",
    "        print(f\"Use short runs for {country}\")\n",
    "        model, trace = load(fstr(200, 300, 10))\n",
    "    else: \n",
    "        print(fstr(tune, draws), \" not found\")\n",
    "        continue\n",
    "    dl = covid19_soccer.dataloader.Dataloader_gender(countries=[country])\n",
    "    models[country]=model\n",
    "    traces[country]=trace\n",
    "    dls[country]=dl"
   ]
  },
  {
   "cell_type": "code",
   "execution_count": 26,
   "metadata": {},
   "outputs": [
    {
     "name": "stderr",
     "output_type": "stream",
     "text": [
      "100%|██████████| 12/12 [1:01:09<00:00, 305.79s/it]\n"
     ]
    }
   ],
   "source": [
    "begin = datetime.datetime(2021, 6, 11)\n",
    "end = datetime.datetime(2021, 7, 11)\n",
    "end_sec = datetime.datetime(2021,7,31)\n",
    "\n",
    "perc_secondary_cases = {}\n",
    "\n",
    "for country in tqdm(countries):\n",
    "    trace_without_effect = traces[country].copy()\n",
    "    trace_without_effect.posterior[\"Delta_alpha_g_sparse\"] = trace_without_effect.posterior[\"Delta_alpha_g_sparse\"]*0\n",
    "    trace_without_effect.posterior[\"alpha_mean\"] = trace_without_effect.posterior[\"alpha_mean\"]*0\n",
    "    cases_without_effect = pm.fast_sample_posterior_predictive(trace_without_effect, model=models[country], var_names=['new_cases'], keep_size=True)['new_cases']\n",
    "    i_begin = (begin - models[country].sim_begin).days\n",
    "    i_end_sec = (end_sec - models[country].sim_begin).days + 1  # inclusiv last day\n",
    "    sum_cases_without_effect = np.sum(cases_without_effect[...,i_begin:i_end_sec,:], axis=(-2, -1))\n",
    "    sum_cases_with_effect = np.sum(traces[country].posterior['new_cases'][...,i_begin:i_end_sec,:], axis=(-2, -1))\n",
    "    perc_secondary_cases[country] = (sum_cases_with_effect-sum_cases_without_effect)/sum_cases_with_effect * 100\n",
    "    "
   ]
  },
  {
   "cell_type": "code",
   "execution_count": null,
   "outputs": [],
   "source": [
    "\n",
    "table = []\n",
    "for country in countries:\n",
    "    infections_base, infections_alpha = covid19_soccer.plot.other.get_alpha_infections(traces[country], models[country], dls[country]) \n",
    "    i_begin = (begin - models[country].sim_begin).days\n",
    "    i_end = (end - models[country].sim_begin).days + 1  # inclusiv last day\n",
    "\n",
    "    # Sum over the choosen range (i.e. month of uefa championship)\n",
    "    num_infections_base = np.sum(infections_base[..., i_begin:i_end, :], axis=(-2,-1))\n",
    "    num_infections_alpha = np.sum(infections_alpha[..., i_begin:i_end, :], axis=(-2,-1))\n",
    "\n",
    "    # Create pandas dataframe for easy violin plot\n",
    "    percentage_soccer = num_infections_alpha / (\n",
    "        num_infections_base + num_infections_alpha\n",
    "    )*100\n",
    "    CI = np.percentile(percentage_soccer, q = (2.5,50,97.5))\n",
    "    num_samples = np.prod(percentage_soccer.shape)\n",
    "    prob_positive = np.sum(percentage_soccer > 0)/num_samples*100\n",
    "    if prob_positive > 99.9:\n",
    "        text_prob_pos = \"$> 99.9$\\%\"\n",
    "\n",
    "    else:\n",
    "        text_prob_pos = f\"{prob_positive:.1f}\\%\"\n",
    "    \n",
    "    CI_sec = np.percentile(perc_secondary_cases[country], q = (2.5,50,97.5))\n",
    "    \n",
    "    table.append([country, f\"{CI[1]:.1f}\\% (CI: [{CI[0]:.1f}\\%, {CI[2]:.1f}\\%])\", text_prob_pos,\n",
    "                 f\"{CI_sec[1]:.1f}\\% (CI: [{CI_sec[0]:.1f}\\%, {CI_sec[2]:.1f}\\%])\"])\n",
    "\n",
    "\n",
    "headers = ['Country', 'median fraction soccer related cases', 'probability soccer increased cases', \"fraction secondary infections until 31.07.2021\"]\n",
    "print(tabulate(table, headers, tablefmt=\"latex_raw\"))"
   ],
   "metadata": {
    "collapsed": false,
    "pycharm": {
     "name": "#%%\n"
    }
   }
  },
  {
   "cell_type": "code",
   "execution_count": 27,
   "metadata": {},
   "outputs": [
    {
     "name": "stdout",
     "output_type": "stream",
     "text": [
      "\\begin{tabular}{llll}\n",
      "\\hline\n",
      " Country     & median fraction soccer related cases   & probability soccer increased cases   & fraction secondary infections until 31.07.2021   \\\\\n",
      "\\hline\n",
      " England     & 8.9\\% (CI: [6.1\\%, 11.6\\%])            & $> 99.9$\\%                           & 41.0\\% (CI: [29.1\\%, 51.3\\%])                    \\\\\n",
      " Czechia     & 5.5\\% (CI: [0.7\\%, 11.4\\%])            & 98.8\\%                               & 40.6\\% (CI: [4.6\\%, 63.9\\%])                     \\\\\n",
      " Italy       & 6.3\\% (CI: [-4.6\\%, 15.8\\%])           & 87.7\\%                               & 35.6\\% (CI: [-94.2\\%, 73.9\\%])                   \\\\\n",
      " Scotland    & 4.3\\% (CI: [3.2\\%, 5.6\\%])             & $> 99.9$\\%                           & 43.1\\% (CI: [34.9\\%, 51.5\\%])                    \\\\\n",
      " Spain       & 1.8\\% (CI: [-0.5\\%, 3.8\\%])            & 95.5\\%                               & 16.8\\% (CI: [-8.0\\%, 37.9\\%])                    \\\\\n",
      " Germany     & 1.1\\% (CI: [-1.9\\%, 3.7\\%])            & 79.3\\%                               & 13.1\\% (CI: [-28.0\\%, 37.1\\%])                   \\\\\n",
      " France      & 0.8\\% (CI: [-0.5\\%, 2.5\\%])            & 88.8\\%                               & 13.3\\% (CI: [-10.4\\%, 35.8\\%])                   \\\\\n",
      " Austria     & 0.6\\% (CI: [-3.0\\%, 4.3\\%])            & 63.8\\%                               & 8.0\\% (CI: [-56.1\\%, 46.0\\%])                    \\\\\n",
      " Belgium     & 0.4\\% (CI: [-2.0\\%, 2.7\\%])            & 63.8\\%                               & 5.3\\% (CI: [-35.7\\%, 33.1\\%])                    \\\\\n",
      " Slovakia    & 1.1\\% (CI: [-8.2\\%, 7.4\\%])            & 63.0\\%                               & 8.8\\% (CI: [-85.9\\%, 46.5\\%])                    \\\\\n",
      " Portugal    & -0.1\\% (CI: [-1.9\\%, 1.4\\%])           & 43.8\\%                               & -6.6\\% (CI: [-34.8\\%, 13.8\\%])                   \\\\\n",
      " Netherlands & -0.7\\% (CI: [-1.8\\%, 3.5\\%])           & 13.2\\%                               & -22.1\\% (CI: [-89.5\\%, 99.0\\%])                  \\\\\n",
      "\\hline\n",
      "\\end{tabular}\n"
     ]
    }
   ],
   "source": []
  },
  {
   "cell_type": "code",
   "execution_count": null,
   "metadata": {},
   "outputs": [],
   "source": []
  }
 ],
 "metadata": {
  "interpreter": {
   "hash": "ab6c1b14cab61e3769b47d512afde807dc481ee7f06a4529ae70844f67d47ab7"
  },
  "kernelspec": {
   "display_name": "Python 3",
   "language": "python",
   "name": "python3"
  },
  "language_info": {
   "codemirror_mode": {
    "name": "ipython",
    "version": 3
   },
   "file_extension": ".py",
   "mimetype": "text/x-python",
   "name": "python",
   "nbconvert_exporter": "python",
   "pygments_lexer": "ipython3",
   "version": "3.8.10"
  }
 },
 "nbformat": 4,
 "nbformat_minor": 4
}